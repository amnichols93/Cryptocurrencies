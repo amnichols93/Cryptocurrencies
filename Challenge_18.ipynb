{
 "cells": [
  {
   "cell_type": "code",
   "execution_count": 428,
   "metadata": {},
   "outputs": [],
   "source": [
    "import pandas as pd\n",
    "import plotly.express as px\n",
    "import hvplot.pandas\n",
    "from sklearn.cluster import KMeans\n",
    "import numpy as np\n",
    "\n",
    "from sklearn.preprocessing import StandardScaler\n",
    "from sklearn.decomposition import PCA\n",
    "\n",
    "from sklearn.cluster import AgglomerativeClustering\n",
    "import plotly.figure_factory as ff"
   ]
  },
  {
   "cell_type": "code",
   "execution_count": 429,
   "metadata": {},
   "outputs": [],
   "source": [
    "def initial_data_info(df):\n",
    "    print('DATA TYPES:')\n",
    "    display(df.dtypes)\n",
    "    print('\\nNULL VALUES:')\n",
    "    for column in df.columns:\n",
    "        print(f\"Column '{column}' has {df[column].isnull().sum()} null values.\")\n",
    "    print('\\nDUPLICATE ENTRIES:')\n",
    "    print(f\"{df.duplicated().sum()}\\n\")\n",
    "    display(df.head())\n",
    "    \n",
    "def drop_column(df, column):\n",
    "    df.drop(columns=[column], inplace=True)\n",
    "    display(df.head())\n",
    "\n",
    "def load_csv(file_path, df='dataframe'):\n",
    "    df = pd.read_csv(file_path)\n",
    "    return df\n",
    "\n",
    "def save_csv(file_path, df):\n",
    "    df.to_csv(file_path, index=False)\n",
    "    \n",
    "def test_cluster_amount(df, clusters):\n",
    "    model = KMeans(n_clusters=clusters, random_state=5)\n",
    "    model.fit(df)\n",
    "    df[\"class\"] = model.labels_\n",
    "    \n",
    "def elbow_curve(df, xstart=1, xend=11):\n",
    "    inertia = []\n",
    "    k = list(range(xstart, xend))\n",
    "    for i in k:\n",
    "        km = KMeans(n_clusters=i, random_state=0)\n",
    "        km.fit(df)\n",
    "        inertia.append(km.inertia_)   \n",
    "    elbow_data = {\"k\": k, \"inertia\": inertia}\n",
    "    df_elbow = pd.DataFrame(elbow_data)\n",
    "    display(df_elbow.hvplot.line(x=\"k\", y=\"inertia\", title=\"Elbow Curve\", xticks=k))\n",
    "    \n",
    "def get_clusters(k, data):\n",
    "    data = data.copy()\n",
    "    model = KMeans(n_clusters=k, random_state=0)\n",
    "    model.fit(data)\n",
    "    predictions = model.predict(data)\n",
    "    data[\"class\"] = model.labels_\n",
    "    return data"
   ]
  },
  {
   "cell_type": "markdown",
   "metadata": {},
   "source": [
    "# Data Preprocessing"
   ]
  },
  {
   "cell_type": "code",
   "execution_count": 430,
   "metadata": {},
   "outputs": [
    {
     "name": "stdout",
     "output_type": "stream",
     "text": [
      "DATA TYPES:\n"
     ]
    },
    {
     "data": {
      "text/plain": [
       "Unnamed: 0          object\n",
       "CoinName            object\n",
       "Algorithm           object\n",
       "IsTrading             bool\n",
       "ProofType           object\n",
       "TotalCoinsMined    float64\n",
       "TotalCoinSupply     object\n",
       "dtype: object"
      ]
     },
     "metadata": {},
     "output_type": "display_data"
    },
    {
     "name": "stdout",
     "output_type": "stream",
     "text": [
      "\n",
      "NULL VALUES:\n",
      "Column 'Unnamed: 0' has 0 null values.\n",
      "Column 'CoinName' has 0 null values.\n",
      "Column 'Algorithm' has 0 null values.\n",
      "Column 'IsTrading' has 0 null values.\n",
      "Column 'ProofType' has 0 null values.\n",
      "Column 'TotalCoinsMined' has 508 null values.\n",
      "Column 'TotalCoinSupply' has 0 null values.\n",
      "\n",
      "DUPLICATE ENTRIES:\n",
      "0\n",
      "\n"
     ]
    },
    {
     "data": {
      "text/html": [
       "<div>\n",
       "<style scoped>\n",
       "    .dataframe tbody tr th:only-of-type {\n",
       "        vertical-align: middle;\n",
       "    }\n",
       "\n",
       "    .dataframe tbody tr th {\n",
       "        vertical-align: top;\n",
       "    }\n",
       "\n",
       "    .dataframe thead th {\n",
       "        text-align: right;\n",
       "    }\n",
       "</style>\n",
       "<table border=\"1\" class=\"dataframe\">\n",
       "  <thead>\n",
       "    <tr style=\"text-align: right;\">\n",
       "      <th></th>\n",
       "      <th>Unnamed: 0</th>\n",
       "      <th>CoinName</th>\n",
       "      <th>Algorithm</th>\n",
       "      <th>IsTrading</th>\n",
       "      <th>ProofType</th>\n",
       "      <th>TotalCoinsMined</th>\n",
       "      <th>TotalCoinSupply</th>\n",
       "    </tr>\n",
       "  </thead>\n",
       "  <tbody>\n",
       "    <tr>\n",
       "      <th>0</th>\n",
       "      <td>42</td>\n",
       "      <td>42 Coin</td>\n",
       "      <td>Scrypt</td>\n",
       "      <td>True</td>\n",
       "      <td>PoW/PoS</td>\n",
       "      <td>4.199995e+01</td>\n",
       "      <td>42</td>\n",
       "    </tr>\n",
       "    <tr>\n",
       "      <th>1</th>\n",
       "      <td>365</td>\n",
       "      <td>365Coin</td>\n",
       "      <td>X11</td>\n",
       "      <td>True</td>\n",
       "      <td>PoW/PoS</td>\n",
       "      <td>NaN</td>\n",
       "      <td>2300000000</td>\n",
       "    </tr>\n",
       "    <tr>\n",
       "      <th>2</th>\n",
       "      <td>404</td>\n",
       "      <td>404Coin</td>\n",
       "      <td>Scrypt</td>\n",
       "      <td>True</td>\n",
       "      <td>PoW/PoS</td>\n",
       "      <td>1.055185e+09</td>\n",
       "      <td>532000000</td>\n",
       "    </tr>\n",
       "    <tr>\n",
       "      <th>3</th>\n",
       "      <td>611</td>\n",
       "      <td>SixEleven</td>\n",
       "      <td>SHA-256</td>\n",
       "      <td>True</td>\n",
       "      <td>PoW</td>\n",
       "      <td>NaN</td>\n",
       "      <td>611000</td>\n",
       "    </tr>\n",
       "    <tr>\n",
       "      <th>4</th>\n",
       "      <td>808</td>\n",
       "      <td>808</td>\n",
       "      <td>SHA-256</td>\n",
       "      <td>True</td>\n",
       "      <td>PoW/PoS</td>\n",
       "      <td>0.000000e+00</td>\n",
       "      <td>0</td>\n",
       "    </tr>\n",
       "  </tbody>\n",
       "</table>\n",
       "</div>"
      ],
      "text/plain": [
       "  Unnamed: 0   CoinName Algorithm  IsTrading ProofType  TotalCoinsMined  \\\n",
       "0         42    42 Coin    Scrypt       True   PoW/PoS     4.199995e+01   \n",
       "1        365    365Coin       X11       True   PoW/PoS              NaN   \n",
       "2        404    404Coin    Scrypt       True   PoW/PoS     1.055185e+09   \n",
       "3        611  SixEleven   SHA-256       True       PoW              NaN   \n",
       "4        808        808   SHA-256       True   PoW/PoS     0.000000e+00   \n",
       "\n",
       "  TotalCoinSupply  \n",
       "0              42  \n",
       "1      2300000000  \n",
       "2       532000000  \n",
       "3          611000  \n",
       "4               0  "
      ]
     },
     "metadata": {},
     "output_type": "display_data"
    }
   ],
   "source": [
    "crypto_df = pd.read_csv(\"Resources/crypto_data.csv\")\n",
    "initial_data_info(crypto_df)"
   ]
  },
  {
   "cell_type": "code",
   "execution_count": 431,
   "metadata": {},
   "outputs": [],
   "source": [
    "def change_bool(status):\n",
    "    if status == True:\n",
    "        return 1\n",
    "    else:\n",
    "        return 0\n",
    "    \n",
    "crypto_df['IsTrading'] = crypto_df['IsTrading'].apply(change_bool)"
   ]
  },
  {
   "cell_type": "code",
   "execution_count": 432,
   "metadata": {},
   "outputs": [],
   "source": [
    "crypto_df = crypto_df[crypto_df['IsTrading'] == 1]"
   ]
  },
  {
   "cell_type": "code",
   "execution_count": 433,
   "metadata": {},
   "outputs": [],
   "source": [
    "crypto_df = crypto_df.dropna(subset=['Algorithm'])"
   ]
  },
  {
   "cell_type": "code",
   "execution_count": 434,
   "metadata": {},
   "outputs": [],
   "source": [
    "crypto_df = crypto_df.drop(columns=['IsTrading'])"
   ]
  },
  {
   "cell_type": "code",
   "execution_count": 435,
   "metadata": {},
   "outputs": [],
   "source": [
    "crypto_df = crypto_df.dropna()"
   ]
  },
  {
   "cell_type": "code",
   "execution_count": 436,
   "metadata": {},
   "outputs": [
    {
     "data": {
      "text/html": [
       "<div>\n",
       "<style scoped>\n",
       "    .dataframe tbody tr th:only-of-type {\n",
       "        vertical-align: middle;\n",
       "    }\n",
       "\n",
       "    .dataframe tbody tr th {\n",
       "        vertical-align: top;\n",
       "    }\n",
       "\n",
       "    .dataframe thead th {\n",
       "        text-align: right;\n",
       "    }\n",
       "</style>\n",
       "<table border=\"1\" class=\"dataframe\">\n",
       "  <thead>\n",
       "    <tr style=\"text-align: right;\">\n",
       "      <th></th>\n",
       "      <th>CoinName</th>\n",
       "      <th>Algorithm</th>\n",
       "      <th>ProofType</th>\n",
       "      <th>TotalCoinsMined</th>\n",
       "      <th>TotalCoinSupply</th>\n",
       "    </tr>\n",
       "  </thead>\n",
       "  <tbody>\n",
       "    <tr>\n",
       "      <th>1337</th>\n",
       "      <td>EliteCoin</td>\n",
       "      <td>X13</td>\n",
       "      <td>PoW/PoS</td>\n",
       "      <td>2.927942e+10</td>\n",
       "      <td>314159265359</td>\n",
       "    </tr>\n",
       "    <tr>\n",
       "      <th>1CR</th>\n",
       "      <td>1Credit</td>\n",
       "      <td>Scrypt</td>\n",
       "      <td>PoW</td>\n",
       "      <td>8.821300e+04</td>\n",
       "      <td>92000000000</td>\n",
       "    </tr>\n",
       "    <tr>\n",
       "      <th>404</th>\n",
       "      <td>404Coin</td>\n",
       "      <td>Scrypt</td>\n",
       "      <td>PoW/PoS</td>\n",
       "      <td>1.055185e+09</td>\n",
       "      <td>532000000</td>\n",
       "    </tr>\n",
       "    <tr>\n",
       "      <th>42</th>\n",
       "      <td>42 Coin</td>\n",
       "      <td>Scrypt</td>\n",
       "      <td>PoW/PoS</td>\n",
       "      <td>4.199995e+01</td>\n",
       "      <td>42</td>\n",
       "    </tr>\n",
       "    <tr>\n",
       "      <th>8BIT</th>\n",
       "      <td>8BIT Coin</td>\n",
       "      <td>Scrypt</td>\n",
       "      <td>PoW/PoS</td>\n",
       "      <td>1.467841e+06</td>\n",
       "      <td>0</td>\n",
       "    </tr>\n",
       "    <tr>\n",
       "      <th>...</th>\n",
       "      <td>...</td>\n",
       "      <td>...</td>\n",
       "      <td>...</td>\n",
       "      <td>...</td>\n",
       "      <td>...</td>\n",
       "    </tr>\n",
       "    <tr>\n",
       "      <th>ZET</th>\n",
       "      <td>ZetaCoin</td>\n",
       "      <td>SHA-256</td>\n",
       "      <td>PoW</td>\n",
       "      <td>1.702044e+08</td>\n",
       "      <td>169795588</td>\n",
       "    </tr>\n",
       "    <tr>\n",
       "      <th>ZNE</th>\n",
       "      <td>ZoneCoin</td>\n",
       "      <td>Scrypt</td>\n",
       "      <td>PoW/PoS</td>\n",
       "      <td>2.581970e+06</td>\n",
       "      <td>21000000</td>\n",
       "    </tr>\n",
       "    <tr>\n",
       "      <th>ZNY</th>\n",
       "      <td>BitZeny</td>\n",
       "      <td>Scrypt</td>\n",
       "      <td>PoW</td>\n",
       "      <td>7.561450e+07</td>\n",
       "      <td>250000000</td>\n",
       "    </tr>\n",
       "    <tr>\n",
       "      <th>ZOI</th>\n",
       "      <td>Zoin</td>\n",
       "      <td>Lyra2RE</td>\n",
       "      <td>PoW</td>\n",
       "      <td>1.854576e+07</td>\n",
       "      <td>21000000</td>\n",
       "    </tr>\n",
       "    <tr>\n",
       "      <th>ZYD</th>\n",
       "      <td>ZayedCoin</td>\n",
       "      <td>SHA-256</td>\n",
       "      <td>PoW</td>\n",
       "      <td>6.243840e+06</td>\n",
       "      <td>9736000</td>\n",
       "    </tr>\n",
       "  </tbody>\n",
       "</table>\n",
       "<p>533 rows × 5 columns</p>\n",
       "</div>"
      ],
      "text/plain": [
       "       CoinName Algorithm ProofType  TotalCoinsMined TotalCoinSupply\n",
       "1337  EliteCoin       X13   PoW/PoS     2.927942e+10    314159265359\n",
       "1CR     1Credit    Scrypt       PoW     8.821300e+04     92000000000\n",
       "404     404Coin    Scrypt   PoW/PoS     1.055185e+09       532000000\n",
       "42      42 Coin    Scrypt   PoW/PoS     4.199995e+01              42\n",
       "8BIT  8BIT Coin    Scrypt   PoW/PoS     1.467841e+06               0\n",
       "...         ...       ...       ...              ...             ...\n",
       "ZET    ZetaCoin   SHA-256       PoW     1.702044e+08       169795588\n",
       "ZNE    ZoneCoin    Scrypt   PoW/PoS     2.581970e+06        21000000\n",
       "ZNY     BitZeny    Scrypt       PoW     7.561450e+07       250000000\n",
       "ZOI        Zoin   Lyra2RE       PoW     1.854576e+07        21000000\n",
       "ZYD   ZayedCoin   SHA-256       PoW     6.243840e+06         9736000\n",
       "\n",
       "[533 rows x 5 columns]"
      ]
     },
     "execution_count": 436,
     "metadata": {},
     "output_type": "execute_result"
    }
   ],
   "source": [
    "crypto_df.drop(crypto_df[crypto_df['TotalCoinsMined'] == 0].index, inplace=True)\n",
    "crypto_df = crypto_df.set_index('Unnamed: 0')\n",
    "crypto_df = crypto_df.sort_index()\n",
    "crypto_df.index.name = None\n",
    "crypto_df"
   ]
  },
  {
   "cell_type": "code",
   "execution_count": 437,
   "metadata": {},
   "outputs": [],
   "source": [
    "coins_name = crypto_df.sort_values(['CoinName'], ascending=True)"
   ]
  },
  {
   "cell_type": "code",
   "execution_count": 438,
   "metadata": {},
   "outputs": [
    {
     "data": {
      "text/html": [
       "<div>\n",
       "<style scoped>\n",
       "    .dataframe tbody tr th:only-of-type {\n",
       "        vertical-align: middle;\n",
       "    }\n",
       "\n",
       "    .dataframe tbody tr th {\n",
       "        vertical-align: top;\n",
       "    }\n",
       "\n",
       "    .dataframe thead th {\n",
       "        text-align: right;\n",
       "    }\n",
       "</style>\n",
       "<table border=\"1\" class=\"dataframe\">\n",
       "  <thead>\n",
       "    <tr style=\"text-align: right;\">\n",
       "      <th></th>\n",
       "      <th>Algorithm</th>\n",
       "      <th>ProofType</th>\n",
       "      <th>TotalCoinsMined</th>\n",
       "      <th>TotalCoinSupply</th>\n",
       "    </tr>\n",
       "  </thead>\n",
       "  <tbody>\n",
       "    <tr>\n",
       "      <th>CLUB</th>\n",
       "      <td>Scrypt</td>\n",
       "      <td>PoW/PoS</td>\n",
       "      <td>1.036219e+08</td>\n",
       "      <td>160000000</td>\n",
       "    </tr>\n",
       "    <tr>\n",
       "      <th>MCT</th>\n",
       "      <td>Ethash</td>\n",
       "      <td>PoS</td>\n",
       "      <td>1.618033e+06</td>\n",
       "      <td>1618033</td>\n",
       "    </tr>\n",
       "    <tr>\n",
       "      <th>1CR</th>\n",
       "      <td>Scrypt</td>\n",
       "      <td>PoW</td>\n",
       "      <td>8.821300e+04</td>\n",
       "      <td>92000000000</td>\n",
       "    </tr>\n",
       "    <tr>\n",
       "      <th>404</th>\n",
       "      <td>Scrypt</td>\n",
       "      <td>PoW/PoS</td>\n",
       "      <td>1.055185e+09</td>\n",
       "      <td>532000000</td>\n",
       "    </tr>\n",
       "    <tr>\n",
       "      <th>42</th>\n",
       "      <td>Scrypt</td>\n",
       "      <td>PoW/PoS</td>\n",
       "      <td>4.199995e+01</td>\n",
       "      <td>42</td>\n",
       "    </tr>\n",
       "    <tr>\n",
       "      <th>...</th>\n",
       "      <td>...</td>\n",
       "      <td>...</td>\n",
       "      <td>...</td>\n",
       "      <td>...</td>\n",
       "    </tr>\n",
       "    <tr>\n",
       "      <th>ZNE</th>\n",
       "      <td>Scrypt</td>\n",
       "      <td>PoW/PoS</td>\n",
       "      <td>2.581970e+06</td>\n",
       "      <td>21000000</td>\n",
       "    </tr>\n",
       "    <tr>\n",
       "      <th>EBST</th>\n",
       "      <td>Scrypt</td>\n",
       "      <td>PoW</td>\n",
       "      <td>9.999000e+07</td>\n",
       "      <td>100000000</td>\n",
       "    </tr>\n",
       "    <tr>\n",
       "      <th>GCN</th>\n",
       "      <td>Scrypt</td>\n",
       "      <td>PoW</td>\n",
       "      <td>1.630551e+11</td>\n",
       "      <td>200000000000</td>\n",
       "    </tr>\n",
       "    <tr>\n",
       "      <th>IBANK</th>\n",
       "      <td>Scrypt</td>\n",
       "      <td>PoW/PoS</td>\n",
       "      <td>4.526324e+06</td>\n",
       "      <td>44333333</td>\n",
       "    </tr>\n",
       "    <tr>\n",
       "      <th>DEAL</th>\n",
       "      <td>Scrypt</td>\n",
       "      <td>PoW/PoS</td>\n",
       "      <td>1.404158e+09</td>\n",
       "      <td>5121951220</td>\n",
       "    </tr>\n",
       "  </tbody>\n",
       "</table>\n",
       "<p>533 rows × 4 columns</p>\n",
       "</div>"
      ],
      "text/plain": [
       "      Algorithm ProofType  TotalCoinsMined TotalCoinSupply\n",
       "CLUB     Scrypt   PoW/PoS     1.036219e+08       160000000\n",
       "MCT      Ethash       PoS     1.618033e+06         1618033\n",
       "1CR      Scrypt       PoW     8.821300e+04     92000000000\n",
       "404      Scrypt   PoW/PoS     1.055185e+09       532000000\n",
       "42       Scrypt   PoW/PoS     4.199995e+01              42\n",
       "...         ...       ...              ...             ...\n",
       "ZNE      Scrypt   PoW/PoS     2.581970e+06        21000000\n",
       "EBST     Scrypt       PoW     9.999000e+07       100000000\n",
       "GCN      Scrypt       PoW     1.630551e+11    200000000000\n",
       "IBANK    Scrypt   PoW/PoS     4.526324e+06        44333333\n",
       "DEAL     Scrypt   PoW/PoS     1.404158e+09      5121951220\n",
       "\n",
       "[533 rows x 4 columns]"
      ]
     },
     "execution_count": 438,
     "metadata": {},
     "output_type": "execute_result"
    }
   ],
   "source": [
    "coins_name = coins_name.drop(columns=['CoinName'])\n",
    "coins_name"
   ]
  },
  {
   "cell_type": "code",
   "execution_count": 439,
   "metadata": {},
   "outputs": [
    {
     "data": {
      "text/html": [
       "<div>\n",
       "<style scoped>\n",
       "    .dataframe tbody tr th:only-of-type {\n",
       "        vertical-align: middle;\n",
       "    }\n",
       "\n",
       "    .dataframe tbody tr th {\n",
       "        vertical-align: top;\n",
       "    }\n",
       "\n",
       "    .dataframe thead th {\n",
       "        text-align: right;\n",
       "    }\n",
       "</style>\n",
       "<table border=\"1\" class=\"dataframe\">\n",
       "  <thead>\n",
       "    <tr style=\"text-align: right;\">\n",
       "      <th></th>\n",
       "      <th>TotalCoinsMined</th>\n",
       "      <th>TotalCoinSupply</th>\n",
       "      <th>Algorithm_1GB AES Pattern Search</th>\n",
       "      <th>Algorithm_536</th>\n",
       "      <th>Algorithm_Argon2d</th>\n",
       "      <th>Algorithm_BLAKE256</th>\n",
       "      <th>Algorithm_Blake</th>\n",
       "      <th>Algorithm_Blake2S</th>\n",
       "      <th>Algorithm_Blake2b</th>\n",
       "      <th>Algorithm_C11</th>\n",
       "      <th>...</th>\n",
       "      <th>ProofType_PoW/PoS</th>\n",
       "      <th>ProofType_PoW/PoS</th>\n",
       "      <th>ProofType_PoW/PoW</th>\n",
       "      <th>ProofType_PoW/nPoS</th>\n",
       "      <th>ProofType_Pos</th>\n",
       "      <th>ProofType_Proof of Authority</th>\n",
       "      <th>ProofType_Proof of Trust</th>\n",
       "      <th>ProofType_TPoS</th>\n",
       "      <th>ProofType_Zero-Knowledge Proof</th>\n",
       "      <th>ProofType_dPoW/PoW</th>\n",
       "    </tr>\n",
       "  </thead>\n",
       "  <tbody>\n",
       "    <tr>\n",
       "      <th>CLUB</th>\n",
       "      <td>1.036219e+08</td>\n",
       "      <td>160000000</td>\n",
       "      <td>0</td>\n",
       "      <td>0</td>\n",
       "      <td>0</td>\n",
       "      <td>0</td>\n",
       "      <td>0</td>\n",
       "      <td>0</td>\n",
       "      <td>0</td>\n",
       "      <td>0</td>\n",
       "      <td>...</td>\n",
       "      <td>1</td>\n",
       "      <td>0</td>\n",
       "      <td>0</td>\n",
       "      <td>0</td>\n",
       "      <td>0</td>\n",
       "      <td>0</td>\n",
       "      <td>0</td>\n",
       "      <td>0</td>\n",
       "      <td>0</td>\n",
       "      <td>0</td>\n",
       "    </tr>\n",
       "    <tr>\n",
       "      <th>MCT</th>\n",
       "      <td>1.618033e+06</td>\n",
       "      <td>1618033</td>\n",
       "      <td>0</td>\n",
       "      <td>0</td>\n",
       "      <td>0</td>\n",
       "      <td>0</td>\n",
       "      <td>0</td>\n",
       "      <td>0</td>\n",
       "      <td>0</td>\n",
       "      <td>0</td>\n",
       "      <td>...</td>\n",
       "      <td>0</td>\n",
       "      <td>0</td>\n",
       "      <td>0</td>\n",
       "      <td>0</td>\n",
       "      <td>0</td>\n",
       "      <td>0</td>\n",
       "      <td>0</td>\n",
       "      <td>0</td>\n",
       "      <td>0</td>\n",
       "      <td>0</td>\n",
       "    </tr>\n",
       "    <tr>\n",
       "      <th>1CR</th>\n",
       "      <td>8.821300e+04</td>\n",
       "      <td>92000000000</td>\n",
       "      <td>0</td>\n",
       "      <td>0</td>\n",
       "      <td>0</td>\n",
       "      <td>0</td>\n",
       "      <td>0</td>\n",
       "      <td>0</td>\n",
       "      <td>0</td>\n",
       "      <td>0</td>\n",
       "      <td>...</td>\n",
       "      <td>0</td>\n",
       "      <td>0</td>\n",
       "      <td>0</td>\n",
       "      <td>0</td>\n",
       "      <td>0</td>\n",
       "      <td>0</td>\n",
       "      <td>0</td>\n",
       "      <td>0</td>\n",
       "      <td>0</td>\n",
       "      <td>0</td>\n",
       "    </tr>\n",
       "    <tr>\n",
       "      <th>404</th>\n",
       "      <td>1.055185e+09</td>\n",
       "      <td>532000000</td>\n",
       "      <td>0</td>\n",
       "      <td>0</td>\n",
       "      <td>0</td>\n",
       "      <td>0</td>\n",
       "      <td>0</td>\n",
       "      <td>0</td>\n",
       "      <td>0</td>\n",
       "      <td>0</td>\n",
       "      <td>...</td>\n",
       "      <td>1</td>\n",
       "      <td>0</td>\n",
       "      <td>0</td>\n",
       "      <td>0</td>\n",
       "      <td>0</td>\n",
       "      <td>0</td>\n",
       "      <td>0</td>\n",
       "      <td>0</td>\n",
       "      <td>0</td>\n",
       "      <td>0</td>\n",
       "    </tr>\n",
       "    <tr>\n",
       "      <th>42</th>\n",
       "      <td>4.199995e+01</td>\n",
       "      <td>42</td>\n",
       "      <td>0</td>\n",
       "      <td>0</td>\n",
       "      <td>0</td>\n",
       "      <td>0</td>\n",
       "      <td>0</td>\n",
       "      <td>0</td>\n",
       "      <td>0</td>\n",
       "      <td>0</td>\n",
       "      <td>...</td>\n",
       "      <td>1</td>\n",
       "      <td>0</td>\n",
       "      <td>0</td>\n",
       "      <td>0</td>\n",
       "      <td>0</td>\n",
       "      <td>0</td>\n",
       "      <td>0</td>\n",
       "      <td>0</td>\n",
       "      <td>0</td>\n",
       "      <td>0</td>\n",
       "    </tr>\n",
       "    <tr>\n",
       "      <th>...</th>\n",
       "      <td>...</td>\n",
       "      <td>...</td>\n",
       "      <td>...</td>\n",
       "      <td>...</td>\n",
       "      <td>...</td>\n",
       "      <td>...</td>\n",
       "      <td>...</td>\n",
       "      <td>...</td>\n",
       "      <td>...</td>\n",
       "      <td>...</td>\n",
       "      <td>...</td>\n",
       "      <td>...</td>\n",
       "      <td>...</td>\n",
       "      <td>...</td>\n",
       "      <td>...</td>\n",
       "      <td>...</td>\n",
       "      <td>...</td>\n",
       "      <td>...</td>\n",
       "      <td>...</td>\n",
       "      <td>...</td>\n",
       "      <td>...</td>\n",
       "    </tr>\n",
       "    <tr>\n",
       "      <th>ZNE</th>\n",
       "      <td>2.581970e+06</td>\n",
       "      <td>21000000</td>\n",
       "      <td>0</td>\n",
       "      <td>0</td>\n",
       "      <td>0</td>\n",
       "      <td>0</td>\n",
       "      <td>0</td>\n",
       "      <td>0</td>\n",
       "      <td>0</td>\n",
       "      <td>0</td>\n",
       "      <td>...</td>\n",
       "      <td>1</td>\n",
       "      <td>0</td>\n",
       "      <td>0</td>\n",
       "      <td>0</td>\n",
       "      <td>0</td>\n",
       "      <td>0</td>\n",
       "      <td>0</td>\n",
       "      <td>0</td>\n",
       "      <td>0</td>\n",
       "      <td>0</td>\n",
       "    </tr>\n",
       "    <tr>\n",
       "      <th>EBST</th>\n",
       "      <td>9.999000e+07</td>\n",
       "      <td>100000000</td>\n",
       "      <td>0</td>\n",
       "      <td>0</td>\n",
       "      <td>0</td>\n",
       "      <td>0</td>\n",
       "      <td>0</td>\n",
       "      <td>0</td>\n",
       "      <td>0</td>\n",
       "      <td>0</td>\n",
       "      <td>...</td>\n",
       "      <td>0</td>\n",
       "      <td>0</td>\n",
       "      <td>0</td>\n",
       "      <td>0</td>\n",
       "      <td>0</td>\n",
       "      <td>0</td>\n",
       "      <td>0</td>\n",
       "      <td>0</td>\n",
       "      <td>0</td>\n",
       "      <td>0</td>\n",
       "    </tr>\n",
       "    <tr>\n",
       "      <th>GCN</th>\n",
       "      <td>1.630551e+11</td>\n",
       "      <td>200000000000</td>\n",
       "      <td>0</td>\n",
       "      <td>0</td>\n",
       "      <td>0</td>\n",
       "      <td>0</td>\n",
       "      <td>0</td>\n",
       "      <td>0</td>\n",
       "      <td>0</td>\n",
       "      <td>0</td>\n",
       "      <td>...</td>\n",
       "      <td>0</td>\n",
       "      <td>0</td>\n",
       "      <td>0</td>\n",
       "      <td>0</td>\n",
       "      <td>0</td>\n",
       "      <td>0</td>\n",
       "      <td>0</td>\n",
       "      <td>0</td>\n",
       "      <td>0</td>\n",
       "      <td>0</td>\n",
       "    </tr>\n",
       "    <tr>\n",
       "      <th>IBANK</th>\n",
       "      <td>4.526324e+06</td>\n",
       "      <td>44333333</td>\n",
       "      <td>0</td>\n",
       "      <td>0</td>\n",
       "      <td>0</td>\n",
       "      <td>0</td>\n",
       "      <td>0</td>\n",
       "      <td>0</td>\n",
       "      <td>0</td>\n",
       "      <td>0</td>\n",
       "      <td>...</td>\n",
       "      <td>1</td>\n",
       "      <td>0</td>\n",
       "      <td>0</td>\n",
       "      <td>0</td>\n",
       "      <td>0</td>\n",
       "      <td>0</td>\n",
       "      <td>0</td>\n",
       "      <td>0</td>\n",
       "      <td>0</td>\n",
       "      <td>0</td>\n",
       "    </tr>\n",
       "    <tr>\n",
       "      <th>DEAL</th>\n",
       "      <td>1.404158e+09</td>\n",
       "      <td>5121951220</td>\n",
       "      <td>0</td>\n",
       "      <td>0</td>\n",
       "      <td>0</td>\n",
       "      <td>0</td>\n",
       "      <td>0</td>\n",
       "      <td>0</td>\n",
       "      <td>0</td>\n",
       "      <td>0</td>\n",
       "      <td>...</td>\n",
       "      <td>1</td>\n",
       "      <td>0</td>\n",
       "      <td>0</td>\n",
       "      <td>0</td>\n",
       "      <td>0</td>\n",
       "      <td>0</td>\n",
       "      <td>0</td>\n",
       "      <td>0</td>\n",
       "      <td>0</td>\n",
       "      <td>0</td>\n",
       "    </tr>\n",
       "  </tbody>\n",
       "</table>\n",
       "<p>533 rows × 100 columns</p>\n",
       "</div>"
      ],
      "text/plain": [
       "       TotalCoinsMined TotalCoinSupply  Algorithm_1GB AES Pattern Search  \\\n",
       "CLUB      1.036219e+08       160000000                                 0   \n",
       "MCT       1.618033e+06         1618033                                 0   \n",
       "1CR       8.821300e+04     92000000000                                 0   \n",
       "404       1.055185e+09       532000000                                 0   \n",
       "42        4.199995e+01              42                                 0   \n",
       "...                ...             ...                               ...   \n",
       "ZNE       2.581970e+06        21000000                                 0   \n",
       "EBST      9.999000e+07       100000000                                 0   \n",
       "GCN       1.630551e+11    200000000000                                 0   \n",
       "IBANK     4.526324e+06        44333333                                 0   \n",
       "DEAL      1.404158e+09      5121951220                                 0   \n",
       "\n",
       "       Algorithm_536  Algorithm_Argon2d  Algorithm_BLAKE256  Algorithm_Blake  \\\n",
       "CLUB               0                  0                   0                0   \n",
       "MCT                0                  0                   0                0   \n",
       "1CR                0                  0                   0                0   \n",
       "404                0                  0                   0                0   \n",
       "42                 0                  0                   0                0   \n",
       "...              ...                ...                 ...              ...   \n",
       "ZNE                0                  0                   0                0   \n",
       "EBST               0                  0                   0                0   \n",
       "GCN                0                  0                   0                0   \n",
       "IBANK              0                  0                   0                0   \n",
       "DEAL               0                  0                   0                0   \n",
       "\n",
       "       Algorithm_Blake2S  Algorithm_Blake2b  Algorithm_C11  ...  \\\n",
       "CLUB                   0                  0              0  ...   \n",
       "MCT                    0                  0              0  ...   \n",
       "1CR                    0                  0              0  ...   \n",
       "404                    0                  0              0  ...   \n",
       "42                     0                  0              0  ...   \n",
       "...                  ...                ...            ...  ...   \n",
       "ZNE                    0                  0              0  ...   \n",
       "EBST                   0                  0              0  ...   \n",
       "GCN                    0                  0              0  ...   \n",
       "IBANK                  0                  0              0  ...   \n",
       "DEAL                   0                  0              0  ...   \n",
       "\n",
       "       ProofType_PoW/PoS  ProofType_PoW/PoS   ProofType_PoW/PoW  \\\n",
       "CLUB                   1                   0                  0   \n",
       "MCT                    0                   0                  0   \n",
       "1CR                    0                   0                  0   \n",
       "404                    1                   0                  0   \n",
       "42                     1                   0                  0   \n",
       "...                  ...                 ...                ...   \n",
       "ZNE                    1                   0                  0   \n",
       "EBST                   0                   0                  0   \n",
       "GCN                    0                   0                  0   \n",
       "IBANK                  1                   0                  0   \n",
       "DEAL                   1                   0                  0   \n",
       "\n",
       "       ProofType_PoW/nPoS  ProofType_Pos  ProofType_Proof of Authority  \\\n",
       "CLUB                    0              0                             0   \n",
       "MCT                     0              0                             0   \n",
       "1CR                     0              0                             0   \n",
       "404                     0              0                             0   \n",
       "42                      0              0                             0   \n",
       "...                   ...            ...                           ...   \n",
       "ZNE                     0              0                             0   \n",
       "EBST                    0              0                             0   \n",
       "GCN                     0              0                             0   \n",
       "IBANK                   0              0                             0   \n",
       "DEAL                    0              0                             0   \n",
       "\n",
       "       ProofType_Proof of Trust  ProofType_TPoS  \\\n",
       "CLUB                          0               0   \n",
       "MCT                           0               0   \n",
       "1CR                           0               0   \n",
       "404                           0               0   \n",
       "42                            0               0   \n",
       "...                         ...             ...   \n",
       "ZNE                           0               0   \n",
       "EBST                          0               0   \n",
       "GCN                           0               0   \n",
       "IBANK                         0               0   \n",
       "DEAL                          0               0   \n",
       "\n",
       "       ProofType_Zero-Knowledge Proof  ProofType_dPoW/PoW  \n",
       "CLUB                                0                   0  \n",
       "MCT                                 0                   0  \n",
       "1CR                                 0                   0  \n",
       "404                                 0                   0  \n",
       "42                                  0                   0  \n",
       "...                               ...                 ...  \n",
       "ZNE                                 0                   0  \n",
       "EBST                                0                   0  \n",
       "GCN                                 0                   0  \n",
       "IBANK                               0                   0  \n",
       "DEAL                                0                   0  \n",
       "\n",
       "[533 rows x 100 columns]"
      ]
     },
     "execution_count": 439,
     "metadata": {},
     "output_type": "execute_result"
    }
   ],
   "source": [
    "X = coins_name.copy()\n",
    "X = pd.get_dummies(X, columns=[\"Algorithm\", \"ProofType\"])\n",
    "X"
   ]
  },
  {
   "cell_type": "code",
   "execution_count": 440,
   "metadata": {},
   "outputs": [],
   "source": [
    "X = StandardScaler().fit_transform(X)"
   ]
  },
  {
   "cell_type": "markdown",
   "metadata": {},
   "source": [
    "# Reducing Data Dimensions Using PCA"
   ]
  },
  {
   "cell_type": "code",
   "execution_count": 441,
   "metadata": {},
   "outputs": [],
   "source": [
    "pca = PCA(n_components=3)"
   ]
  },
  {
   "cell_type": "code",
   "execution_count": 442,
   "metadata": {},
   "outputs": [],
   "source": [
    "X = pca.fit_transform(X)"
   ]
  },
  {
   "cell_type": "code",
   "execution_count": 443,
   "metadata": {},
   "outputs": [
    {
     "data": {
      "text/html": [
       "<div>\n",
       "<style scoped>\n",
       "    .dataframe tbody tr th:only-of-type {\n",
       "        vertical-align: middle;\n",
       "    }\n",
       "\n",
       "    .dataframe tbody tr th {\n",
       "        vertical-align: top;\n",
       "    }\n",
       "\n",
       "    .dataframe thead th {\n",
       "        text-align: right;\n",
       "    }\n",
       "</style>\n",
       "<table border=\"1\" class=\"dataframe\">\n",
       "  <thead>\n",
       "    <tr style=\"text-align: right;\">\n",
       "      <th></th>\n",
       "      <th>PC 1</th>\n",
       "      <th>PC 2</th>\n",
       "      <th>PC 3</th>\n",
       "    </tr>\n",
       "  </thead>\n",
       "  <tbody>\n",
       "    <tr>\n",
       "      <th>1337</th>\n",
       "      <td>-0.328912</td>\n",
       "      <td>1.040205</td>\n",
       "      <td>-0.542624</td>\n",
       "    </tr>\n",
       "    <tr>\n",
       "      <th>1CR</th>\n",
       "      <td>-0.282877</td>\n",
       "      <td>-0.055105</td>\n",
       "      <td>0.099605</td>\n",
       "    </tr>\n",
       "    <tr>\n",
       "      <th>404</th>\n",
       "      <td>0.489309</td>\n",
       "      <td>-1.177712</td>\n",
       "      <td>-0.004183</td>\n",
       "    </tr>\n",
       "    <tr>\n",
       "      <th>42</th>\n",
       "      <td>-0.314633</td>\n",
       "      <td>1.040201</td>\n",
       "      <td>-0.543088</td>\n",
       "    </tr>\n",
       "    <tr>\n",
       "      <th>8BIT</th>\n",
       "      <td>-0.331316</td>\n",
       "      <td>1.040277</td>\n",
       "      <td>-0.542557</td>\n",
       "    </tr>\n",
       "    <tr>\n",
       "      <th>...</th>\n",
       "      <td>...</td>\n",
       "      <td>...</td>\n",
       "      <td>...</td>\n",
       "    </tr>\n",
       "    <tr>\n",
       "      <th>ZET</th>\n",
       "      <td>-0.331135</td>\n",
       "      <td>1.040265</td>\n",
       "      <td>-0.542561</td>\n",
       "    </tr>\n",
       "    <tr>\n",
       "      <th>ZNE</th>\n",
       "      <td>-0.161954</td>\n",
       "      <td>-1.122441</td>\n",
       "      <td>0.008722</td>\n",
       "    </tr>\n",
       "    <tr>\n",
       "      <th>ZNY</th>\n",
       "      <td>3.250403</td>\n",
       "      <td>-1.205038</td>\n",
       "      <td>-0.089980</td>\n",
       "    </tr>\n",
       "    <tr>\n",
       "      <th>ZOI</th>\n",
       "      <td>-0.330946</td>\n",
       "      <td>1.040252</td>\n",
       "      <td>-0.542565</td>\n",
       "    </tr>\n",
       "    <tr>\n",
       "      <th>ZYD</th>\n",
       "      <td>-0.277776</td>\n",
       "      <td>1.037522</td>\n",
       "      <td>-0.543886</td>\n",
       "    </tr>\n",
       "  </tbody>\n",
       "</table>\n",
       "<p>533 rows × 3 columns</p>\n",
       "</div>"
      ],
      "text/plain": [
       "          PC 1      PC 2      PC 3\n",
       "1337 -0.328912  1.040205 -0.542624\n",
       "1CR  -0.282877 -0.055105  0.099605\n",
       "404   0.489309 -1.177712 -0.004183\n",
       "42   -0.314633  1.040201 -0.543088\n",
       "8BIT -0.331316  1.040277 -0.542557\n",
       "...        ...       ...       ...\n",
       "ZET  -0.331135  1.040265 -0.542561\n",
       "ZNE  -0.161954 -1.122441  0.008722\n",
       "ZNY   3.250403 -1.205038 -0.089980\n",
       "ZOI  -0.330946  1.040252 -0.542565\n",
       "ZYD  -0.277776  1.037522 -0.543886\n",
       "\n",
       "[533 rows x 3 columns]"
      ]
     },
     "execution_count": 443,
     "metadata": {},
     "output_type": "execute_result"
    }
   ],
   "source": [
    "pcs_df = pd.DataFrame(data=X, columns=['PC 1', 'PC 2', 'PC 3'], index=crypto_df.index)\n",
    "pcs_df"
   ]
  },
  {
   "cell_type": "markdown",
   "metadata": {},
   "source": [
    "# Clustering Cryptocurrencies Using K-means"
   ]
  },
  {
   "cell_type": "code",
   "execution_count": 444,
   "metadata": {},
   "outputs": [
    {
     "data": {},
     "metadata": {},
     "output_type": "display_data"
    },
    {
     "data": {
      "application/vnd.holoviews_exec.v0+json": "",
      "text/html": [
       "<div id='2515'>\n",
       "\n",
       "\n",
       "\n",
       "\n",
       "\n",
       "  <div class=\"bk-root\" id=\"e9aa58f6-a64e-43d9-9a35-f94cdfd1b186\" data-root-id=\"2515\"></div>\n",
       "</div>\n",
       "<script type=\"application/javascript\">(function(root) {\n",
       "  function embed_document(root) {\n",
       "  var docs_json = {\"9fff8ed0-34e7-4754-a1b4-62504721ccdb\":{\"roots\":{\"references\":[{\"attributes\":{},\"id\":\"2534\",\"type\":\"BasicTicker\"},{\"attributes\":{},\"id\":\"2539\",\"type\":\"WheelZoomTool\"},{\"attributes\":{},\"id\":\"2527\",\"type\":\"LinearScale\"},{\"attributes\":{\"align\":null,\"below\":[{\"id\":\"2529\"}],\"center\":[{\"id\":\"2532\"},{\"id\":\"2536\"}],\"left\":[{\"id\":\"2533\"}],\"margin\":null,\"min_border_bottom\":10,\"min_border_left\":10,\"min_border_right\":10,\"min_border_top\":10,\"plot_height\":300,\"plot_width\":700,\"renderers\":[{\"id\":\"2556\"}],\"sizing_mode\":\"fixed\",\"title\":{\"id\":\"2521\"},\"toolbar\":{\"id\":\"2543\"},\"x_range\":{\"id\":\"2517\"},\"x_scale\":{\"id\":\"2525\"},\"y_range\":{\"id\":\"2518\"},\"y_scale\":{\"id\":\"2527\"}},\"id\":\"2520\",\"subtype\":\"Figure\",\"type\":\"Plot\"},{\"attributes\":{\"source\":{\"id\":\"2550\"}},\"id\":\"2557\",\"type\":\"CDSView\"},{\"attributes\":{\"axis\":{\"id\":\"2529\"},\"grid_line_color\":null,\"ticker\":null},\"id\":\"2532\",\"type\":\"Grid\"},{\"attributes\":{\"line_alpha\":0.2,\"line_color\":\"#1f77b3\",\"line_width\":2,\"x\":{\"field\":\"k\"},\"y\":{\"field\":\"inertia\"}},\"id\":\"2555\",\"type\":\"Line\"},{\"attributes\":{\"bottom_units\":\"screen\",\"fill_alpha\":0.5,\"fill_color\":\"lightgrey\",\"left_units\":\"screen\",\"level\":\"overlay\",\"line_alpha\":1.0,\"line_color\":\"black\",\"line_dash\":[4,4],\"line_width\":2,\"render_mode\":\"css\",\"right_units\":\"screen\",\"top_units\":\"screen\"},\"id\":\"2542\",\"type\":\"BoxAnnotation\"},{\"attributes\":{\"children\":[{\"id\":\"2516\"},{\"id\":\"2520\"},{\"id\":\"2572\"}],\"margin\":[0,0,0,0],\"name\":\"Row05180\",\"tags\":[\"embedded\"]},\"id\":\"2515\",\"type\":\"Row\"},{\"attributes\":{\"end\":10.0,\"reset_end\":10.0,\"reset_start\":1.0,\"start\":1.0,\"tags\":[[[\"k\",\"k\",null]]]},\"id\":\"2517\",\"type\":\"Range1d\"},{\"attributes\":{},\"id\":\"2551\",\"type\":\"Selection\"},{\"attributes\":{\"line_alpha\":0.1,\"line_color\":\"#1f77b3\",\"line_width\":2,\"x\":{\"field\":\"k\"},\"y\":{\"field\":\"inertia\"}},\"id\":\"2554\",\"type\":\"Line\"},{\"attributes\":{\"line_color\":\"#1f77b3\",\"line_width\":2,\"x\":{\"field\":\"k\"},\"y\":{\"field\":\"inertia\"}},\"id\":\"2553\",\"type\":\"Line\"},{\"attributes\":{\"axis_label\":\"k\",\"bounds\":\"auto\",\"formatter\":{\"id\":\"2560\"},\"major_label_orientation\":\"horizontal\",\"ticker\":{\"id\":\"2558\"}},\"id\":\"2529\",\"type\":\"LinearAxis\"},{\"attributes\":{\"ticks\":[1,2,3,4,5,6,7,8,9,10]},\"id\":\"2558\",\"type\":\"FixedTicker\"},{\"attributes\":{\"axis\":{\"id\":\"2533\"},\"dimension\":1,\"grid_line_color\":null,\"ticker\":null},\"id\":\"2536\",\"type\":\"Grid\"},{\"attributes\":{},\"id\":\"2560\",\"type\":\"BasicTickFormatter\"},{\"attributes\":{},\"id\":\"2570\",\"type\":\"UnionRenderers\"},{\"attributes\":{\"axis_label\":\"inertia\",\"bounds\":\"auto\",\"formatter\":{\"id\":\"2564\"},\"major_label_orientation\":\"horizontal\",\"ticker\":{\"id\":\"2534\"}},\"id\":\"2533\",\"type\":\"LinearAxis\"},{\"attributes\":{\"end\":3997.289072323264,\"reset_end\":3997.289072323264,\"reset_start\":-212.80144834981166,\"start\":-212.80144834981166,\"tags\":[[[\"inertia\",\"inertia\",null]]]},\"id\":\"2518\",\"type\":\"Range1d\"},{\"attributes\":{\"margin\":[5,5,5,5],\"name\":\"HSpacer05185\",\"sizing_mode\":\"stretch_width\"},\"id\":\"2572\",\"type\":\"Spacer\"},{\"attributes\":{},\"id\":\"2541\",\"type\":\"ResetTool\"},{\"attributes\":{\"data\":{\"inertia\":{\"__ndarray__\":\"yMzkeeV8rEAcKZivRF2jQJZQzndkT5dAJD/5+s4YgkBbCfZaf1p5QIR/uYrSCnNAgGv+BkECbkCzi1tdaTNnQGoxyHgW2mNAnopK/0JBYUA=\",\"dtype\":\"float64\",\"shape\":[10]},\"k\":[1,2,3,4,5,6,7,8,9,10]},\"selected\":{\"id\":\"2551\"},\"selection_policy\":{\"id\":\"2570\"}},\"id\":\"2550\",\"type\":\"ColumnDataSource\"},{\"attributes\":{\"callback\":null,\"renderers\":[{\"id\":\"2556\"}],\"tags\":[\"hv_created\"],\"tooltips\":[[\"k\",\"@{k}\"],[\"inertia\",\"@{inertia}\"]]},\"id\":\"2519\",\"type\":\"HoverTool\"},{\"attributes\":{\"margin\":[5,5,5,5],\"name\":\"HSpacer05184\",\"sizing_mode\":\"stretch_width\"},\"id\":\"2516\",\"type\":\"Spacer\"},{\"attributes\":{},\"id\":\"2564\",\"type\":\"BasicTickFormatter\"},{\"attributes\":{},\"id\":\"2537\",\"type\":\"SaveTool\"},{\"attributes\":{\"text\":\"Elbow Curve\",\"text_color\":{\"value\":\"black\"},\"text_font_size\":{\"value\":\"12pt\"}},\"id\":\"2521\",\"type\":\"Title\"},{\"attributes\":{\"active_drag\":\"auto\",\"active_inspect\":\"auto\",\"active_multi\":null,\"active_scroll\":\"auto\",\"active_tap\":\"auto\",\"tools\":[{\"id\":\"2519\"},{\"id\":\"2537\"},{\"id\":\"2538\"},{\"id\":\"2539\"},{\"id\":\"2540\"},{\"id\":\"2541\"}]},\"id\":\"2543\",\"type\":\"Toolbar\"},{\"attributes\":{},\"id\":\"2538\",\"type\":\"PanTool\"},{\"attributes\":{\"data_source\":{\"id\":\"2550\"},\"glyph\":{\"id\":\"2553\"},\"hover_glyph\":null,\"muted_glyph\":{\"id\":\"2555\"},\"nonselection_glyph\":{\"id\":\"2554\"},\"selection_glyph\":null,\"view\":{\"id\":\"2557\"}},\"id\":\"2556\",\"type\":\"GlyphRenderer\"},{\"attributes\":{},\"id\":\"2525\",\"type\":\"LinearScale\"},{\"attributes\":{\"overlay\":{\"id\":\"2542\"}},\"id\":\"2540\",\"type\":\"BoxZoomTool\"}],\"root_ids\":[\"2515\"]},\"title\":\"Bokeh Application\",\"version\":\"2.0.2\"}};\n",
       "  var render_items = [{\"docid\":\"9fff8ed0-34e7-4754-a1b4-62504721ccdb\",\"root_ids\":[\"2515\"],\"roots\":{\"2515\":\"e9aa58f6-a64e-43d9-9a35-f94cdfd1b186\"}}];\n",
       "  root.Bokeh.embed.embed_items_notebook(docs_json, render_items);\n",
       "  }\n",
       "if (root.Bokeh !== undefined) {\n",
       "    embed_document(root);\n",
       "  } else {\n",
       "    var attempts = 0;\n",
       "    var timer = setInterval(function(root) {\n",
       "      if (root.Bokeh !== undefined) {\n",
       "        clearInterval(timer);\n",
       "        embed_document(root);\n",
       "      } else if (document.readyState == \"complete\") {\n",
       "        attempts++;\n",
       "        if (attempts > 100) {\n",
       "          clearInterval(timer);\n",
       "          console.log(\"Bokeh: ERROR: Unable to run BokehJS code because BokehJS library is missing\");\n",
       "        }\n",
       "      }\n",
       "    }, 10, root)\n",
       "  }\n",
       "})(window);</script>"
      ],
      "text/plain": [
       ":Curve   [k]   (inertia)"
      ]
     },
     "metadata": {
      "application/vnd.holoviews_exec.v0+json": {
       "id": "2515"
      }
     },
     "output_type": "display_data"
    }
   ],
   "source": [
    "elbow_curve(pcs_df)"
   ]
  },
  {
   "cell_type": "code",
   "execution_count": 445,
   "metadata": {},
   "outputs": [],
   "source": [
    "clustered_df = get_clusters(4, pcs_df)"
   ]
  },
  {
   "cell_type": "code",
   "execution_count": 446,
   "metadata": {},
   "outputs": [],
   "source": [
    "clustered_df = clustered_df.join(crypto_df, how='outer')"
   ]
  },
  {
   "cell_type": "code",
   "execution_count": 447,
   "metadata": {},
   "outputs": [
    {
     "data": {
      "text/html": [
       "<div>\n",
       "<style scoped>\n",
       "    .dataframe tbody tr th:only-of-type {\n",
       "        vertical-align: middle;\n",
       "    }\n",
       "\n",
       "    .dataframe tbody tr th {\n",
       "        vertical-align: top;\n",
       "    }\n",
       "\n",
       "    .dataframe thead th {\n",
       "        text-align: right;\n",
       "    }\n",
       "</style>\n",
       "<table border=\"1\" class=\"dataframe\">\n",
       "  <thead>\n",
       "    <tr style=\"text-align: right;\">\n",
       "      <th></th>\n",
       "      <th>Algorithm</th>\n",
       "      <th>ProofType</th>\n",
       "      <th>TotalCoinsMined</th>\n",
       "      <th>TotalCoinSupply</th>\n",
       "      <th>PC 1</th>\n",
       "      <th>PC 2</th>\n",
       "      <th>PC 3</th>\n",
       "      <th>CoinName</th>\n",
       "      <th>Class</th>\n",
       "    </tr>\n",
       "  </thead>\n",
       "  <tbody>\n",
       "    <tr>\n",
       "      <th>1337</th>\n",
       "      <td>X13</td>\n",
       "      <td>PoW/PoS</td>\n",
       "      <td>2.927942e+10</td>\n",
       "      <td>314159265359</td>\n",
       "      <td>-0.328912</td>\n",
       "      <td>1.040205</td>\n",
       "      <td>-0.542624</td>\n",
       "      <td>EliteCoin</td>\n",
       "      <td>2</td>\n",
       "    </tr>\n",
       "    <tr>\n",
       "      <th>1CR</th>\n",
       "      <td>Scrypt</td>\n",
       "      <td>PoW</td>\n",
       "      <td>8.821300e+04</td>\n",
       "      <td>92000000000</td>\n",
       "      <td>-0.282877</td>\n",
       "      <td>-0.055105</td>\n",
       "      <td>0.099605</td>\n",
       "      <td>1Credit</td>\n",
       "      <td>2</td>\n",
       "    </tr>\n",
       "    <tr>\n",
       "      <th>404</th>\n",
       "      <td>Scrypt</td>\n",
       "      <td>PoW/PoS</td>\n",
       "      <td>1.055185e+09</td>\n",
       "      <td>532000000</td>\n",
       "      <td>0.489309</td>\n",
       "      <td>-1.177712</td>\n",
       "      <td>-0.004183</td>\n",
       "      <td>404Coin</td>\n",
       "      <td>0</td>\n",
       "    </tr>\n",
       "    <tr>\n",
       "      <th>42</th>\n",
       "      <td>Scrypt</td>\n",
       "      <td>PoW/PoS</td>\n",
       "      <td>4.199995e+01</td>\n",
       "      <td>42</td>\n",
       "      <td>-0.314633</td>\n",
       "      <td>1.040201</td>\n",
       "      <td>-0.543088</td>\n",
       "      <td>42 Coin</td>\n",
       "      <td>2</td>\n",
       "    </tr>\n",
       "    <tr>\n",
       "      <th>8BIT</th>\n",
       "      <td>Scrypt</td>\n",
       "      <td>PoW/PoS</td>\n",
       "      <td>1.467841e+06</td>\n",
       "      <td>0</td>\n",
       "      <td>-0.331316</td>\n",
       "      <td>1.040277</td>\n",
       "      <td>-0.542557</td>\n",
       "      <td>8BIT Coin</td>\n",
       "      <td>2</td>\n",
       "    </tr>\n",
       "    <tr>\n",
       "      <th>...</th>\n",
       "      <td>...</td>\n",
       "      <td>...</td>\n",
       "      <td>...</td>\n",
       "      <td>...</td>\n",
       "      <td>...</td>\n",
       "      <td>...</td>\n",
       "      <td>...</td>\n",
       "      <td>...</td>\n",
       "      <td>...</td>\n",
       "    </tr>\n",
       "    <tr>\n",
       "      <th>ZET</th>\n",
       "      <td>SHA-256</td>\n",
       "      <td>PoW</td>\n",
       "      <td>1.702044e+08</td>\n",
       "      <td>169795588</td>\n",
       "      <td>-0.331135</td>\n",
       "      <td>1.040265</td>\n",
       "      <td>-0.542561</td>\n",
       "      <td>ZetaCoin</td>\n",
       "      <td>2</td>\n",
       "    </tr>\n",
       "    <tr>\n",
       "      <th>ZNE</th>\n",
       "      <td>Scrypt</td>\n",
       "      <td>PoW/PoS</td>\n",
       "      <td>2.581970e+06</td>\n",
       "      <td>21000000</td>\n",
       "      <td>-0.161954</td>\n",
       "      <td>-1.122441</td>\n",
       "      <td>0.008722</td>\n",
       "      <td>ZoneCoin</td>\n",
       "      <td>0</td>\n",
       "    </tr>\n",
       "    <tr>\n",
       "      <th>ZNY</th>\n",
       "      <td>Scrypt</td>\n",
       "      <td>PoW</td>\n",
       "      <td>7.561450e+07</td>\n",
       "      <td>250000000</td>\n",
       "      <td>3.250403</td>\n",
       "      <td>-1.205038</td>\n",
       "      <td>-0.089980</td>\n",
       "      <td>BitZeny</td>\n",
       "      <td>0</td>\n",
       "    </tr>\n",
       "    <tr>\n",
       "      <th>ZOI</th>\n",
       "      <td>Lyra2RE</td>\n",
       "      <td>PoW</td>\n",
       "      <td>1.854576e+07</td>\n",
       "      <td>21000000</td>\n",
       "      <td>-0.330946</td>\n",
       "      <td>1.040252</td>\n",
       "      <td>-0.542565</td>\n",
       "      <td>Zoin</td>\n",
       "      <td>2</td>\n",
       "    </tr>\n",
       "    <tr>\n",
       "      <th>ZYD</th>\n",
       "      <td>SHA-256</td>\n",
       "      <td>PoW</td>\n",
       "      <td>6.243840e+06</td>\n",
       "      <td>9736000</td>\n",
       "      <td>-0.277776</td>\n",
       "      <td>1.037522</td>\n",
       "      <td>-0.543886</td>\n",
       "      <td>ZayedCoin</td>\n",
       "      <td>2</td>\n",
       "    </tr>\n",
       "  </tbody>\n",
       "</table>\n",
       "<p>533 rows × 9 columns</p>\n",
       "</div>"
      ],
      "text/plain": [
       "     Algorithm ProofType  TotalCoinsMined TotalCoinSupply      PC 1      PC 2  \\\n",
       "1337       X13   PoW/PoS     2.927942e+10    314159265359 -0.328912  1.040205   \n",
       "1CR     Scrypt       PoW     8.821300e+04     92000000000 -0.282877 -0.055105   \n",
       "404     Scrypt   PoW/PoS     1.055185e+09       532000000  0.489309 -1.177712   \n",
       "42      Scrypt   PoW/PoS     4.199995e+01              42 -0.314633  1.040201   \n",
       "8BIT    Scrypt   PoW/PoS     1.467841e+06               0 -0.331316  1.040277   \n",
       "...        ...       ...              ...             ...       ...       ...   \n",
       "ZET    SHA-256       PoW     1.702044e+08       169795588 -0.331135  1.040265   \n",
       "ZNE     Scrypt   PoW/PoS     2.581970e+06        21000000 -0.161954 -1.122441   \n",
       "ZNY     Scrypt       PoW     7.561450e+07       250000000  3.250403 -1.205038   \n",
       "ZOI    Lyra2RE       PoW     1.854576e+07        21000000 -0.330946  1.040252   \n",
       "ZYD    SHA-256       PoW     6.243840e+06         9736000 -0.277776  1.037522   \n",
       "\n",
       "          PC 3   CoinName  Class  \n",
       "1337 -0.542624  EliteCoin      2  \n",
       "1CR   0.099605    1Credit      2  \n",
       "404  -0.004183    404Coin      0  \n",
       "42   -0.543088    42 Coin      2  \n",
       "8BIT -0.542557  8BIT Coin      2  \n",
       "...        ...        ...    ...  \n",
       "ZET  -0.542561   ZetaCoin      2  \n",
       "ZNE   0.008722   ZoneCoin      0  \n",
       "ZNY  -0.089980    BitZeny      0  \n",
       "ZOI  -0.542565       Zoin      2  \n",
       "ZYD  -0.543886  ZayedCoin      2  \n",
       "\n",
       "[533 rows x 9 columns]"
      ]
     },
     "execution_count": 447,
     "metadata": {},
     "output_type": "execute_result"
    }
   ],
   "source": [
    "clustered_df = clustered_df[['Algorithm', 'ProofType', 'TotalCoinsMined', 'TotalCoinSupply', 'PC 1', 'PC 2', 'PC 3', 'CoinName', 'class']]\n",
    "clustered_df['Class'] = clustered_df['class']\n",
    "clustered_df = clustered_df.drop(columns=['class'])\n",
    "clustered_df"
   ]
  },
  {
   "cell_type": "markdown",
   "metadata": {},
   "source": [
    "# Visualizing Results"
   ]
  },
  {
   "cell_type": "markdown",
   "metadata": {},
   "source": [
    "#### Create a 3D scatter plot using Plotly Express to plot the clusters using the clustered_df DataFrame. You should include the following parameters on the plot: hover_name=\"CoinName\" and hover_data=[\"Algorithm\"] to show this additional info on each data point."
   ]
  },
  {
   "cell_type": "code",
   "execution_count": 448,
   "metadata": {},
   "outputs": [
    {
     "data": {
      "application/vnd.plotly.v1+json": {
       "config": {
        "plotlyServerURL": "https://plot.ly"
       },
       "data": [
        {
         "customdata": [
          [
           "X13"
          ],
          [
           "Scrypt"
          ],
          [
           "Scrypt"
          ],
          [
           "Scrypt"
          ],
          [
           "ECC 256K1"
          ],
          [
           "Lyra2REv2"
          ],
          [
           "Scrypt"
          ],
          [
           "X11"
          ],
          [
           "Scrypt"
          ],
          [
           "Lyra2Z"
          ],
          [
           "Lyra2Z"
          ],
          [
           "Scrypt"
          ],
          [
           "Scrypt"
          ],
          [
           "PoS"
          ],
          [
           "X11"
          ],
          [
           "Scrypt"
          ],
          [
           "X11"
          ],
          [
           "SHA-256"
          ],
          [
           "Equihash"
          ],
          [
           "CryptoNight"
          ],
          [
           "Green Protocol"
          ],
          [
           "Scrypt"
          ],
          [
           "SHA-256"
          ],
          [
           "Scrypt"
          ],
          [
           "Scrypt"
          ],
          [
           "Scrypt"
          ],
          [
           "X13"
          ],
          [
           "SHA-256"
          ],
          [
           "Scrypt"
          ],
          [
           "Scrypt"
          ],
          [
           "SHA-256"
          ],
          [
           "Equihash"
          ],
          [
           "Quark"
          ],
          [
           "Equihash"
          ],
          [
           "Equihash"
          ],
          [
           "Time Travel"
          ],
          [
           "XEVAN"
          ],
          [
           "Shabal256"
          ],
          [
           "SHA-256D"
          ],
          [
           "SHA-256"
          ],
          [
           "Scrypt"
          ],
          [
           "Scrypt"
          ],
          [
           "Scrypt"
          ],
          [
           "Scrypt"
          ],
          [
           "Ethash"
          ],
          [
           "Scrypt"
          ],
          [
           "Scrypt"
          ],
          [
           "X13"
          ],
          [
           "Multiple"
          ],
          [
           "Equihash"
          ],
          [
           "X11"
          ],
          [
           "Quark"
          ],
          [
           "Scrypt"
          ],
          [
           "CryptoNight-V7"
          ],
          [
           "Lyra2RE"
          ],
          [
           "NIST5"
          ],
          [
           "QuBit"
          ],
          [
           "X11"
          ],
          [
           "CryptoNight"
          ],
          [
           "Scrypt"
          ],
          [
           "Multiple"
          ],
          [
           "Scrypt"
          ],
          [
           "Scrypt"
          ],
          [
           "X15"
          ],
          [
           "SHA-256"
          ],
          [
           "Groestl"
          ],
          [
           "NIST5"
          ],
          [
           "X11"
          ],
          [
           "QUAIT"
          ],
          [
           "Quark"
          ],
          [
           "Scrypt"
          ],
          [
           "SHA-256"
          ],
          [
           "Ethash"
          ],
          [
           "Ethash"
          ],
          [
           "XEVAN"
          ],
          [
           "X13"
          ],
          [
           "Scrypt"
          ],
          [
           "Scrypt"
          ],
          [
           "X11"
          ],
          [
           "X11"
          ],
          [
           "Ethash"
          ],
          [
           "SHA-256"
          ],
          [
           "X11"
          ],
          [
           "PoS"
          ],
          [
           "Ethash"
          ],
          [
           "Groestl"
          ],
          [
           "SHA3-256"
          ],
          [
           "Stanford Folding"
          ],
          [
           "Scrypt"
          ],
          [
           "Scrypt"
          ],
          [
           "PoS"
          ],
          [
           "CryptoNight"
          ],
          [
           "Scrypt"
          ],
          [
           "Scrypt"
          ],
          [
           "NeoScrypt"
          ],
          [
           "Scrypt"
          ],
          [
           "Quark"
          ],
          [
           "Scrypt"
          ],
          [
           "X11"
          ],
          [
           "Scrypt"
          ],
          [
           "Quark"
          ],
          [
           "Lyra2Z"
          ],
          [
           "Scrypt"
          ],
          [
           "X14"
          ],
          [
           "Scrypt"
          ],
          [
           "Scrypt"
          ],
          [
           "Scrypt"
          ],
          [
           "NeoScrypt"
          ],
          [
           "X11"
          ],
          [
           "Scrypt"
          ],
          [
           "Quark"
          ],
          [
           "X11"
          ],
          [
           "Scrypt"
          ],
          [
           "SHA-256"
          ],
          [
           "SHA-256"
          ],
          [
           "Scrypt"
          ],
          [
           "Scrypt"
          ],
          [
           "X11"
          ],
          [
           "X11"
          ],
          [
           "X11"
          ],
          [
           "X11"
          ],
          [
           "SHA-256"
          ],
          [
           "X11"
          ],
          [
           "C11"
          ],
          [
           "X11"
          ],
          [
           "SHA-512"
          ],
          [
           "Tribus"
          ],
          [
           "Scrypt"
          ],
          [
           "POS 2.0"
          ],
          [
           "PoS"
          ],
          [
           "Quark"
          ],
          [
           "X15"
          ],
          [
           "X13"
          ],
          [
           "CryptoNight"
          ],
          [
           "X11"
          ],
          [
           "SHA-256 + Hive"
          ],
          [
           "Scrypt"
          ],
          [
           "POS 3.0"
          ],
          [
           "Blake"
          ],
          [
           "Scrypt"
          ],
          [
           "CryptoNight Heavy"
          ],
          [
           "Scrypt"
          ],
          [
           "Scrypt"
          ],
          [
           "CryptoNight-V7"
          ],
          [
           "PHI1612"
          ],
          [
           "Scrypt"
          ],
          [
           "X11"
          ],
          [
           "X11"
          ],
          [
           "Scrypt"
          ],
          [
           "Ethash"
          ],
          [
           "Scrypt"
          ],
          [
           "HybridScryptHash256"
          ],
          [
           "Scrypt"
          ],
          [
           "Scrypt"
          ],
          [
           "Scrypt"
          ],
          [
           "Scrypt"
          ],
          [
           "Scrypt"
          ],
          [
           "X11"
          ],
          [
           "SkunkHash"
          ],
          [
           "DPoS"
          ],
          [
           "Scrypt"
          ],
          [
           "X13"
          ],
          [
           "CryptoNight"
          ],
          [
           "Scrypt"
          ],
          [
           "Scrypt"
          ],
          [
           "SHA-256"
          ],
          [
           "SHA3"
          ],
          [
           "Scrypt"
          ],
          [
           "PoS"
          ],
          [
           "Scrypt"
          ],
          [
           "SHA-512"
          ],
          [
           "Scrypt"
          ],
          [
           "VBFT"
          ],
          [
           "X11"
          ],
          [
           "X13"
          ],
          [
           "NeoScrypt"
          ],
          [
           "Scrypt"
          ],
          [
           "Scrypt"
          ],
          [
           "Scrypt"
          ],
          [
           "X11"
          ],
          [
           "PoS"
          ],
          [
           "X11"
          ],
          [
           "X11"
          ],
          [
           "Scrypt"
          ],
          [
           "CryptoNight"
          ],
          [
           "CryptoNight"
          ],
          [
           "HMQ1725"
          ],
          [
           "Scrypt"
          ],
          [
           "X11"
          ],
          [
           "Proof-of-Authority"
          ],
          [
           "Scrypt"
          ],
          [
           "Quark"
          ],
          [
           "Scrypt"
          ],
          [
           "SHA-256"
          ],
          [
           "X16R"
          ],
          [
           "Scrypt"
          ],
          [
           "Scrypt"
          ],
          [
           "Scrypt"
          ],
          [
           "X11"
          ],
          [
           "X11"
          ],
          [
           "Scrypt"
          ],
          [
           "Scrypt"
          ],
          [
           "Quark"
          ],
          [
           "CryptoNight-V7"
          ],
          [
           "SHA-256"
          ],
          [
           "Groestl"
          ],
          [
           "Scrypt"
          ],
          [
           "Scrypt"
          ],
          [
           "Lyra2REv2"
          ],
          [
           "Cryptonight-GPU"
          ],
          [
           "Scrypt"
          ],
          [
           "Scrypt"
          ],
          [
           "X11GOST"
          ],
          [
           "Scrypt"
          ],
          [
           "Counterparty"
          ],
          [
           "QuBit"
          ],
          [
           "Scrypt"
          ],
          [
           "Keccak"
          ],
          [
           "Dagger"
          ],
          [
           "Scrypt"
          ],
          [
           "Scrypt"
          ],
          [
           "SHA-256"
          ],
          [
           "C11"
          ],
          [
           "Scrypt"
          ],
          [
           "PoS"
          ],
          [
           "X13"
          ],
          [
           "X11"
          ],
          [
           "POS 3.0"
          ],
          [
           "SHA-256"
          ],
          [
           "Dagger"
          ],
          [
           "X13"
          ],
          [
           "X11"
          ],
          [
           "Scrypt"
          ],
          [
           "Scrypt"
          ],
          [
           "SHA-256D"
          ],
          [
           "CryptoNight"
          ],
          [
           "NeoScrypt"
          ],
          [
           "X11"
          ],
          [
           "NeoScrypt"
          ],
          [
           "Multiple"
          ],
          [
           "Blake"
          ],
          [
           "Scrypt"
          ],
          [
           "Scrypt"
          ],
          [
           "SHA-256"
          ],
          [
           "XEVAN"
          ],
          [
           "X11"
          ],
          [
           "SHA-256"
          ],
          [
           "Scrypt"
          ],
          [
           "Scrypt"
          ],
          [
           "VeChainThor Authority"
          ],
          [
           "Scrypt"
          ],
          [
           "SHA-256D"
          ],
          [
           "Quark"
          ],
          [
           "NeoScrypt"
          ],
          [
           "X11"
          ],
          [
           "Scrypt"
          ],
          [
           "Equihash+Scrypt"
          ],
          [
           "Scrypt"
          ],
          [
           "NIST5"
          ],
          [
           "Quark"
          ],
          [
           "Scrypt"
          ],
          [
           "Scrypt"
          ],
          [
           "Multiple"
          ],
          [
           "Keccak"
          ],
          [
           "X11"
          ],
          [
           "Scrypt"
          ],
          [
           "SHA-256"
          ],
          [
           "CryptoNight"
          ],
          [
           "X11"
          ],
          [
           "Multiple"
          ],
          [
           "PoS"
          ],
          [
           "X11"
          ],
          [
           "X13"
          ],
          [
           "X11"
          ],
          [
           "X13"
          ],
          [
           "Scrypt"
          ],
          [
           "CryptoNight"
          ],
          [
           "X11"
          ],
          [
           "Scrypt"
          ],
          [
           "Equihash"
          ],
          [
           "Equihash"
          ],
          [
           "SHA-256"
          ],
          [
           "SHA-256"
          ],
          [
           "Lyra2RE"
          ],
          [
           "SHA-256"
          ]
         ],
         "hovertemplate": "<b>%{hovertext}</b><br><br>Class=%{marker.color}<br>PC 1=%{x}<br>PC 2=%{y}<br>PC 3=%{z}<br>Algorithm=%{customdata[0]}<extra></extra>",
         "hovertext": [
          "EliteCoin",
          "1Credit",
          "42 Coin",
          "8BIT Coin",
          "Acute Angle Cloud",
          "Absolute Coin",
          "ArtByte",
          "AC3",
          "AdCoin",
          "Actinium",
          "Alpenschillling",
          "AquariusCoin",
          "ArgusCoin",
          "Atmos",
          "ArtexCoin",
          "Aurora Coin",
          "Award",
          "Bitcoin Cash",
          "Beam",
          "Bikercoins",
          "Bitcoin Green",
          "BitstarCoin",
          "BLAST",
          "BlackholeCoin",
          "BillaryCoin",
          "Block-Logic",
          "BritCoin",
          "Bitcoin SV",
          "Bata",
          "BitBar",
          "Bitcoin",
          "BitcoinZ",
          "Bitcloud 2.0",
          "Bitcoin Gold",
          "Bithereum",
          "Bitcore",
          "Bettex coin",
          "BurstCoin",
          "BuzzCoin",
          "BitcoinWSpectrum",
          "Catcoin",
          "CryptoBullion",
          "CannaCoin",
          "Crypto Escudo",
          "Callisto Network",
          " ClubCoin",
          "Cash & Back Coin",
          "Paycon",
          "Circuits of Value",
          "CrypticCoin",
          "CryptCoin",
          "Crypto Sports",
          "CarterCoin",
          "Citadel",
          "Crypto",
          "Coinonat",
          "CypherPunkCoin",
          "Dash Platinum",
          "Dinastycoin",
          "Degas Coin",
          "DigiByte",
          "Digitalcoin ",
          "Diggits",
          "Dekado",
          "DollarCoin",
          "Diamond",
          "Denarius",
          "DigitalPrice",
          "Droidz",
          "Dystem",
          "eBoost",
          "EDRCoin",
          "Elementrem",
          "Ellaism",
          "Ellerium",
          "EmberCoin",
          "Emerald",
          "EnergyCoin",
          "Eternity",
          "EuropeCoin",
          "Ethereum",
          "Eurocoin",
          "EUNO",
          "Exclusive Coin",
          "Expanse",
          "FairCoin",
          "Fiii",
          "Folding Coin",
          "BitFlip",
          "FrazCoin",
          "FreeCoin",
          "FREDEnergy",
          "Franko",
          "Francs",
          "FeatherCoin",
          "GAKHcoin",
          "Galilel",
          "Gamecredits",
          "GoldBlocks",
          "Genstake",
          "Giant",
          "GINcoin",
          "GoldCoin",
          "GanjaCoin V2",
          "GPU Coin",
          "GreenCoin",
          "GrowthCoin",
          "GunCoin",
          "Halloween Coin",
          "HoboNickels",
          "HerbCoin",
          "Hitcoin",
          "HollyWoodCoin",
          "I0coin",
          "ILCoin",
          "Impeach",
          "Independent Money System",
          "Impact",
          "InsaneCoin",
          "Insane Coin",
          "IOCoin",
          "Internet of People",
          "IslaCoin",
          "Interzone",
          "Junson Ming Chan Coin",
          "Kcash",
          "KEYCO",
          "Klingon Empire Darsek",
          "KekCoin",
          "Ketan",
          "Kalkulus",
          "KoboCoin",
          "Kore",
          "Karbo",
          "Kurrent",
          "LitecoinCash",
          "Linda",
          "Let it Ride",
          "Lithium",
          "LuckyCoin",
          "Loki",
          "LottoCoin",
          "Litebar ",
          "Lethean",
          "LUXCoin",
          "Lynx",
          "Magnet",
          "MarsCoin ",
          "My Big Coin",
          "1717 Masonic Commemorative Token",
          "MegaCoin",
          "MediterraneanCoin",
          "MedicCoin",
          "MinCoin",
          "MonaCoin",
          "MoonCoin",
          "MasterCoin",
          "MustangCoin",
          "MUNcoin",
          "Muse",
          "Nautilus Coin",
          "NavCoin",
          "Niobio Cash",
          "Gulden",
          "Nasdacoin",
          "Neutron",
          "Nexus",
          "NewYorkCoin",
          "Zealium",
          "OrangeCoin",
          "Obsidian",
          "Omni",
          "Ontology",
          "Onix",
          "OpalCoin",
          "Orbitcoin",
          "OsmiumCoin",
          "Oduwa",
          "Pakcoin",
          "Pioneer Coin",
          "Phreak",
          "Piggy Coin",
          "PinkCoin",
          "PLNCoin",
          "PlatinCoin",
          "PluraCoin",
          "PlusOneCoin",
          "PandaCoin",
          "PhantomX",
          "Poa Network",
          "PopularCoin",
          "Poseidon Quark",
          "PotCoin",
          "ProCurrency",
          "Proton",
          "Printerium",
          "PesoBit",
          "Poseidon",
          "Pura",
          "Pushi",
          "PutinCoin",
          "PhoenixCoin",
          "QuarkCoin",
          "Quantum Resistant Ledger",
          "Revenu",
          "Riecoin",
          "RenosCoin",
          "RootCoin",
          "Rupee",
          "Ryo",
          "SafeExchangeCoin",
          "StableCoin",
          "SibCoin",
          "Swisscoin",
          "StorjCoin",
          "SLICE",
          "SolarCoin",
          "SmartCash",
          "SoilCoin",
          "Sojourn Coin",
          "Song Coin",
          "SoonCoin",
          "Stipend",
          "ShareChain",
          "Stakecoin",
          "Sativa Coin",
          "SyncCoin",
          "TokenPay",
          "TerraCoin",
          "Travelflex",
          "Triangles Coin",
          "TruckCoin",
          "Trollcoin",
          "ThunderStake",
          "Titan Coin",
          "BitTube",
          "TrezarCoin",
          "Ucoin",
          "UFO Coin",
          "Unitus",
          "Universal Molecule",
          "Unify",
          "GameUnits",
          "Unobtanium",
          "Urals Coin",
          "UroCoin",
          "Ultimate Secure Cash",
          "Unified Society USDEX",
          "UltraCoin",
          "Vechain",
          "ViaCoin",
          "TheVig",
          "Vitae",
          "VIVO Coin",
          "VaultCoin",
          "Velox",
          "Vollar",
          "Vtorrent",
          "Virta Unique Coin",
          "Digiwage",
          "WorldCoin",
          "WomenCoin",
          "Crypti",
          "XDNA",
          "GoldReserve",
          "Xios",
          "JouleCoin",
          "LeviarCoin",
          "Monoeci",
          "MyriadCoin",
          "Opair",
          "Ratecoin",
          "Bitcoin Rhodium",
          "Stakenet",
          "StealthCoin",
          "Xt3ch",
          "UltraNote",
          "VirtacoinPlus",
          "Zilbercoin",
          "ZClassic",
          "ZCash",
          "ZEPHYR",
          "ZetaCoin",
          "Zoin",
          "ZayedCoin"
         ],
         "legendgroup": "2",
         "marker": {
          "color": [
           2,
           2,
           2,
           2,
           2,
           2,
           2,
           2,
           2,
           2,
           2,
           2,
           2,
           2,
           2,
           2,
           2,
           2,
           2,
           2,
           2,
           2,
           2,
           2,
           2,
           2,
           2,
           2,
           2,
           2,
           2,
           2,
           2,
           2,
           2,
           2,
           2,
           2,
           2,
           2,
           2,
           2,
           2,
           2,
           2,
           2,
           2,
           2,
           2,
           2,
           2,
           2,
           2,
           2,
           2,
           2,
           2,
           2,
           2,
           2,
           2,
           2,
           2,
           2,
           2,
           2,
           2,
           2,
           2,
           2,
           2,
           2,
           2,
           2,
           2,
           2,
           2,
           2,
           2,
           2,
           2,
           2,
           2,
           2,
           2,
           2,
           2,
           2,
           2,
           2,
           2,
           2,
           2,
           2,
           2,
           2,
           2,
           2,
           2,
           2,
           2,
           2,
           2,
           2,
           2,
           2,
           2,
           2,
           2,
           2,
           2,
           2,
           2,
           2,
           2,
           2,
           2,
           2,
           2,
           2,
           2,
           2,
           2,
           2,
           2,
           2,
           2,
           2,
           2,
           2,
           2,
           2,
           2,
           2,
           2,
           2,
           2,
           2,
           2,
           2,
           2,
           2,
           2,
           2,
           2,
           2,
           2,
           2,
           2,
           2,
           2,
           2,
           2,
           2,
           2,
           2,
           2,
           2,
           2,
           2,
           2,
           2,
           2,
           2,
           2,
           2,
           2,
           2,
           2,
           2,
           2,
           2,
           2,
           2,
           2,
           2,
           2,
           2,
           2,
           2,
           2,
           2,
           2,
           2,
           2,
           2,
           2,
           2,
           2,
           2,
           2,
           2,
           2,
           2,
           2,
           2,
           2,
           2,
           2,
           2,
           2,
           2,
           2,
           2,
           2,
           2,
           2,
           2,
           2,
           2,
           2,
           2,
           2,
           2,
           2,
           2,
           2,
           2,
           2,
           2,
           2,
           2,
           2,
           2,
           2,
           2,
           2,
           2,
           2,
           2,
           2,
           2,
           2,
           2,
           2,
           2,
           2,
           2,
           2,
           2,
           2,
           2,
           2,
           2,
           2,
           2,
           2,
           2,
           2,
           2,
           2,
           2,
           2,
           2,
           2,
           2,
           2,
           2,
           2,
           2,
           2,
           2,
           2,
           2,
           2,
           2,
           2,
           2,
           2,
           2,
           2,
           2,
           2,
           2,
           2,
           2,
           2,
           2,
           2,
           2,
           2,
           2,
           2,
           2,
           2
          ],
          "coloraxis": "coloraxis",
          "symbol": "circle"
         },
         "mode": "markers",
         "name": "2",
         "scene": "scene",
         "showlegend": true,
         "type": "scatter3d",
         "x": [
          -0.328912336067453,
          -0.282876658379556,
          -0.3146327373522952,
          -0.3313157087305864,
          -0.33129775660418215,
          3.7300319362300187,
          -0.35188491614415235,
          3.7129120462548304,
          -0.3309818644717846,
          -0.3631024861730002,
          -0.36921447003303637,
          -0.3309875517117712,
          -0.33109860632123583,
          -0.3560424863118422,
          -0.2447711641003056,
          -0.33097484599577554,
          -0.39040350578353616,
          -0.26668374161915853,
          -0.23116589290565803,
          -0.33090744986834003,
          -0.33131163879007997,
          -0.3309813846422286,
          -0.28817838750233166,
          0.65264270475329,
          -0.3922889085588339,
          -0.3177839506872213,
          -0.4087169817372597,
          -0.28563463806964795,
          -0.35571734377110886,
          -0.19584463858471693,
          -0.3956353048385265,
          -0.31776836947579473,
          -0.33083381001549594,
          -0.2902440526938854,
          -0.2754584116378095,
          -0.22593088154009872,
          -0.35671434175816685,
          -0.3306788260151283,
          -0.3310105859097563,
          -0.32354393721245045,
          -0.331284066859936,
          -0.288897276787828,
          -0.31581618149284807,
          0.044790764663720437,
          -0.38963443908420237,
          0.6536793783833114,
          -0.40738347641754563,
          -0.33014876444623514,
          -0.3284673800186236,
          -0.31400906379311533,
          -0.35608189474372537,
          -0.33073413759502046,
          -0.3885360417224098,
          -0.3951396199256527,
          -0.3577982084414196,
          0.5767842385026565,
          -0.3595153232408789,
          -0.2505770280767426,
          -0.36933102115975647,
          -0.3312959003272937,
          -0.39330742352821846,
          -0.35236247328144904,
          -0.085349331025303,
          -0.2889681620599621,
          -0.3303089802116713,
          -0.21118709324474763,
          -0.3571159569083829,
          -0.3572924603646388,
          -0.365242365436409,
          -0.28831964363877244,
          -0.36826371953551507,
          -0.2845666829860401,
          -0.2899008734907633,
          -0.4165097935178998,
          -0.3178030504601413,
          -0.3692138880131807,
          -0.31773924991086905,
          3.723183274457516,
          -0.3928427286967686,
          0.20310583821241307,
          2.2992532746895287,
          -0.2722357685004359,
          -0.3304551364798826,
          0.8442608305713981,
          -0.3103137355645752,
          -0.32981054728360176,
          -0.39352861874702205,
          0.6035957065384981,
          -0.3930738513304423,
          -0.3312345202437304,
          -0.3176464682578452,
          -0.3907204163797427,
          -0.25290727210339164,
          -0.3581153565484124,
          -0.36466327425702433,
          -0.5457806145844021,
          -0.24802663757260018,
          -0.2708665956506627,
          -0.25869540744408515,
          -0.32938263100085635,
          -0.35721828487893303,
          -0.34401937846129654,
          -0.33125161273683396,
          -0.28818819355013686,
          -0.41015404676288975,
          -0.33118093281679684,
          -0.4443507246500436,
          -0.32935810553409006,
          -0.33047535965834623,
          0.08375303173912477,
          -0.41040362558547616,
          -0.39302872627711644,
          -0.3930800644677727,
          -0.2724430881557661,
          0.8830292470766006,
          -0.37968693287226074,
          -0.39260086469710137,
          -0.40969730312115094,
          -0.09687914293598678,
          -0.0705764291876604,
          -0.32937190671620376,
          -0.2895947067205492,
          -0.3311979118115285,
          -0.33198137322960186,
          -0.39320199828202806,
          -0.33126575111078077,
          -0.3914399859836214,
          -0.3311562149328983,
          -0.09717331622690902,
          -0.33109943817513005,
          -0.10290027601468585,
          -0.3930702842694631,
          -0.3931367362616093,
          -0.31776033720939834,
          -0.39355556867496605,
          -0.14201915582347704,
          -0.3691002282442106,
          -0.17977225448842252,
          -0.3505270154580703,
          -0.3565797583088165,
          -0.3274726234080197,
          -0.2504620910749004,
          -0.2892604659996233,
          -0.3934384541826034,
          -0.4031229280552856,
          3.717774711732101,
          -0.2701330192323052,
          -0.3549082725920361,
          0.1343083887834218,
          3.713304411738641,
          -0.3301477423203211,
          -0.3548026045662411,
          0.10454510442032214,
          -0.3312566778005463,
          -0.32420965543375607,
          -0.3398107691760446,
          2.25834659545255,
          -0.28708869477057536,
          -0.3504351250454814,
          -0.39208449022714287,
          -0.4022279696009631,
          -0.2810255783450007,
          -0.2834334759272215,
          -0.029809983758073658,
          -0.3265625720494391,
          -0.3523080920583931,
          -0.39335284879182403,
          -0.2468262723890889,
          1.0089085673961602,
          -0.39354473929118333,
          -0.27778166765630147,
          -0.34186188657992633,
          -0.3304680132555697,
          -0.28993995007236,
          -0.28856210057729426,
          -0.3577982084414196,
          -0.2766745248885604,
          -0.316979044726682,
          -0.38394337765087505,
          -0.35036545646383976,
          -0.3162814869336359,
          -0.2840718067271481,
          -0.3309858688883894,
          -0.32151692081378686,
          -0.3567539325432161,
          -0.28918502655277323,
          -0.31198492412625717,
          -0.3298524594658931,
          -0.34439411422595023,
          3.7244288364951332,
          -0.3517460057767793,
          -0.330833057627253,
          -0.23408008805540897,
          0.35416457372839893,
          -0.35800998165251596,
          -0.2766418823023405,
          -0.2887335742298268,
          -0.17039301247697214,
          -0.33090569539344605,
          -0.3926665667333776,
          -0.3297153309990492,
          -0.357832513881062,
          -0.38042916203687316,
          -0.3846871389123093,
          -0.36480142801383647,
          -0.3256102042727947,
          -0.3310291210255093,
          0.25684781635994486,
          -0.32763985185072164,
          -0.39337006972845295,
          -0.3071710244006053,
          -0.35368502803153834,
          -0.3580741876305906,
          -0.3913958662930835,
          0.027238499330999755,
          -0.39329355888579964,
          -0.2895673701990316,
          -0.3163443758737179,
          -0.3312919830574446,
          -0.24825908499925675,
          -0.28992023284495533,
          -0.32211137594847056,
          -0.3301908498911934,
          -0.032456865120046335,
          -0.28921260204611676,
          3.916674284053379,
          -0.3586933366739691,
          -0.3170302774764711,
          -0.3576985447883003,
          -0.3976589722358757,
          -0.2889656374386269,
          -0.37172216097215904,
          -0.3569034825574233,
          -0.351890897555565,
          -0.3176027990387429,
          -0.2320308494760452,
          -0.13414169829702227,
          -0.39357406106094067,
          -0.32414967777703013,
          -0.4255214174934387,
          -0.35582980503494055,
          -0.33119005168893406,
          -0.2501084654508253,
          -0.3355443993384552,
          -0.3161044789056628,
          -0.19055267730650471,
          -0.2575465592221468,
          -0.29019797484962256,
          -0.3264152380506166,
          -0.3551905379073186,
          -0.23981071255757122,
          -0.3934855704196096,
          -0.339386474107171,
          -0.28936782789813187,
          -0.36803852208425736,
          -0.3176970560804149,
          -0.39060719585471654,
          -0.3523361977424879,
          -0.2753302540566362,
          -0.32999129650597303,
          -0.32679615508537824,
          -0.3065146869213306,
          -0.35557831225873066,
          -0.2890595868718522,
          -0.2779520147177971,
          -0.3556161483146441,
          -0.392703097121425,
          -0.36793172165788574,
          -0.33103177519263494,
          -0.32610348650590704,
          0.43888313783485494,
          -0.39345001834401616,
          -0.3511567087363706,
          -0.3934995947235198,
          -0.3235306012251758,
          -0.33114031832563884,
          -0.2898470035174939,
          -0.3224057249387443,
          2.463927728741709,
          -0.3574813693195987,
          0.8648307292090519,
          -0.28982647950924956,
          -0.33113503115075216,
          -0.3309455848213627,
          -0.2777761344022713
         ],
         "y": [
          1.0402049437429162,
          -0.05510516519982408,
          1.0402007428122713,
          1.0402772365010189,
          1.0402775750124602,
          2.2324589728561786,
          0.9901423048081913,
          2.232779349662195,
          1.0402614796381082,
          0.9810007517648089,
          1.4399568393680124,
          1.0402525518468195,
          1.0402603075799823,
          1.4444827949301302,
          1.0341910108053674,
          1.0402713376776307,
          1.242711072041083,
          1.2655712094993876,
          1.0130083433989987,
          1.0402540621368523,
          1.0402769457457293,
          1.0402629587785348,
          0.7875272616910072,
          0.4677514516397387,
          1.2428820716088083,
          0.8648160875676386,
          1.692639363529515,
          1.8809431006741832,
          1.3759227976409443,
          0.6212604862204814,
          1.9970178603408582,
          0.8648156462987903,
          1.040262066008885,
          0.7874875793065504,
          0.6119925454570353,
          1.6121472711400344,
          1.4958553901145415,
          1.040249363933384,
          1.040272119433926,
          1.0404237703513326,
          1.0402756279872922,
          1.8810138932601264,
          1.24307957643056,
          1.9704533102456838,
          1.242881402406118,
          1.474450847299215,
          1.6926645062691448,
          1.0402330846221097,
          1.040176580885801,
          0.8645167980935852,
          1.4445337184293203,
          1.0402527343623365,
          1.242687478634468,
          1.997027206292853,
          1.444516058841402,
          1.0024176244418963,
          0.7402827861093864,
          0.09685577462191908,
          1.4399558399666348,
          1.0402768749651512,
          1.2429488683584993,
          0.9901592477974418,
          0.9702481439790834,
          1.8810207170957356,
          1.0402190381136505,
          1.717404725629944,
          1.495877219680843,
          1.4444756113542467,
          1.0516802822181168,
          0.7874510936888118,
          1.4398975855052996,
          0.7872278356616353,
          0.7874819907245765,
          1.9494269957590806,
          0.8648234454390868,
          1.4399524400615145,
          0.8648161953371996,
          2.233064890633106,
          1.2429370486963098,
          1.4843959393926536,
          1.6989128121646526,
          1.265789948680087,
          1.0402317183732817,
          1.9017764234956593,
          0.8642373249255149,
          1.0403056157830302,
          1.2429571936001897,
          1.8421214471229175,
          1.2429253404991576,
          1.0402756801139927,
          0.8648194147936786,
          1.2427315584929475,
          1.9702282441010246,
          1.4445247800677243,
          1.0516944202683864,
          2.5039764978323804,
          1.6282325559421866,
          0.3927868403018274,
          0.22640831837799674,
          1.040240179312032,
          1.4445049416800362,
          0.5045153632709914,
          1.0402760077778719,
          0.7873645927916917,
          1.6927452852043483,
          1.0402702220736557,
          1.9502824236970344,
          1.0401303847238883,
          1.0402820552959025,
          1.0113508654932912,
          1.6927507856126616,
          1.242933541782115,
          1.2429399242870065,
          0.7863538514018967,
          1.925511024864986,
          1.2421192785323574,
          1.2429048566152392,
          1.6927281967594512,
          0.7837771750553115,
          1.229534520345862,
          1.0402256805801637,
          0.7874814463120977,
          1.0402794575483525,
          0.990558006168686,
          1.2429508561117357,
          1.0402745032304106,
          1.242919394078241,
          1.040264121702995,
          0.8688513949429983,
          1.040265722331847,
          0.6087043410026656,
          1.2429474591560592,
          1.2429462062288217,
          0.8648165327908526,
          1.2429603607030197,
          0.9941396720991637,
          1.4399553181202815,
          1.9619114363933072,
          1.5077342125192794,
          1.4443993733839104,
          1.0399821731003156,
          1.9700364109764128,
          1.8810202763053678,
          1.2429556932256525,
          1.8415249081149963,
          2.2325953908685223,
          1.973699214731122,
          1.4771986173002514,
          1.0123040676742359,
          2.232761080910289,
          1.0401890010912824,
          0.6576387308959223,
          1.0227685928346955,
          1.0402754093509619,
          1.0396761717750331,
          0.9899274601736381,
          0.35637254611143665,
          0.7873566952915765,
          1.4443755692505456,
          1.2428822506057666,
          1.7759620832343535,
          0.8637463637871003,
          0.7872492018531349,
          0.7923987004530856,
          1.0398885897606494,
          0.9901593175741599,
          1.2429571946216496,
          1.6281188554770016,
          1.8564868915840957,
          1.242958359746833,
          0.3198619157195518,
          1.49529012383563,
          1.0402314755865352,
          0.7874821550376674,
          1.8810422642824156,
          1.444516058841402,
          0.6120278775236171,
          0.864796716570418,
          1.5912282036676557,
          1.3650904999603415,
          0.8647826720311094,
          1.6136304582930818,
          1.0402680195567386,
          1.4974549491216926,
          1.4444960557470619,
          1.881030519248198,
          1.0399066644710604,
          1.0401578162025613,
          0.504549753040505,
          2.2330883752353374,
          0.9901118468087822,
          1.040258008036106,
          1.4982043650298695,
          0.7757384131429301,
          1.4445204203754205,
          0.6120347408843024,
          1.8810022788758782,
          0.7773404720208688,
          1.0402849671786525,
          1.242940370163658,
          1.0402353764725247,
          1.4445080615581791,
          1.2424728074367417,
          1.2427600482446404,
          1.4395732909489798,
          1.0400760920471956,
          1.040267939100724,
          0.5669741726515153,
          0.6233476912456444,
          1.242945482047901,
          1.0392623820235187,
          1.4771728005086266,
          1.4445189408717416,
          1.2429459525732238,
          1.0470376408311213,
          1.242945454537548,
          0.7874757679173896,
          0.8646949529098885,
          1.0402776838705068,
          1.6282370119700467,
          0.7874944198543251,
          0.7282312597565281,
          1.0401925985945617,
          -0.17852511764176526,
          1.8810226488555721,
          2.2026124209868714,
          1.5417454328780094,
          0.5984047609820697,
          1.444487360044549,
          0.6402635432524529,
          1.8810346557471633,
          1.026932566713684,
          1.5145864759839116,
          0.9901826196000089,
          0.8648055372261182,
          0.331376315988627,
          1.0364974016522437,
          1.242960011301013,
          1.039677302631119,
          1.9125519905018202,
          1.4443466242192604,
          1.0402680410133323,
          0.0967911045223839,
          1.977909663778461,
          0.8647896846842386,
          1.0297004295872738,
          0.6116689173691604,
          1.9751629246204419,
          1.5877613852788641,
          1.477199543191279,
          1.6278101031841732,
          1.2429543300266075,
          0.5043529226473294,
          1.8810269843922025,
          0.8761217038392994,
          1.039872469049475,
          1.2430159511600316,
          0.9901595226988019,
          0.6119215879908171,
          1.0402287031536017,
          1.040191920173682,
          1.0395687757032068,
          1.4958474076536759,
          0.7874195012173052,
          0.392921111038306,
          1.495824642867806,
          1.242902929061454,
          1.4399185461342177,
          1.0402678890574042,
          1.0401549970020734,
          1.0364228774028135,
          1.2429583080577749,
          0.9861738958083207,
          1.2429585836955819,
          1.0401300031121672,
          1.040265107470878,
          0.7874634585104034,
          1.0397101842038368,
          0.9876343241170104,
          1.4444779299208652,
          0.7364971891871029,
          0.7874557599690195,
          1.0402652071585652,
          1.0402516280079566,
          1.0375218316084263
         ],
         "z": [
          -0.5426241007675013,
          0.09960544897977684,
          -0.543088413750035,
          -0.5425567033312327,
          -0.5425573386877796,
          0.0764619717830961,
          -0.2718253668601493,
          0.07697128369528493,
          -0.5425652070527315,
          -0.37924283683406923,
          -0.3384507105945655,
          -0.5425636811658707,
          -0.5425612299260845,
          -0.1997956179342233,
          -0.5444606096107832,
          -0.54256691598251,
          -0.5277123654534712,
          -0.5140605467060148,
          -0.2580767301531663,
          -0.54256651608682,
          -0.5425567921850305,
          -0.5425654448024567,
          -0.28679287824890104,
          -0.30174220527200213,
          -0.5276766561862918,
          -0.35204643982498257,
          -0.5943227558596778,
          -0.618878787249046,
          -0.2626125222033148,
          -0.2869967386738202,
          -0.7166367627419131,
          -0.35204688088282804,
          -0.5425701157638702,
          -0.28671966096412665,
          -0.09624513531029481,
          0.07456169155690422,
          -0.580073958534152,
          -0.5425732545395229,
          -0.5425658696890597,
          -0.5428317576535263,
          -0.5425574920359881,
          -0.6187831868183363,
          -0.324233346060323,
          -0.7404218152236175,
          -0.5277629852374991,
          -0.17738552184480183,
          -0.5943699505558871,
          -0.5425880686407262,
          -0.5426343292139256,
          -0.35212440507192977,
          -0.1998019821133552,
          -0.5425719597403668,
          -0.5277696270131909,
          -0.7166543057532027,
          -0.19974344693821436,
          -0.5664389656835644,
          -0.3521219964347501,
          0.05063746206219768,
          -0.33844676560617826,
          -0.5425572940001954,
          -0.5276535243772458,
          -0.2718123619699495,
          -0.38770628639561683,
          -0.6187819035469463,
          -0.5425807426124118,
          -0.3654618421765509,
          -0.5800641601459928,
          -0.199753839992351,
          -0.44043112188030115,
          -0.2867768405954984,
          -0.3384727687273684,
          -0.2868655097694541,
          -0.2867299956294116,
          -0.6981483005283181,
          -0.352046922887447,
          -0.338450068889521,
          -0.3520479114666586,
          0.0765939719726535,
          -0.5276668798543827,
          -0.5965808116928235,
          -0.6757067832326571,
          -0.5139126213141227,
          -0.5425778879916406,
          -0.6587967884502022,
          -0.35220275575573107,
          -0.5426099731925302,
          -0.5276475724829628,
          -0.7378845870613824,
          -0.5276575962483343,
          -0.542559113102211,
          -0.3520514159124021,
          -0.527705123347178,
          -0.6212828536738448,
          -0.19973443028320123,
          -0.44045210024249704,
          3.9093187999857566,
          -0.3629408487600225,
          -0.26820367155584623,
          -0.19464970902210627,
          -0.5426140793803382,
          -0.19976065976017524,
          -0.2960156316238388,
          -0.5425586057766607,
          -0.28676813054049916,
          -0.5942918715520642,
          -0.5425600382607509,
          -0.5672383380229506,
          -0.5425983897829596,
          -0.5425847887550047,
          -0.5517273943641458,
          -0.5942845712746383,
          -0.5276602971290119,
          -0.5276595840349361,
          -0.28712900556100535,
          -0.6515536514178152,
          -0.5279724259395185,
          -0.5276699205772712,
          -0.5943041769112188,
          -0.2924584226367735,
          -0.5361471796184714,
          -0.5426122512498135,
          -0.28673988266600303,
          -0.5425608723404686,
          -0.2725358533598664,
          -0.5276572555303152,
          -0.5425579194891788,
          -0.527709901927073,
          -0.5425599269662793,
          -0.3598355167286713,
          -0.542562015988676,
          -0.1013698311239486,
          -0.5276610340096961,
          -0.5276586821768721,
          -0.35204727554036813,
          -0.5276471706053927,
          -0.2792588930126777,
          -0.33845420185827874,
          0.5901964804123568,
          -0.2439773993695537,
          -0.19976559671716393,
          -0.5426375237602843,
          -0.6213336606944684,
          -0.6187723199336829,
          -0.5276502829266414,
          -0.4913116376864235,
          0.07684058085249748,
          -0.7306553404727462,
          -0.18075326907737957,
          -0.5535166221101256,
          0.07696125173932328,
          -0.5425814817794992,
          -0.27193102217496645,
          -0.5541190150489654,
          -0.5425583509907772,
          -0.542697812986499,
          -0.27218623738824144,
          -0.29612707598746546,
          -0.28680274424078755,
          -0.199962091294659,
          -0.5276833389292458,
          -0.6335672302836247,
          -0.3530826494408358,
          -0.2869056156183714,
          -0.29593691250542176,
          -0.5426531013794869,
          -0.2718141431015598,
          -0.5276532957074946,
          -0.3629628579571592,
          -0.04357573260701271,
          -0.5276472227212756,
          -0.32373522605086813,
          -0.5804726670446462,
          -0.5425774322637872,
          -0.2867287479709406,
          -0.6187983607106621,
          -0.19974344693821436,
          -0.09621084456407474,
          -0.35206973857501767,
          -0.4932090307584038,
          -0.1368469359161474,
          -0.3520903419562886,
          0.07623202636331732,
          -0.542566058785956,
          -0.0723339659865778,
          -0.19977444465160585,
          -0.6187763144527739,
          -0.543130464039153,
          -0.54258641307349,
          -0.2960085946279754,
          0.07654988971733293,
          -0.2718253158236297,
          -0.5425695308650182,
          -0.5844196826497513,
          -0.3059372072684375,
          -0.19973720658400154,
          -0.09621293809616036,
          -0.618786772811798,
          -0.28909819356165634,
          -0.5425712143052697,
          -0.5276731144829386,
          -0.5426025254105099,
          -0.19974112897943017,
          -0.5280013493325452,
          -0.5279058452915697,
          -0.33853680078646825,
          -0.5427122682013994,
          -0.5425646384137331,
          -0.10681650094546113,
          -0.08616298271751807,
          -0.527650976085155,
          -0.5431904510351829,
          -0.18078922095337496,
          -0.19973489385582402,
          -0.527715326824727,
          -0.5552464591799332,
          -0.5276534631474962,
          -0.2867399200036494,
          -0.3520751212770025,
          -0.542557543022012,
          -0.3629339494435798,
          -0.2867312318043216,
          -0.12340620015458752,
          -0.5425806184433326,
          -0.4627218741153079,
          -0.6187742346765946,
          0.0748656648663257,
          -0.25335188615897014,
          -0.3007317311551248,
          -0.19974238221251872,
          -0.38125951262757646,
          -0.6187840789531783,
          -0.39116731646725433,
          -0.2965504614453186,
          -0.27183122628538925,
          -0.35205075375110895,
          -0.24234580182196244,
          -0.5484090627737036,
          -0.5276465160225252,
          -0.5426999356831589,
          -0.6311161888557316,
          -0.19978209371866557,
          -0.5425594138145431,
          0.05063191734108232,
          -0.7291578398048149,
          -0.3520971584479489,
          -0.5455516013867726,
          -0.09677974527214644,
          -0.7302218345850034,
          -0.23648865686172807,
          -0.18074421756000392,
          -0.3631449184838834,
          -0.5276485441063464,
          -0.2961420848837412,
          -0.6187698316007452,
          -0.3420195881161983,
          -0.5429393417595241,
          -0.5277515178153402,
          -0.2718132587843786,
          -0.09623865224979111,
          -0.542592537821274,
          -0.542691047852879,
          -0.5432578333465556,
          -0.5801097489161865,
          -0.28674800371206616,
          -0.2067377866870587,
          -0.5801050983251638,
          -0.5276663024228194,
          -0.3384867262945697,
          -0.5425645444788914,
          -0.5427080562959525,
          -0.5670555644809165,
          -0.527650299073783,
          -0.46689847714445315,
          -0.5276487262597391,
          -0.5427880760618624,
          -0.5425605925953358,
          -0.28672896660403185,
          -0.5427616567150805,
          0.0232475355194486,
          -0.19974803730062446,
          -0.3166715418551625,
          -0.2867284787553661,
          -0.5425607797161585,
          -0.5425649088728046,
          -0.5438861657787083
         ]
        },
        {
         "customdata": [
          [
           "Scrypt"
          ],
          [
           "Scrypt"
          ],
          [
           "SHA-256"
          ],
          [
           "Scrypt"
          ],
          [
           "IMesh"
          ],
          [
           "X11"
          ],
          [
           "DPoS"
          ],
          [
           "X11"
          ],
          [
           "X11"
          ],
          [
           "Scrypt"
          ],
          [
           "DPoS"
          ],
          [
           "Quark"
          ],
          [
           "X11"
          ],
          [
           "X11"
          ],
          [
           "Proof-of-BibleHash"
          ],
          [
           "Scrypt"
          ],
          [
           "X13"
          ],
          [
           "Scrypt"
          ],
          [
           "CryptoNight"
          ],
          [
           "CryptoNight"
          ],
          [
           "Scrypt"
          ],
          [
           "XEVAN"
          ],
          [
           "Blake"
          ],
          [
           "X11"
          ],
          [
           "Scrypt"
          ],
          [
           "X11"
          ],
          [
           "X11"
          ],
          [
           "NIST5"
          ],
          [
           "SHA-256"
          ],
          [
           "Scrypt"
          ],
          [
           "Equihash"
          ],
          [
           "Skein"
          ],
          [
           "SHA-512"
          ],
          [
           "TRC10"
          ],
          [
           "Scrypt"
          ],
          [
           "NIST5"
          ],
          [
           "SHA-256"
          ],
          [
           "Quark"
          ],
          [
           "Scrypt"
          ],
          [
           "PoS"
          ],
          [
           "Cloverhash"
          ],
          [
           "Scrypt"
          ],
          [
           "X11"
          ],
          [
           "SHA-256"
          ],
          [
           "CryptoNight"
          ],
          [
           "X11"
          ],
          [
           "X11"
          ],
          [
           "Scrypt"
          ],
          [
           "Skein"
          ],
          [
           "SHA-256"
          ],
          [
           "Scrypt"
          ],
          [
           "X11"
          ],
          [
           "X11"
          ],
          [
           "Ethash"
          ],
          [
           "SHA-256"
          ],
          [
           "Dagger-Hashimoto"
          ],
          [
           "BLAKE256"
          ],
          [
           "Scrypt"
          ],
          [
           "PoS"
          ],
          [
           "Scrypt"
          ],
          [
           "SHA-256"
          ],
          [
           "Scrypt"
          ],
          [
           "SHA-256"
          ],
          [
           "Argon2d"
          ],
          [
           "Scrypt"
          ],
          [
           "Scrypt"
          ],
          [
           "NIST5"
          ],
          [
           "Scrypt"
          ],
          [
           "X15"
          ],
          [
           "X11"
          ],
          [
           "Scrypt"
          ],
          [
           "SHA-256"
          ],
          [
           "Scrypt"
          ],
          [
           "DPoS"
          ],
          [
           "Scrypt"
          ],
          [
           "536"
          ],
          [
           "Ethash"
          ],
          [
           "Scrypt"
          ],
          [
           "Exosis"
          ],
          [
           "X13"
          ],
          [
           "Scrypt"
          ],
          [
           "Scrypt"
          ],
          [
           "Scrypt"
          ],
          [
           "Scrypt"
          ],
          [
           "NeoScrypt"
          ],
          [
           "X11"
          ],
          [
           "Scrypt"
          ],
          [
           "NeoScrypt"
          ],
          [
           "Scrypt"
          ],
          [
           "Scrypt"
          ],
          [
           "Scrypt"
          ],
          [
           "Scrypt"
          ],
          [
           "SHA-256"
          ],
          [
           "Groestl"
          ],
          [
           "Scrypt"
          ],
          [
           "1GB AES Pattern Search"
          ],
          [
           "X11"
          ],
          [
           "X15"
          ],
          [
           "Lyra2RE"
          ],
          [
           "X11"
          ],
          [
           "Scrypt"
          ],
          [
           "Scrypt"
          ],
          [
           "Scrypt"
          ],
          [
           "Scrypt"
          ],
          [
           "Lyra2RE"
          ],
          [
           "NeoScrypt"
          ],
          [
           "Scrypt"
          ],
          [
           "SHA-256"
          ],
          [
           "Multiple"
          ],
          [
           "NIST5"
          ],
          [
           "Scrypt"
          ],
          [
           "Scrypt"
          ],
          [
           "Equihash"
          ],
          [
           "Lyra2REv2"
          ],
          [
           "Scrypt"
          ],
          [
           "X11"
          ],
          [
           "SHA-256D"
          ],
          [
           "X11"
          ],
          [
           "Scrypt"
          ],
          [
           "Scrypt"
          ],
          [
           "Scrypt"
          ],
          [
           "Scrypt"
          ],
          [
           "DPoS"
          ],
          [
           "Scrypt"
          ],
          [
           "QuBit"
          ],
          [
           "Scrypt"
          ],
          [
           "SHA3"
          ],
          [
           "SHA-256"
          ],
          [
           "PoS"
          ],
          [
           "Jump Consistent Hash"
          ],
          [
           "Scrypt"
          ],
          [
           "Scrypt"
          ],
          [
           "X11"
          ],
          [
           "Scrypt"
          ],
          [
           "X11"
          ],
          [
           "X13"
          ],
          [
           "SHA-256"
          ],
          [
           "NIST5"
          ],
          [
           "Blake2b"
          ],
          [
           "CryptoNight"
          ],
          [
           "PoS"
          ],
          [
           "SHA-256"
          ],
          [
           "SHA-256"
          ],
          [
           "SHA-256"
          ],
          [
           "Scrypt"
          ],
          [
           "Scrypt"
          ],
          [
           "PoS"
          ],
          [
           "Scrypt"
          ],
          [
           "SHA-256"
          ],
          [
           "Scrypt"
          ],
          [
           "X13"
          ],
          [
           "DPoS"
          ],
          [
           "X11"
          ],
          [
           "PoS"
          ],
          [
           "X11"
          ],
          [
           "BLAKE256"
          ],
          [
           "Equihash"
          ],
          [
           "Dagger"
          ],
          [
           "X11"
          ],
          [
           "Scrypt"
          ],
          [
           "SHA-256"
          ],
          [
           "Scrypt"
          ],
          [
           "Scrypt"
          ],
          [
           "NIST5"
          ],
          [
           "Scrypt"
          ],
          [
           "POS 3.0"
          ],
          [
           "CryptoNight Heavy"
          ],
          [
           "PoS"
          ],
          [
           "X11"
          ],
          [
           "Scrypt"
          ],
          [
           "Scrypt"
          ],
          [
           "Scrypt"
          ],
          [
           "X11"
          ],
          [
           "X13"
          ],
          [
           "Scrypt"
          ],
          [
           "Scrypt"
          ],
          [
           "Blake2b"
          ],
          [
           "Scrypt"
          ],
          [
           "Semux BFT consensus"
          ],
          [
           "Scrypt"
          ],
          [
           "SkunkHash v2 Raptor"
          ],
          [
           "Scrypt"
          ],
          [
           "Scrypt"
          ],
          [
           "Scrypt"
          ],
          [
           "NeoScrypt"
          ],
          [
           "X11"
          ],
          [
           "X11"
          ],
          [
           "X11"
          ],
          [
           "CryptoNight"
          ],
          [
           "X11"
          ],
          [
           "SHA-256"
          ],
          [
           "Scrypt"
          ],
          [
           "SHA-256"
          ],
          [
           "Blake2S"
          ],
          [
           "DPoS"
          ],
          [
           "SHA-256"
          ],
          [
           "PoS"
          ],
          [
           "Scrypt"
          ],
          [
           "Multiple"
          ],
          [
           "SHA-256"
          ],
          [
           "PHI1612"
          ],
          [
           "X13"
          ],
          [
           "X11"
          ],
          [
           "Scrypt"
          ],
          [
           "CryptoNight"
          ],
          [
           "X16R"
          ],
          [
           "SHA-256"
          ],
          [
           "SHA-256"
          ],
          [
           "Scrypt"
          ],
          [
           "NIST5"
          ],
          [
           "Scrypt"
          ],
          [
           "Lyra2REv2"
          ],
          [
           "Leased POS"
          ],
          [
           "Scrypt"
          ],
          [
           "CryptoNight-V7"
          ],
          [
           "Scrypt"
          ],
          [
           "XEVAN"
          ],
          [
           "X11"
          ],
          [
           "X16R"
          ],
          [
           "CryptoNight"
          ],
          [
           "M7 POW"
          ],
          [
           "PoS"
          ],
          [
           "Scrypt"
          ],
          [
           "X11"
          ],
          [
           "Scrypt"
          ],
          [
           "SHA-256"
          ],
          [
           "CryptoNight"
          ],
          [
           "CryptoNight-V7"
          ],
          [
           "X11"
          ],
          [
           "SHA-256"
          ],
          [
           "Multiple"
          ],
          [
           "Multiple"
          ],
          [
           "Scrypt"
          ],
          [
           "Lyra2Z"
          ],
          [
           "Scrypt"
          ],
          [
           "Scrypt"
          ],
          [
           "Scrypt"
          ],
          [
           "Equihash"
          ],
          [
           "Equihash"
          ],
          [
           "Scrypt"
          ],
          [
           "Scrypt"
          ]
         ],
         "hovertemplate": "<b>%{hovertext}</b><br><br>Class=%{marker.color}<br>PC 1=%{x}<br>PC 2=%{y}<br>PC 3=%{z}<br>Algorithm=%{customdata[0]}<extra></extra>",
         "hovertext": [
          "404Coin",
          "Abjcoin",
          "Anarchists Prime",
          "AudioCoin",
          "Aidos Kuneen",
          "Adzcoin",
          "ALAX",
          "ArcticCoin",
          "ARENON",
          "Argentum",
          "ARK",
          "Allsafe",
          "Axe",
          "Azart",
          "BiblePay",
          "BitConnect Coin",
          "Bitcoin Diamond",
          "BitcoinFast",
          "ByteCoin",
          "Beldex",
          "BenjiRolls",
          "BitMoney",
          "BlakeCoin",
          "BolivarCoin",
          "Briacoin",
          "BowsCoin",
          "BitSend",
          "Bitspace",
          "BitcoinDark",
          "BitCurrency",
          "Bitrolium",
          "Bitcoin Planet",
          "Bitshares",
          "BitTorrent",
          "BeaverCoin",
          "Bulwark",
          "BitTokens",
          "Carebit",
          "Canada eCoin",
          "CoffeeCoin",
          "ChanCoin",
          "OpenChat",
          "Crypto Improvement Fund",
          "Clockcoin",
          "BitCoal",
          "CapriCoin",
          "Creditbit ",
          "Credit",
          "Cream",
          "Crown Coin",
          "CasinoCoin",
          "DAS",
          "Dash",
          "DaxxCoin",
          "DubaiCoin",
          "DubaiCoin",
          "Decred",
          "iDealCash",
          "Deviant Coin",
          "Draftcoin",
          "CarpeDiemCoin",
          "DopeCoin",
          "DevCoin",
          "Dynamic",
          "EarthCoin",
          "EB3coin",
          "Electra",
          "E-Gulden",
          "EverGreenCoin",
          "Elements",
          "EmaratCoin",
          "Emercoin",
          "Einsteinium",
          "EOS",
          "EquiTrader",
          "Espers",
          "Ethereum Classic",
          "Ethereum Dark",
          "Exosis",
          "FindCoin",
          "Flo",
          "FlutterCoin",
          "FirstCoin",
          "Frankywillcoin",
          "FriendshipCoin",
          "FuturoCoin",
          "Gapcoin",
          "GoByte",
          "gCn Coin",
          "GrandCoin",
          "GermanCoin",
          "GlobalCoin",
          "GlobalToken",
          "Groestlcoin",
          "HexCoin",
          "HOdlcoin",
          "HappyCoin",
          "HTML5 Coin",
          "HexxCoin",
          "HyperStake",
          "HyperCoin",
          "iBankCoin",
          "Ignition",
          "Infinite Coin",
          "Infinex",
          "Innova",
          "IrishCoin",
          "IXcoin",
          "JoinCoin",
          "Jumpcoin",
          "KrugerCoin",
          "KiloCoin",
          "Komodo",
          "KREDS",
          "Kronecoin",
          "KushCoin",
          "LanaCoin",
          "Lutetium Coin",
          "Litecoin Plus",
          "LiteDoge",
          "Linx",
          "LomoCoin",
          "Lisk",
          "Litecoin",
          "LiteCreed",
          "LiteCoin Ultra",
          "MaxCoin",
          "Theresa May Coin",
          "MacronCoin",
          "MassGrid",
          "XiaoMiCoin",
          "MMOCoin",
          "MindCoin",
          "MoneyCoin",
          "Monkey Project",
          "MudraCoin",
          "MazaCoin",
          "NamoCoin",
          "Nano",
          "Newton Coin",
          "Nebuchadnezzar",
          "NeosCoin",
          "IncaKoin",
          "Namecoin",
          "NobleCoin",
          "Dnotes",
          "Nxt",
          "NyanCoin",
          "OKCash",
          "OmniCron",
          "DeepOnion",
          "Oxycoin",
          "PacCoin",
          "Particl",
          "PAXEX",
          "Photon",
          "PirateCash",
          "Pirl",
          "PizzaCoin",
          "Peony Coin",
          "Project Pai",
          "ProsperCoin",
          "PesetaCoin",
          "PWR Coin",
          "Quatloo",
          "QTUM",
          "Qwertycoin",
          "Radium",
          "Condensate",
          "RubyCoin",
          "Russiacoin",
          "Reddcoin",
          "Regalcoin",
          "RoyalCoin",
          "RonPaulCoin",
          "Revolution VR",
          "Siacoin",
          "Swiscoin",
          "Semux",
          "Shilling",
          "Signatum",
          "SmartCoin",
          "SmileyCoin",
          "SocialCoin",
          "SparksPay",
          "Spreadcoin",
          "Squall Coin",
          "Sucre",
          "Sumokoin",
          "SuperCoin",
          "SwingCoin",
          "SexCoin",
          "SysCoin",
          "TajCoin",
          "Lamden Tau",
          "TigerCash",
          "TeamUP",
          "TerraNovaCoin",
          "TeslaCoin",
          "TigerCoin",
          "TittieCoin",
          "Tokyo Coin",
          "TorCoin",
          "TPCash",
          "TurtleCoin",
          "Trivechain",
          "UnitedBitcoin",
          "UnbreakableCoin",
          "UnitaryStatus Dollar",
          "VIP Tokens",
          "VeriCoin",
          "Vertcoin",
          "Waves",
          "Wild Beast Coin",
          "Webchain",
          "BitcoinPlus",
          "Bitcoin Incognito",
          "X11 Coin",
          "Xchange",
          "Cannabis Industry Coin",
          "Cryptonite",
          "Creatio",
          "CoinonatX",
          "XenixCoin",
          "HiCoin",
          "Infinity Economics",
          "Monero Classic",
          "Monero",
          "Enigma",
          "PayCoin",
          "SHIELD",
          "Verge",
          "WhiteCoin",
          "ZCoin",
          "YoCoin",
          "ZCC Coin",
          "ZeitCoin",
          "Horizen",
          "Zero",
          "ZoneCoin",
          "BitZeny"
         ],
         "legendgroup": "0",
         "marker": {
          "color": [
           0,
           0,
           0,
           0,
           0,
           0,
           0,
           0,
           0,
           0,
           0,
           0,
           0,
           0,
           0,
           0,
           0,
           0,
           0,
           0,
           0,
           0,
           0,
           0,
           0,
           0,
           0,
           0,
           0,
           0,
           0,
           0,
           0,
           0,
           0,
           0,
           0,
           0,
           0,
           0,
           0,
           0,
           0,
           0,
           0,
           0,
           0,
           0,
           0,
           0,
           0,
           0,
           0,
           0,
           0,
           0,
           0,
           0,
           0,
           0,
           0,
           0,
           0,
           0,
           0,
           0,
           0,
           0,
           0,
           0,
           0,
           0,
           0,
           0,
           0,
           0,
           0,
           0,
           0,
           0,
           0,
           0,
           0,
           0,
           0,
           0,
           0,
           0,
           0,
           0,
           0,
           0,
           0,
           0,
           0,
           0,
           0,
           0,
           0,
           0,
           0,
           0,
           0,
           0,
           0,
           0,
           0,
           0,
           0,
           0,
           0,
           0,
           0,
           0,
           0,
           0,
           0,
           0,
           0,
           0,
           0,
           0,
           0,
           0,
           0,
           0,
           0,
           0,
           0,
           0,
           0,
           0,
           0,
           0,
           0,
           0,
           0,
           0,
           0,
           0,
           0,
           0,
           0,
           0,
           0,
           0,
           0,
           0,
           0,
           0,
           0,
           0,
           0,
           0,
           0,
           0,
           0,
           0,
           0,
           0,
           0,
           0,
           0,
           0,
           0,
           0,
           0,
           0,
           0,
           0,
           0,
           0,
           0,
           0,
           0,
           0,
           0,
           0,
           0,
           0,
           0,
           0,
           0,
           0,
           0,
           0,
           0,
           0,
           0,
           0,
           0,
           0,
           0,
           0,
           0,
           0,
           0,
           0,
           0,
           0,
           0,
           0,
           0,
           0,
           0,
           0,
           0,
           0,
           0,
           0,
           0,
           0,
           0,
           0,
           0,
           0,
           0,
           0,
           0,
           0,
           0,
           0,
           0,
           0,
           0,
           0,
           0,
           0,
           0,
           0,
           0,
           0,
           0,
           0,
           0,
           0,
           0,
           0,
           0,
           0,
           0
          ],
          "coloraxis": "coloraxis",
          "symbol": "diamond"
         },
         "mode": "markers",
         "name": "0",
         "scene": "scene",
         "showlegend": true,
         "type": "scatter3d",
         "x": [
          0.48930851776011824,
          -0.2212579917317536,
          -0.1561961122486724,
          -0.16277762917998148,
          -0.2249971609181268,
          -0.1530977071860346,
          -0.15449489376793962,
          -0.1499494792237498,
          -0.22540077673823677,
          -0.1632832369232346,
          -0.14709357989380537,
          -0.21251710617760985,
          -0.22593512552094597,
          -0.22590644628309134,
          -0.14941754869376014,
          -0.16378962348193177,
          -0.15927807979796976,
          -0.16382496217530507,
          0.3269839417659719,
          -0.16338673368937262,
          0.30534543834385547,
          0.3051972828114022,
          -0.16345069632346765,
          0.3131325015168695,
          -0.16118710618094279,
          -0.15014317942825153,
          -0.1501423426591911,
          -0.16122093411752514,
          -0.12191238885239628,
          -0.15014238026904458,
          0.05125998924921023,
          -0.15897024106560317,
          -0.16105352813849708,
          -0.16021069866123638,
          -0.09466097773192317,
          -0.16260336560247374,
          -0.22580079376909315,
          -0.2258021663491021,
          0.08306448000774563,
          3.866054184891019,
          -0.10736402284417816,
          -0.16195575691967914,
          -0.1637360945886593,
          0.3052145570215144,
          0.26893198391886464,
          0.6992619729387627,
          -0.16364951531687663,
          -0.1520293987459658,
          -0.10468353762855497,
          -0.14465739740552697,
          -0.1893427849499973,
          -0.14993219563914437,
          -0.2259563769577852,
          -0.05582189856954918,
          -0.1598830040199161,
          -0.14724434403757564,
          -0.22001097485274904,
          -0.11936037069574248,
          -0.1882253984744591,
          -0.2259790242687086,
          -0.07917179988217765,
          0.22820734335169565,
          0.1631721197028699,
          0.46052629611699547,
          -0.22500551994048015,
          -0.163135908501036,
          0.34138468742882805,
          -0.15032462858371412,
          -0.16103781640044063,
          -0.15604693669371245,
          -0.16045497466367709,
          -0.16348206863867226,
          -0.13470321648291927,
          0.08532502494590477,
          -0.1590814235224955,
          -0.15603556060916962,
          -0.1803071901714908,
          -0.15439813025877544,
          -0.16342125996937648,
          -0.16320848728870224,
          -0.15522506503728423,
          -0.15366466198352077,
          -0.16504511287820312,
          -0.15629373374158892,
          0.3852566613384803,
          -0.17209370343649266,
          -0.16088853085923843,
          -0.1447349374370796,
          -0.16366455489735787,
          -0.1637931700472624,
          -0.16362623278833394,
          -0.2250463405603917,
          -0.15679927391861073,
          -0.16243637072746164,
          -0.16258669152595978,
          -0.1482838631137232,
          -0.17673437042714882,
          -0.16286445963342963,
          -0.14298707188211984,
          -0.03649916360304302,
          -0.19624309786159083,
          -0.14688282530365349,
          -0.16981473037277028,
          -0.15625450687223216,
          -0.16371264721165982,
          -0.16042424167887148,
          -0.16134209072758518,
          -0.15010562703672292,
          -0.11664452825451443,
          -0.15010450336273343,
          -0.16026925246803625,
          1.587430294319038,
          -0.17663401047178987,
          -0.20425925356314437,
          -0.16287622793122244,
          -0.1253736664892652,
          -0.14971264834890471,
          -0.1894023918419457,
          -0.16694562743229294,
          -0.18052541115658177,
          0.30522016913011446,
          -0.09048664296196189,
          -0.3070970551311862,
          -0.16307705122900057,
          -0.16015011581414115,
          -0.2237759635837879,
          -0.1336119286607745,
          0.3056101022984815,
          -0.1627645446820741,
          -0.16386382823018006,
          -0.16251950204001095,
          -0.1442732800979854,
          0.577004739236687,
          0.14403888439218313,
          -0.16350854419138683,
          -0.15742917634993003,
          -0.22551689810684095,
          -0.15585059637403734,
          -0.16387494521612483,
          -0.14562271164564625,
          -0.16312209152323642,
          -0.16374493048518027,
          -0.2258376188620376,
          -0.16230649604159778,
          -0.14589466557051323,
          0.30538003344805004,
          2.562489536040999,
          -0.201391287000351,
          -0.09058565443665348,
          -0.15018220530822912,
          -0.01997488121693818,
          1.5852057388894694,
          2.116509158025769,
          0.30907718165145787,
          -0.028448845591185993,
          -0.15740046366361884,
          -0.1638750037884047,
          -0.16373896259699847,
          -0.21683737991121807,
          -0.16385671425325904,
          0.49041632075349817,
          -0.16174243147768358,
          -0.16102363246038592,
          1.0888202286460371,
          -0.2258783002420101,
          -0.28703591876574774,
          -0.1419710004849085,
          -0.22595094166775168,
          0.30931449271690814,
          0.3190037588928745,
          -0.12965364951747285,
          -0.07990168890748309,
          -0.16368803935906023,
          -0.10991689329632191,
          -0.16366727018451444,
          -0.22151727637039983,
          -0.14451518761314552,
          -0.23815551965440454,
          -0.16308693428349308,
          3.10305000904292,
          -0.15606876306837467,
          -0.15982745527500652,
          -0.1966826745207831,
          -0.16372431671982896,
          -0.14329657046407693,
          -0.11485637852426862,
          -0.1874351640696215,
          -0.16053487852982198,
          0.02942093394979891,
          -0.16353792482088242,
          0.38079958725502094,
          -0.14117528847218094,
          -0.12347451291243296,
          -0.16321037027554824,
          0.5529472531516108,
          -0.1632912185470466,
          -0.14321371921078227,
          -0.08933162943809837,
          0.5332966727539818,
          -0.16199592791015885,
          -0.1502100155629089,
          -0.17678640325778625,
          -0.22586692376519854,
          -0.16181576336483527,
          -0.22595298969432823,
          0.3057940255637532,
          -0.13731671422325442,
          -0.14993282593241375,
          -0.14964526865215613,
          -0.1414737854988123,
          8.05493735992757,
          -0.1018525916117852,
          1.1443812854232143,
          -0.1499156838720779,
          -0.16352827178557713,
          -0.15012171805168292,
          -0.1246379199649451,
          -0.1438805725681937,
          -0.15050731036438666,
          -0.1035667585220873,
          -0.22613052680295376,
          -0.17678883087341848,
          -0.21867371365858887,
          0.18693682226285185,
          -0.19498722000825966,
          -0.16344046660886058,
          -0.144858175910347,
          -0.13348959838675795,
          -0.16386603654716203,
          -0.16053955464327607,
          -0.2008181187923613,
          -0.1626838518287936,
          -0.16134103253001458,
          -0.16136267508974766,
          -0.15671476768294473,
          -0.1503660502172938,
          -0.1613750756261824,
          -0.1472242606025305,
          -0.1601422588883386,
          -0.16195396396099176,
          3.2504027230676003
         ],
         "y": [
          -1.177712221194839,
          -0.9200330296977591,
          -2.1884105794978215,
          -1.1224562667539497,
          -0.9197609985547974,
          -2.1224028981044802,
          -2.1885372737547453,
          -1.2978812574423835,
          -0.919750967457738,
          -1.1224393381155915,
          -1.1228220919621335,
          -0.9198314712633224,
          -0.9197323755807029,
          -0.9197347750313363,
          -1.2978787549712691,
          -1.122405518087165,
          -2.048888151969785,
          -1.1224049789082893,
          -2.320163334806938,
          -1.1224203556717698,
          -2.31956046776848,
          -2.3195540731012607,
          -1.122424854378345,
          -2.3201303161733295,
          -1.1225365350495229,
          -1.297860829456416,
          -1.2978608136794514,
          -2.0487470494602973,
          -0.2816548823932875,
          -1.2978608143885713,
          -2.0601613467641333,
          -2.235143102678001,
          -2.04875115975551,
          -2.0487640191407737,
          -2.274089735217604,
          -1.12246768201416,
          -0.9197327829930508,
          -0.9197298686856872,
          -0.8597663596780429,
          -2.387998457246248,
          -1.9688469627256577,
          -1.1224407706626,
          -1.1224104921003037,
          -2.3195599952995867,
          -1.3058402153737323,
          -0.19255220267758522,
          -1.1224146371479469,
          -2.165560382628508,
          -1.8135499224728342,
          -2.240885191782085,
          -0.6668253179847504,
          -1.297872287417603,
          -0.9197305711283943,
          -2.0523307094337837,
          -2.145415865180628,
          -1.1228249345631762,
          -0.9199727653295201,
          -2.1802710479304923,
          -1.5050002916936174,
          -0.9197316596769354,
          -1.970888072486038,
          -1.306147718051129,
          -1.8230535299907915,
          -2.323966682186357,
          -0.9197729169083765,
          -1.1224249215641697,
          -2.320332678578832,
          -1.2978566342768065,
          -1.1224969679115215,
          -2.151665521173352,
          -2.2312217468423623,
          -1.1224114800040124,
          -1.1247936164665957,
          -1.1276280107471448,
          -1.1225334329799952,
          -1.9650061048823346,
          -0.9201797261744041,
          -1.9651617825346164,
          -1.1224184189933124,
          -1.122443809113121,
          -1.9649715609989153,
          -1.9650964999973173,
          -2.0690509906662458,
          -1.9650041373355926,
          -2.3239745730644747,
          -1.6582835128070386,
          -1.1224647513205546,
          -2.1803801579694664,
          -1.1224141856668515,
          -1.122410168570148,
          -1.1224134631179457,
          -0.9197736865657624,
          -2.1883679259503004,
          -1.1224380717072282,
          -1.122430615295217,
          -1.2979338246153178,
          -1.6581474096227635,
          -1.1224375032024705,
          -1.1230538330162358,
          -1.1273522963676228,
          -1.11104498127051,
          -1.123317950026956,
          -1.658361091290361,
          -2.224457450646385,
          -1.1224166398959337,
          -2.145385062417293,
          -2.0487493338224634,
          -1.2978601214202437,
          -1.2990514058237934,
          -1.2978601002337948,
          -2.145394106715386,
          -1.1559784840590681,
          -1.658155219990252,
          -1.1357503937004907,
          -1.122431664114624,
          -1.8130600291237358,
          -1.2978703530764188,
          -0.6668064103572537,
          -2.0663248586449114,
          -1.1821645083170162,
          -2.319551803971582,
          -1.1283702099197626,
          -1.4953318923086205,
          -1.1224501514963356,
          -1.1225283179957577,
          -0.9198438200661568,
          -2.2412756155957503,
          -2.319576793984085,
          -1.1224560200506792,
          -1.1224042342692,
          -1.1224396391167581,
          -2.269898373831848,
          -2.316537794180312,
          -1.1301278424714256,
          -1.122411244143859,
          -2.061282736999792,
          -0.9197333106211454,
          -2.207110748112591,
          -1.1224039069079828,
          -2.40598035814185,
          -1.1224201287522504,
          -1.1224083506511275,
          -0.9197268618958891,
          -1.1224511471555563,
          -2.2407725363650455,
          -2.3195549641825557,
          -1.3532568148180926,
          -1.2865294970247838,
          -1.813872149573172,
          -1.297861565274658,
          -2.183280577795151,
          -1.0894251952470215,
          -2.420641877794881,
          -2.319718706683465,
          -1.1308757442113149,
          -1.1225290883974854,
          -1.1224039057851494,
          -1.1224033657519148,
          -0.9203539564206545,
          -1.1224051029517863,
          -0.9797150744255463,
          -1.1224970223221418,
          -1.1224719926185593,
          -1.2395898204925009,
          -0.9197327742549316,
          -0.13890657969113354,
          -2.173184733664626,
          -0.9197356139750247,
          -2.3199082849851784,
          -2.3200196158309154,
          -2.079444517144104,
          -1.124495401052198,
          -1.122415363504226,
          -1.2986305401210319,
          -1.122414971909277,
          -0.9198909090696952,
          -2.2408237067332752,
          -0.47001703216651386,
          -1.1224620985849658,
          -2.4043939734414947,
          -1.9650054683896196,
          -1.1224814974763122,
          -1.1110378333416342,
          -1.1224160475001748,
          -2.149811993331189,
          -1.813344802325756,
          -1.5050588967931375,
          -1.1225242375432665,
          -1.1261093978019887,
          -1.1224191485716453,
          -2.1754740029824338,
          -2.2247352640086118,
          -1.1787771692672275,
          -1.1224285556445517,
          -1.1456403750137139,
          -1.1224475741199118,
          -2.173115323308902,
          -1.1287159559308095,
          -1.181366626064182,
          -1.1225225596208266,
          -1.297862089626516,
          -1.6581404521776788,
          -0.9197303546156224,
          -1.1225483881435134,
          -0.9197318303468988,
          -2.319598971142672,
          -1.29825627679275,
          -1.2978722993015444,
          -1.2978705615481205,
          -2.1731339707850243,
          -2.9084731705173783,
          -1.6596523542947912,
          -2.366201357685483,
          -1.2978999078694613,
          -1.1224110845144222,
          -1.2978598117813023,
          -1.813044098769851,
          -2.2699496932443655,
          -1.2978524427885778,
          -0.8969778382974667,
          -0.9197206238172252,
          -1.6581449082297184,
          -0.9203150751295113,
          -1.819338172863316,
          -1.181690372808219,
          -1.122412165706859,
          -2.16269606569933,
          -2.241824975247376,
          -1.1224052152958797,
          -1.122535660717933,
          -1.2865759681548743,
          -1.1225047400155976,
          -2.048749313870548,
          -2.048749721932845,
          -2.188374344626258,
          -1.2978567520349014,
          -2.048747015553439,
          -1.2979151660508441,
          -2.145387831252729,
          -1.122440736857041,
          -1.2050378765282055
         ],
         "z": [
          -0.004182690724960804,
          0.023577456431781524,
          0.34970816386359493,
          0.008751305023547318,
          0.023658352166320853,
          0.2577914358969071,
          0.34967179819156097,
          0.19927904803441013,
          0.02366998750396998,
          0.008765225396810307,
          0.008295569203620798,
          0.02326258455991243,
          0.023684593912707892,
          0.023684020448410784,
          0.19926135256935532,
          0.008776634503114604,
          0.4512138486364858,
          0.008777704161318449,
          0.38902887914646783,
          0.008765744608010509,
          0.3896428948350845,
          0.38964675847612845,
          0.008768502814675236,
          0.38947492365446257,
          0.008711571686568814,
          0.19928228718935173,
          0.19928225757487544,
          0.4512559182475497,
          -0.06743432684917196,
          0.19928225890594295,
          0.44605165323149065,
          0.4024546472320187,
          0.45125108476156234,
          0.4512255733553498,
          0.3932226523025905,
          0.008747345260217988,
          0.02368028125200246,
          0.023679888293892,
          -0.6830706813420053,
          0.28398370559135366,
          0.39408237844573957,
          0.008722217766770703,
          0.008775638562772952,
          0.38964708538006215,
          0.18683548225556948,
          -0.484440160437862,
          0.008773442013880202,
          0.3302359845819795,
          0.3455778000085176,
          0.3947677705899402,
          -0.028735896579261268,
          0.19927713822816084,
          0.023685014880233703,
          0.44836229261045923,
          0.3851467659431939,
          0.008300904966335353,
          0.02352780349104438,
          0.45586473954899476,
          0.2794266438211345,
          0.023685915747101202,
          0.39347095835071016,
          0.18820765537468384,
          0.3382835998227967,
          0.38525189787070785,
          0.023660414147168594,
          0.008758263410153115,
          0.38858542156024045,
          0.1992875651739584,
          0.008700768907257999,
          0.40604669894151596,
          0.4308623540149794,
          0.008767515831965401,
          0.008188207977130418,
          0.0014497352548491654,
          0.008642544796422973,
          0.3950903322131544,
          0.02226612780992799,
          0.39506039599710174,
          0.008766577947781016,
          0.008763462969766125,
          0.39505875492359477,
          0.3950267106111174,
          0.48218067085243477,
          0.3950984428606418,
          0.38770386277082164,
          0.2551918938069871,
          0.00869107011727443,
          0.4305964388984391,
          0.008773863902617246,
          0.008777448354769842,
          0.008772507627342776,
          0.02366185884838378,
          0.34972139741511543,
          0.008737461246824844,
          0.008741235943895266,
          0.1992327097135128,
          0.2553225549820665,
          0.008751314451122106,
          0.00819666244367883,
          0.005374927035676031,
          0.11086063280101587,
          0.008363171363464952,
          0.2551293405941423,
          0.4085720338983498,
          0.008775798346893906,
          0.3851597629123631,
          0.4512602061565075,
          0.19928095815550095,
          0.1983703628766111,
          0.19928091838704118,
          0.3851560746688471,
          -0.04320135788400872,
          0.25532046016488547,
          0.1601681093474941,
          0.008750820755562601,
          0.34617790217478517,
          0.1992696992814621,
          -0.028736795187345617,
          0.40442969912790283,
          0.17167289979363895,
          0.38964567253614035,
          0.007285622591041989,
          0.7180844598079437,
          0.008760135863258814,
          0.008676573295067137,
          0.02363102749915565,
          0.3944667610275968,
          0.3896367291260568,
          0.00875084194410212,
          0.008778857815931285,
          0.008740403385099972,
          0.3942086013190562,
          0.33715246502464175,
          -8.658206294359264e-05,
          0.008768342456422308,
          0.3719875694542101,
          0.023671116842307313,
          0.38932114350120606,
          0.00877917062437285,
          0.32030977665261534,
          0.008757093779869626,
          0.008775604672487067,
          0.023680591090333845,
          0.00873519610104705,
          0.3947911382861201,
          0.3896409419300084,
          -0.045323480299264286,
          0.20933762657940275,
          0.34516716252482277,
          0.19928366837210554,
          0.3596778720649831,
          -0.05312341161261792,
          0.3458510552697475,
          0.3895451524041873,
          0.0056419341978127336,
          0.008587160292506883,
          0.008779172362867984,
          0.008774661762361635,
          0.02348171569959777,
          0.008778756637172175,
          0.009367947349000528,
          0.008723719350754382,
          0.008696556471556715,
          0.13793215583036228,
          0.02368280355114918,
          0.15574670569128482,
          0.42265356207184307,
          0.023685595204904597,
          0.3895658950343043,
          0.3892671313013844,
          0.44651425924689303,
          0.006359085998397353,
          0.008774805435863479,
          0.19808810850145578,
          0.008774070384515279,
          0.02356455610708446,
          0.3947539068638487,
          -0.04309220830443395,
          0.008762251781824378,
          0.2680980082590458,
          0.39509131770167727,
          0.008659036302800124,
          0.11087387199694335,
          0.008776089344517913,
          0.26750560796182743,
          0.345878224348079,
          0.2794097146670807,
          0.00868848839968663,
          0.0030419187363600613,
          0.008770486119000317,
          0.34545631798451015,
          0.29111173314887134,
          0.08281681550091419,
          0.008761233625686628,
          -0.011071083320245563,
          0.008766722101327654,
          0.4226836014647758,
          0.00729993694415962,
          -0.005066153653647002,
          0.008735808201010005,
          0.19928465261753883,
          0.25532320435332023,
          0.023682069769271414,
          0.008733820780273082,
          0.02368509369111721,
          0.3896340709862619,
          0.19892404276395215,
          0.19927716053515812,
          0.1992675367047539,
          0.42262974955063526,
          0.22575471502983416,
          0.25311040523341216,
          0.369328068099351,
          0.19928074844197644,
          0.008768960815066527,
          0.19928143557976832,
          0.34615155395829006,
          0.3942035215321182,
          0.1992928838471965,
          0.037396272423149565,
          0.023689191386268394,
          0.2553239525737499,
          0.023535667833571697,
          0.33695187580820357,
          0.17207257420797095,
          0.008766264243373742,
          0.4986637385000987,
          0.3945452767601708,
          0.00877907704214847,
          0.008690356102650457,
          0.20932594291181933,
          0.008755530991513986,
          0.45126016870535374,
          0.45126093466707645,
          0.3497196098011361,
          0.1992889315467244,
          0.4512609320044117,
          0.19919540704083796,
          0.3851509973538832,
          0.008722154311350464,
          -0.08998037326637752
         ]
        },
        {
         "customdata": [
          [
           "Ouroboros"
          ],
          [
           "XEVAN"
          ],
          [
           "Scrypt"
          ],
          [
           "Ethash"
          ],
          [
           "CryptoNight"
          ],
          [
           "X16R"
          ]
         ],
         "hovertemplate": "<b>%{hovertext}</b><br><br>Class=%{marker.color}<br>PC 1=%{x}<br>PC 2=%{y}<br>PC 3=%{z}<br>Algorithm=%{customdata[0]}<extra></extra>",
         "hovertext": [
          "Cardano",
          "Beetle Coin",
          "MintCoin",
          "Reality Clash",
          "DigitalNote ",
          "Motion"
         ],
         "legendgroup": "3",
         "marker": {
          "color": [
           3,
           3,
           3,
           3,
           3,
           3
          ],
          "coloraxis": "coloraxis",
          "symbol": "square"
         },
         "mode": "markers",
         "name": "3",
         "scene": "scene",
         "showlegend": true,
         "type": "scatter3d",
         "x": [
          -0.4299600689694399,
          -0.18062047791128957,
          -0.31887600078309714,
          -0.4187473098695271,
          4.428099758504663,
          -0.3955302908851801
         ],
         "y": [
          3.954828984418294,
          3.001557094447168,
          2.663465670611379,
          2.372882679050498,
          2.997756188608351,
          2.8628375065635265
         ],
         "z": [
          15.100001254284535,
          9.636621877368842,
          19.814723239443882,
          7.481758004726693,
          6.592915001354939,
          12.940849614202355
         ]
        },
        {
         "customdata": [
          [
           "Scrypt"
          ]
         ],
         "hovertemplate": "<b>%{hovertext}</b><br><br>Class=%{marker.color}<br>PC 1=%{x}<br>PC 2=%{y}<br>PC 3=%{z}<br>Algorithm=%{customdata[0]}<extra></extra>",
         "hovertext": [
          "BlueCoin"
         ],
         "legendgroup": "1",
         "marker": {
          "color": [
           1
          ],
          "coloraxis": "coloraxis",
          "symbol": "x"
         },
         "mode": "markers",
         "name": "1",
         "scene": "scene",
         "showlegend": true,
         "type": "scatter3d",
         "x": [
          34.092860029900336
         ],
         "y": [
          1.4369651166378026
         ],
         "z": [
          -1.1113275563689675
         ]
        }
       ],
       "layout": {
        "coloraxis": {
         "colorbar": {
          "title": {
           "text": "Class"
          }
         },
         "colorscale": [
          [
           0,
           "#0d0887"
          ],
          [
           0.1111111111111111,
           "#46039f"
          ],
          [
           0.2222222222222222,
           "#7201a8"
          ],
          [
           0.3333333333333333,
           "#9c179e"
          ],
          [
           0.4444444444444444,
           "#bd3786"
          ],
          [
           0.5555555555555556,
           "#d8576b"
          ],
          [
           0.6666666666666666,
           "#ed7953"
          ],
          [
           0.7777777777777778,
           "#fb9f3a"
          ],
          [
           0.8888888888888888,
           "#fdca26"
          ],
          [
           1,
           "#f0f921"
          ]
         ]
        },
        "legend": {
         "title": {
          "text": "Class"
         },
         "tracegroupgap": 0,
         "x": 0,
         "y": 1
        },
        "margin": {
         "t": 60
        },
        "scene": {
         "domain": {
          "x": [
           0,
           1
          ],
          "y": [
           0,
           1
          ]
         },
         "xaxis": {
          "title": {
           "text": "PC 1"
          }
         },
         "yaxis": {
          "title": {
           "text": "PC 2"
          }
         },
         "zaxis": {
          "title": {
           "text": "PC 3"
          }
         }
        },
        "template": {
         "data": {
          "bar": [
           {
            "error_x": {
             "color": "#2a3f5f"
            },
            "error_y": {
             "color": "#2a3f5f"
            },
            "marker": {
             "line": {
              "color": "#E5ECF6",
              "width": 0.5
             }
            },
            "type": "bar"
           }
          ],
          "barpolar": [
           {
            "marker": {
             "line": {
              "color": "#E5ECF6",
              "width": 0.5
             }
            },
            "type": "barpolar"
           }
          ],
          "carpet": [
           {
            "aaxis": {
             "endlinecolor": "#2a3f5f",
             "gridcolor": "white",
             "linecolor": "white",
             "minorgridcolor": "white",
             "startlinecolor": "#2a3f5f"
            },
            "baxis": {
             "endlinecolor": "#2a3f5f",
             "gridcolor": "white",
             "linecolor": "white",
             "minorgridcolor": "white",
             "startlinecolor": "#2a3f5f"
            },
            "type": "carpet"
           }
          ],
          "choropleth": [
           {
            "colorbar": {
             "outlinewidth": 0,
             "ticks": ""
            },
            "type": "choropleth"
           }
          ],
          "contour": [
           {
            "colorbar": {
             "outlinewidth": 0,
             "ticks": ""
            },
            "colorscale": [
             [
              0,
              "#0d0887"
             ],
             [
              0.1111111111111111,
              "#46039f"
             ],
             [
              0.2222222222222222,
              "#7201a8"
             ],
             [
              0.3333333333333333,
              "#9c179e"
             ],
             [
              0.4444444444444444,
              "#bd3786"
             ],
             [
              0.5555555555555556,
              "#d8576b"
             ],
             [
              0.6666666666666666,
              "#ed7953"
             ],
             [
              0.7777777777777778,
              "#fb9f3a"
             ],
             [
              0.8888888888888888,
              "#fdca26"
             ],
             [
              1,
              "#f0f921"
             ]
            ],
            "type": "contour"
           }
          ],
          "contourcarpet": [
           {
            "colorbar": {
             "outlinewidth": 0,
             "ticks": ""
            },
            "type": "contourcarpet"
           }
          ],
          "heatmap": [
           {
            "colorbar": {
             "outlinewidth": 0,
             "ticks": ""
            },
            "colorscale": [
             [
              0,
              "#0d0887"
             ],
             [
              0.1111111111111111,
              "#46039f"
             ],
             [
              0.2222222222222222,
              "#7201a8"
             ],
             [
              0.3333333333333333,
              "#9c179e"
             ],
             [
              0.4444444444444444,
              "#bd3786"
             ],
             [
              0.5555555555555556,
              "#d8576b"
             ],
             [
              0.6666666666666666,
              "#ed7953"
             ],
             [
              0.7777777777777778,
              "#fb9f3a"
             ],
             [
              0.8888888888888888,
              "#fdca26"
             ],
             [
              1,
              "#f0f921"
             ]
            ],
            "type": "heatmap"
           }
          ],
          "heatmapgl": [
           {
            "colorbar": {
             "outlinewidth": 0,
             "ticks": ""
            },
            "colorscale": [
             [
              0,
              "#0d0887"
             ],
             [
              0.1111111111111111,
              "#46039f"
             ],
             [
              0.2222222222222222,
              "#7201a8"
             ],
             [
              0.3333333333333333,
              "#9c179e"
             ],
             [
              0.4444444444444444,
              "#bd3786"
             ],
             [
              0.5555555555555556,
              "#d8576b"
             ],
             [
              0.6666666666666666,
              "#ed7953"
             ],
             [
              0.7777777777777778,
              "#fb9f3a"
             ],
             [
              0.8888888888888888,
              "#fdca26"
             ],
             [
              1,
              "#f0f921"
             ]
            ],
            "type": "heatmapgl"
           }
          ],
          "histogram": [
           {
            "marker": {
             "colorbar": {
              "outlinewidth": 0,
              "ticks": ""
             }
            },
            "type": "histogram"
           }
          ],
          "histogram2d": [
           {
            "colorbar": {
             "outlinewidth": 0,
             "ticks": ""
            },
            "colorscale": [
             [
              0,
              "#0d0887"
             ],
             [
              0.1111111111111111,
              "#46039f"
             ],
             [
              0.2222222222222222,
              "#7201a8"
             ],
             [
              0.3333333333333333,
              "#9c179e"
             ],
             [
              0.4444444444444444,
              "#bd3786"
             ],
             [
              0.5555555555555556,
              "#d8576b"
             ],
             [
              0.6666666666666666,
              "#ed7953"
             ],
             [
              0.7777777777777778,
              "#fb9f3a"
             ],
             [
              0.8888888888888888,
              "#fdca26"
             ],
             [
              1,
              "#f0f921"
             ]
            ],
            "type": "histogram2d"
           }
          ],
          "histogram2dcontour": [
           {
            "colorbar": {
             "outlinewidth": 0,
             "ticks": ""
            },
            "colorscale": [
             [
              0,
              "#0d0887"
             ],
             [
              0.1111111111111111,
              "#46039f"
             ],
             [
              0.2222222222222222,
              "#7201a8"
             ],
             [
              0.3333333333333333,
              "#9c179e"
             ],
             [
              0.4444444444444444,
              "#bd3786"
             ],
             [
              0.5555555555555556,
              "#d8576b"
             ],
             [
              0.6666666666666666,
              "#ed7953"
             ],
             [
              0.7777777777777778,
              "#fb9f3a"
             ],
             [
              0.8888888888888888,
              "#fdca26"
             ],
             [
              1,
              "#f0f921"
             ]
            ],
            "type": "histogram2dcontour"
           }
          ],
          "mesh3d": [
           {
            "colorbar": {
             "outlinewidth": 0,
             "ticks": ""
            },
            "type": "mesh3d"
           }
          ],
          "parcoords": [
           {
            "line": {
             "colorbar": {
              "outlinewidth": 0,
              "ticks": ""
             }
            },
            "type": "parcoords"
           }
          ],
          "pie": [
           {
            "automargin": true,
            "type": "pie"
           }
          ],
          "scatter": [
           {
            "marker": {
             "colorbar": {
              "outlinewidth": 0,
              "ticks": ""
             }
            },
            "type": "scatter"
           }
          ],
          "scatter3d": [
           {
            "line": {
             "colorbar": {
              "outlinewidth": 0,
              "ticks": ""
             }
            },
            "marker": {
             "colorbar": {
              "outlinewidth": 0,
              "ticks": ""
             }
            },
            "type": "scatter3d"
           }
          ],
          "scattercarpet": [
           {
            "marker": {
             "colorbar": {
              "outlinewidth": 0,
              "ticks": ""
             }
            },
            "type": "scattercarpet"
           }
          ],
          "scattergeo": [
           {
            "marker": {
             "colorbar": {
              "outlinewidth": 0,
              "ticks": ""
             }
            },
            "type": "scattergeo"
           }
          ],
          "scattergl": [
           {
            "marker": {
             "colorbar": {
              "outlinewidth": 0,
              "ticks": ""
             }
            },
            "type": "scattergl"
           }
          ],
          "scattermapbox": [
           {
            "marker": {
             "colorbar": {
              "outlinewidth": 0,
              "ticks": ""
             }
            },
            "type": "scattermapbox"
           }
          ],
          "scatterpolar": [
           {
            "marker": {
             "colorbar": {
              "outlinewidth": 0,
              "ticks": ""
             }
            },
            "type": "scatterpolar"
           }
          ],
          "scatterpolargl": [
           {
            "marker": {
             "colorbar": {
              "outlinewidth": 0,
              "ticks": ""
             }
            },
            "type": "scatterpolargl"
           }
          ],
          "scatterternary": [
           {
            "marker": {
             "colorbar": {
              "outlinewidth": 0,
              "ticks": ""
             }
            },
            "type": "scatterternary"
           }
          ],
          "surface": [
           {
            "colorbar": {
             "outlinewidth": 0,
             "ticks": ""
            },
            "colorscale": [
             [
              0,
              "#0d0887"
             ],
             [
              0.1111111111111111,
              "#46039f"
             ],
             [
              0.2222222222222222,
              "#7201a8"
             ],
             [
              0.3333333333333333,
              "#9c179e"
             ],
             [
              0.4444444444444444,
              "#bd3786"
             ],
             [
              0.5555555555555556,
              "#d8576b"
             ],
             [
              0.6666666666666666,
              "#ed7953"
             ],
             [
              0.7777777777777778,
              "#fb9f3a"
             ],
             [
              0.8888888888888888,
              "#fdca26"
             ],
             [
              1,
              "#f0f921"
             ]
            ],
            "type": "surface"
           }
          ],
          "table": [
           {
            "cells": {
             "fill": {
              "color": "#EBF0F8"
             },
             "line": {
              "color": "white"
             }
            },
            "header": {
             "fill": {
              "color": "#C8D4E3"
             },
             "line": {
              "color": "white"
             }
            },
            "type": "table"
           }
          ]
         },
         "layout": {
          "annotationdefaults": {
           "arrowcolor": "#2a3f5f",
           "arrowhead": 0,
           "arrowwidth": 1
          },
          "coloraxis": {
           "colorbar": {
            "outlinewidth": 0,
            "ticks": ""
           }
          },
          "colorscale": {
           "diverging": [
            [
             0,
             "#8e0152"
            ],
            [
             0.1,
             "#c51b7d"
            ],
            [
             0.2,
             "#de77ae"
            ],
            [
             0.3,
             "#f1b6da"
            ],
            [
             0.4,
             "#fde0ef"
            ],
            [
             0.5,
             "#f7f7f7"
            ],
            [
             0.6,
             "#e6f5d0"
            ],
            [
             0.7,
             "#b8e186"
            ],
            [
             0.8,
             "#7fbc41"
            ],
            [
             0.9,
             "#4d9221"
            ],
            [
             1,
             "#276419"
            ]
           ],
           "sequential": [
            [
             0,
             "#0d0887"
            ],
            [
             0.1111111111111111,
             "#46039f"
            ],
            [
             0.2222222222222222,
             "#7201a8"
            ],
            [
             0.3333333333333333,
             "#9c179e"
            ],
            [
             0.4444444444444444,
             "#bd3786"
            ],
            [
             0.5555555555555556,
             "#d8576b"
            ],
            [
             0.6666666666666666,
             "#ed7953"
            ],
            [
             0.7777777777777778,
             "#fb9f3a"
            ],
            [
             0.8888888888888888,
             "#fdca26"
            ],
            [
             1,
             "#f0f921"
            ]
           ],
           "sequentialminus": [
            [
             0,
             "#0d0887"
            ],
            [
             0.1111111111111111,
             "#46039f"
            ],
            [
             0.2222222222222222,
             "#7201a8"
            ],
            [
             0.3333333333333333,
             "#9c179e"
            ],
            [
             0.4444444444444444,
             "#bd3786"
            ],
            [
             0.5555555555555556,
             "#d8576b"
            ],
            [
             0.6666666666666666,
             "#ed7953"
            ],
            [
             0.7777777777777778,
             "#fb9f3a"
            ],
            [
             0.8888888888888888,
             "#fdca26"
            ],
            [
             1,
             "#f0f921"
            ]
           ]
          },
          "colorway": [
           "#636efa",
           "#EF553B",
           "#00cc96",
           "#ab63fa",
           "#FFA15A",
           "#19d3f3",
           "#FF6692",
           "#B6E880",
           "#FF97FF",
           "#FECB52"
          ],
          "font": {
           "color": "#2a3f5f"
          },
          "geo": {
           "bgcolor": "white",
           "lakecolor": "white",
           "landcolor": "#E5ECF6",
           "showlakes": true,
           "showland": true,
           "subunitcolor": "white"
          },
          "hoverlabel": {
           "align": "left"
          },
          "hovermode": "closest",
          "mapbox": {
           "style": "light"
          },
          "paper_bgcolor": "white",
          "plot_bgcolor": "#E5ECF6",
          "polar": {
           "angularaxis": {
            "gridcolor": "white",
            "linecolor": "white",
            "ticks": ""
           },
           "bgcolor": "#E5ECF6",
           "radialaxis": {
            "gridcolor": "white",
            "linecolor": "white",
            "ticks": ""
           }
          },
          "scene": {
           "xaxis": {
            "backgroundcolor": "#E5ECF6",
            "gridcolor": "white",
            "gridwidth": 2,
            "linecolor": "white",
            "showbackground": true,
            "ticks": "",
            "zerolinecolor": "white"
           },
           "yaxis": {
            "backgroundcolor": "#E5ECF6",
            "gridcolor": "white",
            "gridwidth": 2,
            "linecolor": "white",
            "showbackground": true,
            "ticks": "",
            "zerolinecolor": "white"
           },
           "zaxis": {
            "backgroundcolor": "#E5ECF6",
            "gridcolor": "white",
            "gridwidth": 2,
            "linecolor": "white",
            "showbackground": true,
            "ticks": "",
            "zerolinecolor": "white"
           }
          },
          "shapedefaults": {
           "line": {
            "color": "#2a3f5f"
           }
          },
          "ternary": {
           "aaxis": {
            "gridcolor": "white",
            "linecolor": "white",
            "ticks": ""
           },
           "baxis": {
            "gridcolor": "white",
            "linecolor": "white",
            "ticks": ""
           },
           "bgcolor": "#E5ECF6",
           "caxis": {
            "gridcolor": "white",
            "linecolor": "white",
            "ticks": ""
           }
          },
          "title": {
           "x": 0.05
          },
          "xaxis": {
           "automargin": true,
           "gridcolor": "white",
           "linecolor": "white",
           "ticks": "",
           "title": {
            "standoff": 15
           },
           "zerolinecolor": "white",
           "zerolinewidth": 2
          },
          "yaxis": {
           "automargin": true,
           "gridcolor": "white",
           "linecolor": "white",
           "ticks": "",
           "title": {
            "standoff": 15
           },
           "zerolinecolor": "white",
           "zerolinewidth": 2
          }
         }
        },
        "width": 800
       }
      },
      "text/html": [
       "<div>\n",
       "        \n",
       "        \n",
       "            <div id=\"f7e280f7-ec9c-4ca6-9235-43fbea0e782a\" class=\"plotly-graph-div\" style=\"height:525px; width:800px;\"></div>\n",
       "            <script type=\"text/javascript\">\n",
       "                require([\"plotly\"], function(Plotly) {\n",
       "                    window.PLOTLYENV=window.PLOTLYENV || {};\n",
       "                    \n",
       "                if (document.getElementById(\"f7e280f7-ec9c-4ca6-9235-43fbea0e782a\")) {\n",
       "                    Plotly.newPlot(\n",
       "                        'f7e280f7-ec9c-4ca6-9235-43fbea0e782a',\n",
       "                        [{\"customdata\": [[\"X13\"], [\"Scrypt\"], [\"Scrypt\"], [\"Scrypt\"], [\"ECC 256K1\"], [\"Lyra2REv2\"], [\"Scrypt\"], [\"X11\"], [\"Scrypt\"], [\"Lyra2Z\"], [\"Lyra2Z\"], [\"Scrypt\"], [\"Scrypt\"], [\"PoS\"], [\"X11\"], [\"Scrypt\"], [\"X11\"], [\"SHA-256\"], [\"Equihash\"], [\"CryptoNight\"], [\"Green Protocol\"], [\"Scrypt\"], [\"SHA-256\"], [\"Scrypt\"], [\"Scrypt\"], [\"Scrypt\"], [\"X13\"], [\"SHA-256\"], [\"Scrypt\"], [\"Scrypt\"], [\"SHA-256\"], [\"Equihash\"], [\"Quark\"], [\"Equihash\"], [\"Equihash\"], [\"Time Travel\"], [\"XEVAN\"], [\"Shabal256\"], [\"SHA-256D\"], [\"SHA-256\"], [\"Scrypt\"], [\"Scrypt\"], [\"Scrypt\"], [\"Scrypt\"], [\"Ethash\"], [\"Scrypt\"], [\"Scrypt\"], [\"X13\"], [\"Multiple\"], [\"Equihash\"], [\"X11\"], [\"Quark\"], [\"Scrypt\"], [\"CryptoNight-V7\"], [\"Lyra2RE\"], [\"NIST5\"], [\"QuBit\"], [\"X11\"], [\"CryptoNight\"], [\"Scrypt\"], [\"Multiple\"], [\"Scrypt\"], [\"Scrypt\"], [\"X15\"], [\"SHA-256\"], [\"Groestl\"], [\"NIST5\"], [\"X11\"], [\"QUAIT\"], [\"Quark\"], [\"Scrypt\"], [\"SHA-256\"], [\"Ethash\"], [\"Ethash\"], [\"XEVAN\"], [\"X13\"], [\"Scrypt\"], [\"Scrypt\"], [\"X11\"], [\"X11\"], [\"Ethash\"], [\"SHA-256\"], [\"X11\"], [\"PoS\"], [\"Ethash\"], [\"Groestl\"], [\"SHA3-256\"], [\"Stanford Folding\"], [\"Scrypt\"], [\"Scrypt\"], [\"PoS\"], [\"CryptoNight\"], [\"Scrypt\"], [\"Scrypt\"], [\"NeoScrypt\"], [\"Scrypt\"], [\"Quark\"], [\"Scrypt\"], [\"X11\"], [\"Scrypt\"], [\"Quark\"], [\"Lyra2Z\"], [\"Scrypt\"], [\"X14\"], [\"Scrypt\"], [\"Scrypt\"], [\"Scrypt\"], [\"NeoScrypt\"], [\"X11\"], [\"Scrypt\"], [\"Quark\"], [\"X11\"], [\"Scrypt\"], [\"SHA-256\"], [\"SHA-256\"], [\"Scrypt\"], [\"Scrypt\"], [\"X11\"], [\"X11\"], [\"X11\"], [\"X11\"], [\"SHA-256\"], [\"X11\"], [\"C11\"], [\"X11\"], [\"SHA-512\"], [\"Tribus\"], [\"Scrypt\"], [\"POS 2.0\"], [\"PoS\"], [\"Quark\"], [\"X15\"], [\"X13\"], [\"CryptoNight\"], [\"X11\"], [\"SHA-256 + Hive\"], [\"Scrypt\"], [\"POS 3.0\"], [\"Blake\"], [\"Scrypt\"], [\"CryptoNight Heavy\"], [\"Scrypt\"], [\"Scrypt\"], [\"CryptoNight-V7\"], [\"PHI1612\"], [\"Scrypt\"], [\"X11\"], [\"X11\"], [\"Scrypt\"], [\"Ethash\"], [\"Scrypt\"], [\"HybridScryptHash256\"], [\"Scrypt\"], [\"Scrypt\"], [\"Scrypt\"], [\"Scrypt\"], [\"Scrypt\"], [\"X11\"], [\"SkunkHash\"], [\"DPoS\"], [\"Scrypt\"], [\"X13\"], [\"CryptoNight\"], [\"Scrypt\"], [\"Scrypt\"], [\"SHA-256\"], [\"SHA3\"], [\"Scrypt\"], [\"PoS\"], [\"Scrypt\"], [\"SHA-512\"], [\"Scrypt\"], [\"VBFT\"], [\"X11\"], [\"X13\"], [\"NeoScrypt\"], [\"Scrypt\"], [\"Scrypt\"], [\"Scrypt\"], [\"X11\"], [\"PoS\"], [\"X11\"], [\"X11\"], [\"Scrypt\"], [\"CryptoNight\"], [\"CryptoNight\"], [\"HMQ1725\"], [\"Scrypt\"], [\"X11\"], [\"Proof-of-Authority\"], [\"Scrypt\"], [\"Quark\"], [\"Scrypt\"], [\"SHA-256\"], [\"X16R\"], [\"Scrypt\"], [\"Scrypt\"], [\"Scrypt\"], [\"X11\"], [\"X11\"], [\"Scrypt\"], [\"Scrypt\"], [\"Quark\"], [\"CryptoNight-V7\"], [\"SHA-256\"], [\"Groestl\"], [\"Scrypt\"], [\"Scrypt\"], [\"Lyra2REv2\"], [\"Cryptonight-GPU\"], [\"Scrypt\"], [\"Scrypt\"], [\"X11GOST\"], [\"Scrypt\"], [\"Counterparty\"], [\"QuBit\"], [\"Scrypt\"], [\"Keccak\"], [\"Dagger\"], [\"Scrypt\"], [\"Scrypt\"], [\"SHA-256\"], [\"C11\"], [\"Scrypt\"], [\"PoS\"], [\"X13\"], [\"X11\"], [\"POS 3.0\"], [\"SHA-256\"], [\"Dagger\"], [\"X13\"], [\"X11\"], [\"Scrypt\"], [\"Scrypt\"], [\"SHA-256D\"], [\"CryptoNight\"], [\"NeoScrypt\"], [\"X11\"], [\"NeoScrypt\"], [\"Multiple\"], [\"Blake\"], [\"Scrypt\"], [\"Scrypt\"], [\"SHA-256\"], [\"XEVAN\"], [\"X11\"], [\"SHA-256\"], [\"Scrypt\"], [\"Scrypt\"], [\"VeChainThor Authority\"], [\"Scrypt\"], [\"SHA-256D\"], [\"Quark\"], [\"NeoScrypt\"], [\"X11\"], [\"Scrypt\"], [\"Equihash+Scrypt\"], [\"Scrypt\"], [\"NIST5\"], [\"Quark\"], [\"Scrypt\"], [\"Scrypt\"], [\"Multiple\"], [\"Keccak\"], [\"X11\"], [\"Scrypt\"], [\"SHA-256\"], [\"CryptoNight\"], [\"X11\"], [\"Multiple\"], [\"PoS\"], [\"X11\"], [\"X13\"], [\"X11\"], [\"X13\"], [\"Scrypt\"], [\"CryptoNight\"], [\"X11\"], [\"Scrypt\"], [\"Equihash\"], [\"Equihash\"], [\"SHA-256\"], [\"SHA-256\"], [\"Lyra2RE\"], [\"SHA-256\"]], \"hovertemplate\": \"<b>%{hovertext}</b><br><br>Class=%{marker.color}<br>PC 1=%{x}<br>PC 2=%{y}<br>PC 3=%{z}<br>Algorithm=%{customdata[0]}<extra></extra>\", \"hovertext\": [\"EliteCoin\", \"1Credit\", \"42 Coin\", \"8BIT Coin\", \"Acute Angle Cloud\", \"Absolute Coin\", \"ArtByte\", \"AC3\", \"AdCoin\", \"Actinium\", \"Alpenschillling\", \"AquariusCoin\", \"ArgusCoin\", \"Atmos\", \"ArtexCoin\", \"Aurora Coin\", \"Award\", \"Bitcoin Cash\", \"Beam\", \"Bikercoins\", \"Bitcoin Green\", \"BitstarCoin\", \"BLAST\", \"BlackholeCoin\", \"BillaryCoin\", \"Block-Logic\", \"BritCoin\", \"Bitcoin SV\", \"Bata\", \"BitBar\", \"Bitcoin\", \"BitcoinZ\", \"Bitcloud 2.0\", \"Bitcoin Gold\", \"Bithereum\", \"Bitcore\", \"Bettex coin\", \"BurstCoin\", \"BuzzCoin\", \"BitcoinWSpectrum\", \"Catcoin\", \"CryptoBullion\", \"CannaCoin\", \"Crypto Escudo\", \"Callisto Network\", \" ClubCoin\", \"Cash & Back Coin\", \"Paycon\", \"Circuits of Value\", \"CrypticCoin\", \"CryptCoin\", \"Crypto Sports\", \"CarterCoin\", \"Citadel\", \"Crypto\", \"Coinonat\", \"CypherPunkCoin\", \"Dash Platinum\", \"Dinastycoin\", \"Degas Coin\", \"DigiByte\", \"Digitalcoin \", \"Diggits\", \"Dekado\", \"DollarCoin\", \"Diamond\", \"Denarius\", \"DigitalPrice\", \"Droidz\", \"Dystem\", \"eBoost\", \"EDRCoin\", \"Elementrem\", \"Ellaism\", \"Ellerium\", \"EmberCoin\", \"Emerald\", \"EnergyCoin\", \"Eternity\", \"EuropeCoin\", \"Ethereum\", \"Eurocoin\", \"EUNO\", \"Exclusive Coin\", \"Expanse\", \"FairCoin\", \"Fiii\", \"Folding Coin\", \"BitFlip\", \"FrazCoin\", \"FreeCoin\", \"FREDEnergy\", \"Franko\", \"Francs\", \"FeatherCoin\", \"GAKHcoin\", \"Galilel\", \"Gamecredits\", \"GoldBlocks\", \"Genstake\", \"Giant\", \"GINcoin\", \"GoldCoin\", \"GanjaCoin V2\", \"GPU Coin\", \"GreenCoin\", \"GrowthCoin\", \"GunCoin\", \"Halloween Coin\", \"HoboNickels\", \"HerbCoin\", \"Hitcoin\", \"HollyWoodCoin\", \"I0coin\", \"ILCoin\", \"Impeach\", \"Independent Money System\", \"Impact\", \"InsaneCoin\", \"Insane Coin\", \"IOCoin\", \"Internet of People\", \"IslaCoin\", \"Interzone\", \"Junson Ming Chan Coin\", \"Kcash\", \"KEYCO\", \"Klingon Empire Darsek\", \"KekCoin\", \"Ketan\", \"Kalkulus\", \"KoboCoin\", \"Kore\", \"Karbo\", \"Kurrent\", \"LitecoinCash\", \"Linda\", \"Let it Ride\", \"Lithium\", \"LuckyCoin\", \"Loki\", \"LottoCoin\", \"Litebar \", \"Lethean\", \"LUXCoin\", \"Lynx\", \"Magnet\", \"MarsCoin \", \"My Big Coin\", \"1717 Masonic Commemorative Token\", \"MegaCoin\", \"MediterraneanCoin\", \"MedicCoin\", \"MinCoin\", \"MonaCoin\", \"MoonCoin\", \"MasterCoin\", \"MustangCoin\", \"MUNcoin\", \"Muse\", \"Nautilus Coin\", \"NavCoin\", \"Niobio Cash\", \"Gulden\", \"Nasdacoin\", \"Neutron\", \"Nexus\", \"NewYorkCoin\", \"Zealium\", \"OrangeCoin\", \"Obsidian\", \"Omni\", \"Ontology\", \"Onix\", \"OpalCoin\", \"Orbitcoin\", \"OsmiumCoin\", \"Oduwa\", \"Pakcoin\", \"Pioneer Coin\", \"Phreak\", \"Piggy Coin\", \"PinkCoin\", \"PLNCoin\", \"PlatinCoin\", \"PluraCoin\", \"PlusOneCoin\", \"PandaCoin\", \"PhantomX\", \"Poa Network\", \"PopularCoin\", \"Poseidon Quark\", \"PotCoin\", \"ProCurrency\", \"Proton\", \"Printerium\", \"PesoBit\", \"Poseidon\", \"Pura\", \"Pushi\", \"PutinCoin\", \"PhoenixCoin\", \"QuarkCoin\", \"Quantum Resistant Ledger\", \"Revenu\", \"Riecoin\", \"RenosCoin\", \"RootCoin\", \"Rupee\", \"Ryo\", \"SafeExchangeCoin\", \"StableCoin\", \"SibCoin\", \"Swisscoin\", \"StorjCoin\", \"SLICE\", \"SolarCoin\", \"SmartCash\", \"SoilCoin\", \"Sojourn Coin\", \"Song Coin\", \"SoonCoin\", \"Stipend\", \"ShareChain\", \"Stakecoin\", \"Sativa Coin\", \"SyncCoin\", \"TokenPay\", \"TerraCoin\", \"Travelflex\", \"Triangles Coin\", \"TruckCoin\", \"Trollcoin\", \"ThunderStake\", \"Titan Coin\", \"BitTube\", \"TrezarCoin\", \"Ucoin\", \"UFO Coin\", \"Unitus\", \"Universal Molecule\", \"Unify\", \"GameUnits\", \"Unobtanium\", \"Urals Coin\", \"UroCoin\", \"Ultimate Secure Cash\", \"Unified Society USDEX\", \"UltraCoin\", \"Vechain\", \"ViaCoin\", \"TheVig\", \"Vitae\", \"VIVO Coin\", \"VaultCoin\", \"Velox\", \"Vollar\", \"Vtorrent\", \"Virta Unique Coin\", \"Digiwage\", \"WorldCoin\", \"WomenCoin\", \"Crypti\", \"XDNA\", \"GoldReserve\", \"Xios\", \"JouleCoin\", \"LeviarCoin\", \"Monoeci\", \"MyriadCoin\", \"Opair\", \"Ratecoin\", \"Bitcoin Rhodium\", \"Stakenet\", \"StealthCoin\", \"Xt3ch\", \"UltraNote\", \"VirtacoinPlus\", \"Zilbercoin\", \"ZClassic\", \"ZCash\", \"ZEPHYR\", \"ZetaCoin\", \"Zoin\", \"ZayedCoin\"], \"legendgroup\": \"2\", \"marker\": {\"color\": [2, 2, 2, 2, 2, 2, 2, 2, 2, 2, 2, 2, 2, 2, 2, 2, 2, 2, 2, 2, 2, 2, 2, 2, 2, 2, 2, 2, 2, 2, 2, 2, 2, 2, 2, 2, 2, 2, 2, 2, 2, 2, 2, 2, 2, 2, 2, 2, 2, 2, 2, 2, 2, 2, 2, 2, 2, 2, 2, 2, 2, 2, 2, 2, 2, 2, 2, 2, 2, 2, 2, 2, 2, 2, 2, 2, 2, 2, 2, 2, 2, 2, 2, 2, 2, 2, 2, 2, 2, 2, 2, 2, 2, 2, 2, 2, 2, 2, 2, 2, 2, 2, 2, 2, 2, 2, 2, 2, 2, 2, 2, 2, 2, 2, 2, 2, 2, 2, 2, 2, 2, 2, 2, 2, 2, 2, 2, 2, 2, 2, 2, 2, 2, 2, 2, 2, 2, 2, 2, 2, 2, 2, 2, 2, 2, 2, 2, 2, 2, 2, 2, 2, 2, 2, 2, 2, 2, 2, 2, 2, 2, 2, 2, 2, 2, 2, 2, 2, 2, 2, 2, 2, 2, 2, 2, 2, 2, 2, 2, 2, 2, 2, 2, 2, 2, 2, 2, 2, 2, 2, 2, 2, 2, 2, 2, 2, 2, 2, 2, 2, 2, 2, 2, 2, 2, 2, 2, 2, 2, 2, 2, 2, 2, 2, 2, 2, 2, 2, 2, 2, 2, 2, 2, 2, 2, 2, 2, 2, 2, 2, 2, 2, 2, 2, 2, 2, 2, 2, 2, 2, 2, 2, 2, 2, 2, 2, 2, 2, 2, 2, 2, 2, 2, 2, 2, 2, 2, 2, 2, 2, 2, 2, 2, 2, 2, 2, 2, 2, 2, 2, 2, 2, 2, 2, 2, 2, 2, 2, 2, 2, 2, 2, 2, 2, 2], \"coloraxis\": \"coloraxis\", \"symbol\": \"circle\"}, \"mode\": \"markers\", \"name\": \"2\", \"scene\": \"scene\", \"showlegend\": true, \"type\": \"scatter3d\", \"x\": [-0.328912336067453, -0.282876658379556, -0.3146327373522952, -0.3313157087305864, -0.33129775660418215, 3.7300319362300187, -0.35188491614415235, 3.7129120462548304, -0.3309818644717846, -0.3631024861730002, -0.36921447003303637, -0.3309875517117712, -0.33109860632123583, -0.3560424863118422, -0.2447711641003056, -0.33097484599577554, -0.39040350578353616, -0.26668374161915853, -0.23116589290565803, -0.33090744986834003, -0.33131163879007997, -0.3309813846422286, -0.28817838750233166, 0.65264270475329, -0.3922889085588339, -0.3177839506872213, -0.4087169817372597, -0.28563463806964795, -0.35571734377110886, -0.19584463858471693, -0.3956353048385265, -0.31776836947579473, -0.33083381001549594, -0.2902440526938854, -0.2754584116378095, -0.22593088154009872, -0.35671434175816685, -0.3306788260151283, -0.3310105859097563, -0.32354393721245045, -0.331284066859936, -0.288897276787828, -0.31581618149284807, 0.044790764663720437, -0.38963443908420237, 0.6536793783833114, -0.40738347641754563, -0.33014876444623514, -0.3284673800186236, -0.31400906379311533, -0.35608189474372537, -0.33073413759502046, -0.3885360417224098, -0.3951396199256527, -0.3577982084414196, 0.5767842385026565, -0.3595153232408789, -0.2505770280767426, -0.36933102115975647, -0.3312959003272937, -0.39330742352821846, -0.35236247328144904, -0.085349331025303, -0.2889681620599621, -0.3303089802116713, -0.21118709324474763, -0.3571159569083829, -0.3572924603646388, -0.365242365436409, -0.28831964363877244, -0.36826371953551507, -0.2845666829860401, -0.2899008734907633, -0.4165097935178998, -0.3178030504601413, -0.3692138880131807, -0.31773924991086905, 3.723183274457516, -0.3928427286967686, 0.20310583821241307, 2.2992532746895287, -0.2722357685004359, -0.3304551364798826, 0.8442608305713981, -0.3103137355645752, -0.32981054728360176, -0.39352861874702205, 0.6035957065384981, -0.3930738513304423, -0.3312345202437304, -0.3176464682578452, -0.3907204163797427, -0.25290727210339164, -0.3581153565484124, -0.36466327425702433, -0.5457806145844021, -0.24802663757260018, -0.2708665956506627, -0.25869540744408515, -0.32938263100085635, -0.35721828487893303, -0.34401937846129654, -0.33125161273683396, -0.28818819355013686, -0.41015404676288975, -0.33118093281679684, -0.4443507246500436, -0.32935810553409006, -0.33047535965834623, 0.08375303173912477, -0.41040362558547616, -0.39302872627711644, -0.3930800644677727, -0.2724430881557661, 0.8830292470766006, -0.37968693287226074, -0.39260086469710137, -0.40969730312115094, -0.09687914293598678, -0.0705764291876604, -0.32937190671620376, -0.2895947067205492, -0.3311979118115285, -0.33198137322960186, -0.39320199828202806, -0.33126575111078077, -0.3914399859836214, -0.3311562149328983, -0.09717331622690902, -0.33109943817513005, -0.10290027601468585, -0.3930702842694631, -0.3931367362616093, -0.31776033720939834, -0.39355556867496605, -0.14201915582347704, -0.3691002282442106, -0.17977225448842252, -0.3505270154580703, -0.3565797583088165, -0.3274726234080197, -0.2504620910749004, -0.2892604659996233, -0.3934384541826034, -0.4031229280552856, 3.717774711732101, -0.2701330192323052, -0.3549082725920361, 0.1343083887834218, 3.713304411738641, -0.3301477423203211, -0.3548026045662411, 0.10454510442032214, -0.3312566778005463, -0.32420965543375607, -0.3398107691760446, 2.25834659545255, -0.28708869477057536, -0.3504351250454814, -0.39208449022714287, -0.4022279696009631, -0.2810255783450007, -0.2834334759272215, -0.029809983758073658, -0.3265625720494391, -0.3523080920583931, -0.39335284879182403, -0.2468262723890889, 1.0089085673961602, -0.39354473929118333, -0.27778166765630147, -0.34186188657992633, -0.3304680132555697, -0.28993995007236, -0.28856210057729426, -0.3577982084414196, -0.2766745248885604, -0.316979044726682, -0.38394337765087505, -0.35036545646383976, -0.3162814869336359, -0.2840718067271481, -0.3309858688883894, -0.32151692081378686, -0.3567539325432161, -0.28918502655277323, -0.31198492412625717, -0.3298524594658931, -0.34439411422595023, 3.7244288364951332, -0.3517460057767793, -0.330833057627253, -0.23408008805540897, 0.35416457372839893, -0.35800998165251596, -0.2766418823023405, -0.2887335742298268, -0.17039301247697214, -0.33090569539344605, -0.3926665667333776, -0.3297153309990492, -0.357832513881062, -0.38042916203687316, -0.3846871389123093, -0.36480142801383647, -0.3256102042727947, -0.3310291210255093, 0.25684781635994486, -0.32763985185072164, -0.39337006972845295, -0.3071710244006053, -0.35368502803153834, -0.3580741876305906, -0.3913958662930835, 0.027238499330999755, -0.39329355888579964, -0.2895673701990316, -0.3163443758737179, -0.3312919830574446, -0.24825908499925675, -0.28992023284495533, -0.32211137594847056, -0.3301908498911934, -0.032456865120046335, -0.28921260204611676, 3.916674284053379, -0.3586933366739691, -0.3170302774764711, -0.3576985447883003, -0.3976589722358757, -0.2889656374386269, -0.37172216097215904, -0.3569034825574233, -0.351890897555565, -0.3176027990387429, -0.2320308494760452, -0.13414169829702227, -0.39357406106094067, -0.32414967777703013, -0.4255214174934387, -0.35582980503494055, -0.33119005168893406, -0.2501084654508253, -0.3355443993384552, -0.3161044789056628, -0.19055267730650471, -0.2575465592221468, -0.29019797484962256, -0.3264152380506166, -0.3551905379073186, -0.23981071255757122, -0.3934855704196096, -0.339386474107171, -0.28936782789813187, -0.36803852208425736, -0.3176970560804149, -0.39060719585471654, -0.3523361977424879, -0.2753302540566362, -0.32999129650597303, -0.32679615508537824, -0.3065146869213306, -0.35557831225873066, -0.2890595868718522, -0.2779520147177971, -0.3556161483146441, -0.392703097121425, -0.36793172165788574, -0.33103177519263494, -0.32610348650590704, 0.43888313783485494, -0.39345001834401616, -0.3511567087363706, -0.3934995947235198, -0.3235306012251758, -0.33114031832563884, -0.2898470035174939, -0.3224057249387443, 2.463927728741709, -0.3574813693195987, 0.8648307292090519, -0.28982647950924956, -0.33113503115075216, -0.3309455848213627, -0.2777761344022713], \"y\": [1.0402049437429162, -0.05510516519982408, 1.0402007428122713, 1.0402772365010189, 1.0402775750124602, 2.2324589728561786, 0.9901423048081913, 2.232779349662195, 1.0402614796381082, 0.9810007517648089, 1.4399568393680124, 1.0402525518468195, 1.0402603075799823, 1.4444827949301302, 1.0341910108053674, 1.0402713376776307, 1.242711072041083, 1.2655712094993876, 1.0130083433989987, 1.0402540621368523, 1.0402769457457293, 1.0402629587785348, 0.7875272616910072, 0.4677514516397387, 1.2428820716088083, 0.8648160875676386, 1.692639363529515, 1.8809431006741832, 1.3759227976409443, 0.6212604862204814, 1.9970178603408582, 0.8648156462987903, 1.040262066008885, 0.7874875793065504, 0.6119925454570353, 1.6121472711400344, 1.4958553901145415, 1.040249363933384, 1.040272119433926, 1.0404237703513326, 1.0402756279872922, 1.8810138932601264, 1.24307957643056, 1.9704533102456838, 1.242881402406118, 1.474450847299215, 1.6926645062691448, 1.0402330846221097, 1.040176580885801, 0.8645167980935852, 1.4445337184293203, 1.0402527343623365, 1.242687478634468, 1.997027206292853, 1.444516058841402, 1.0024176244418963, 0.7402827861093864, 0.09685577462191908, 1.4399558399666348, 1.0402768749651512, 1.2429488683584993, 0.9901592477974418, 0.9702481439790834, 1.8810207170957356, 1.0402190381136505, 1.717404725629944, 1.495877219680843, 1.4444756113542467, 1.0516802822181168, 0.7874510936888118, 1.4398975855052996, 0.7872278356616353, 0.7874819907245765, 1.9494269957590806, 0.8648234454390868, 1.4399524400615145, 0.8648161953371996, 2.233064890633106, 1.2429370486963098, 1.4843959393926536, 1.6989128121646526, 1.265789948680087, 1.0402317183732817, 1.9017764234956593, 0.8642373249255149, 1.0403056157830302, 1.2429571936001897, 1.8421214471229175, 1.2429253404991576, 1.0402756801139927, 0.8648194147936786, 1.2427315584929475, 1.9702282441010246, 1.4445247800677243, 1.0516944202683864, 2.5039764978323804, 1.6282325559421866, 0.3927868403018274, 0.22640831837799674, 1.040240179312032, 1.4445049416800362, 0.5045153632709914, 1.0402760077778719, 0.7873645927916917, 1.6927452852043483, 1.0402702220736557, 1.9502824236970344, 1.0401303847238883, 1.0402820552959025, 1.0113508654932912, 1.6927507856126616, 1.242933541782115, 1.2429399242870065, 0.7863538514018967, 1.925511024864986, 1.2421192785323574, 1.2429048566152392, 1.6927281967594512, 0.7837771750553115, 1.229534520345862, 1.0402256805801637, 0.7874814463120977, 1.0402794575483525, 0.990558006168686, 1.2429508561117357, 1.0402745032304106, 1.242919394078241, 1.040264121702995, 0.8688513949429983, 1.040265722331847, 0.6087043410026656, 1.2429474591560592, 1.2429462062288217, 0.8648165327908526, 1.2429603607030197, 0.9941396720991637, 1.4399553181202815, 1.9619114363933072, 1.5077342125192794, 1.4443993733839104, 1.0399821731003156, 1.9700364109764128, 1.8810202763053678, 1.2429556932256525, 1.8415249081149963, 2.2325953908685223, 1.973699214731122, 1.4771986173002514, 1.0123040676742359, 2.232761080910289, 1.0401890010912824, 0.6576387308959223, 1.0227685928346955, 1.0402754093509619, 1.0396761717750331, 0.9899274601736381, 0.35637254611143665, 0.7873566952915765, 1.4443755692505456, 1.2428822506057666, 1.7759620832343535, 0.8637463637871003, 0.7872492018531349, 0.7923987004530856, 1.0398885897606494, 0.9901593175741599, 1.2429571946216496, 1.6281188554770016, 1.8564868915840957, 1.242958359746833, 0.3198619157195518, 1.49529012383563, 1.0402314755865352, 0.7874821550376674, 1.8810422642824156, 1.444516058841402, 0.6120278775236171, 0.864796716570418, 1.5912282036676557, 1.3650904999603415, 0.8647826720311094, 1.6136304582930818, 1.0402680195567386, 1.4974549491216926, 1.4444960557470619, 1.881030519248198, 1.0399066644710604, 1.0401578162025613, 0.504549753040505, 2.2330883752353374, 0.9901118468087822, 1.040258008036106, 1.4982043650298695, 0.7757384131429301, 1.4445204203754205, 0.6120347408843024, 1.8810022788758782, 0.7773404720208688, 1.0402849671786525, 1.242940370163658, 1.0402353764725247, 1.4445080615581791, 1.2424728074367417, 1.2427600482446404, 1.4395732909489798, 1.0400760920471956, 1.040267939100724, 0.5669741726515153, 0.6233476912456444, 1.242945482047901, 1.0392623820235187, 1.4771728005086266, 1.4445189408717416, 1.2429459525732238, 1.0470376408311213, 1.242945454537548, 0.7874757679173896, 0.8646949529098885, 1.0402776838705068, 1.6282370119700467, 0.7874944198543251, 0.7282312597565281, 1.0401925985945617, -0.17852511764176526, 1.8810226488555721, 2.2026124209868714, 1.5417454328780094, 0.5984047609820697, 1.444487360044549, 0.6402635432524529, 1.8810346557471633, 1.026932566713684, 1.5145864759839116, 0.9901826196000089, 0.8648055372261182, 0.331376315988627, 1.0364974016522437, 1.242960011301013, 1.039677302631119, 1.9125519905018202, 1.4443466242192604, 1.0402680410133323, 0.0967911045223839, 1.977909663778461, 0.8647896846842386, 1.0297004295872738, 0.6116689173691604, 1.9751629246204419, 1.5877613852788641, 1.477199543191279, 1.6278101031841732, 1.2429543300266075, 0.5043529226473294, 1.8810269843922025, 0.8761217038392994, 1.039872469049475, 1.2430159511600316, 0.9901595226988019, 0.6119215879908171, 1.0402287031536017, 1.040191920173682, 1.0395687757032068, 1.4958474076536759, 0.7874195012173052, 0.392921111038306, 1.495824642867806, 1.242902929061454, 1.4399185461342177, 1.0402678890574042, 1.0401549970020734, 1.0364228774028135, 1.2429583080577749, 0.9861738958083207, 1.2429585836955819, 1.0401300031121672, 1.040265107470878, 0.7874634585104034, 1.0397101842038368, 0.9876343241170104, 1.4444779299208652, 0.7364971891871029, 0.7874557599690195, 1.0402652071585652, 1.0402516280079566, 1.0375218316084263], \"z\": [-0.5426241007675013, 0.09960544897977684, -0.543088413750035, -0.5425567033312327, -0.5425573386877796, 0.0764619717830961, -0.2718253668601493, 0.07697128369528493, -0.5425652070527315, -0.37924283683406923, -0.3384507105945655, -0.5425636811658707, -0.5425612299260845, -0.1997956179342233, -0.5444606096107832, -0.54256691598251, -0.5277123654534712, -0.5140605467060148, -0.2580767301531663, -0.54256651608682, -0.5425567921850305, -0.5425654448024567, -0.28679287824890104, -0.30174220527200213, -0.5276766561862918, -0.35204643982498257, -0.5943227558596778, -0.618878787249046, -0.2626125222033148, -0.2869967386738202, -0.7166367627419131, -0.35204688088282804, -0.5425701157638702, -0.28671966096412665, -0.09624513531029481, 0.07456169155690422, -0.580073958534152, -0.5425732545395229, -0.5425658696890597, -0.5428317576535263, -0.5425574920359881, -0.6187831868183363, -0.324233346060323, -0.7404218152236175, -0.5277629852374991, -0.17738552184480183, -0.5943699505558871, -0.5425880686407262, -0.5426343292139256, -0.35212440507192977, -0.1998019821133552, -0.5425719597403668, -0.5277696270131909, -0.7166543057532027, -0.19974344693821436, -0.5664389656835644, -0.3521219964347501, 0.05063746206219768, -0.33844676560617826, -0.5425572940001954, -0.5276535243772458, -0.2718123619699495, -0.38770628639561683, -0.6187819035469463, -0.5425807426124118, -0.3654618421765509, -0.5800641601459928, -0.199753839992351, -0.44043112188030115, -0.2867768405954984, -0.3384727687273684, -0.2868655097694541, -0.2867299956294116, -0.6981483005283181, -0.352046922887447, -0.338450068889521, -0.3520479114666586, 0.0765939719726535, -0.5276668798543827, -0.5965808116928235, -0.6757067832326571, -0.5139126213141227, -0.5425778879916406, -0.6587967884502022, -0.35220275575573107, -0.5426099731925302, -0.5276475724829628, -0.7378845870613824, -0.5276575962483343, -0.542559113102211, -0.3520514159124021, -0.527705123347178, -0.6212828536738448, -0.19973443028320123, -0.44045210024249704, 3.9093187999857566, -0.3629408487600225, -0.26820367155584623, -0.19464970902210627, -0.5426140793803382, -0.19976065976017524, -0.2960156316238388, -0.5425586057766607, -0.28676813054049916, -0.5942918715520642, -0.5425600382607509, -0.5672383380229506, -0.5425983897829596, -0.5425847887550047, -0.5517273943641458, -0.5942845712746383, -0.5276602971290119, -0.5276595840349361, -0.28712900556100535, -0.6515536514178152, -0.5279724259395185, -0.5276699205772712, -0.5943041769112188, -0.2924584226367735, -0.5361471796184714, -0.5426122512498135, -0.28673988266600303, -0.5425608723404686, -0.2725358533598664, -0.5276572555303152, -0.5425579194891788, -0.527709901927073, -0.5425599269662793, -0.3598355167286713, -0.542562015988676, -0.1013698311239486, -0.5276610340096961, -0.5276586821768721, -0.35204727554036813, -0.5276471706053927, -0.2792588930126777, -0.33845420185827874, 0.5901964804123568, -0.2439773993695537, -0.19976559671716393, -0.5426375237602843, -0.6213336606944684, -0.6187723199336829, -0.5276502829266414, -0.4913116376864235, 0.07684058085249748, -0.7306553404727462, -0.18075326907737957, -0.5535166221101256, 0.07696125173932328, -0.5425814817794992, -0.27193102217496645, -0.5541190150489654, -0.5425583509907772, -0.542697812986499, -0.27218623738824144, -0.29612707598746546, -0.28680274424078755, -0.199962091294659, -0.5276833389292458, -0.6335672302836247, -0.3530826494408358, -0.2869056156183714, -0.29593691250542176, -0.5426531013794869, -0.2718141431015598, -0.5276532957074946, -0.3629628579571592, -0.04357573260701271, -0.5276472227212756, -0.32373522605086813, -0.5804726670446462, -0.5425774322637872, -0.2867287479709406, -0.6187983607106621, -0.19974344693821436, -0.09621084456407474, -0.35206973857501767, -0.4932090307584038, -0.1368469359161474, -0.3520903419562886, 0.07623202636331732, -0.542566058785956, -0.0723339659865778, -0.19977444465160585, -0.6187763144527739, -0.543130464039153, -0.54258641307349, -0.2960085946279754, 0.07654988971733293, -0.2718253158236297, -0.5425695308650182, -0.5844196826497513, -0.3059372072684375, -0.19973720658400154, -0.09621293809616036, -0.618786772811798, -0.28909819356165634, -0.5425712143052697, -0.5276731144829386, -0.5426025254105099, -0.19974112897943017, -0.5280013493325452, -0.5279058452915697, -0.33853680078646825, -0.5427122682013994, -0.5425646384137331, -0.10681650094546113, -0.08616298271751807, -0.527650976085155, -0.5431904510351829, -0.18078922095337496, -0.19973489385582402, -0.527715326824727, -0.5552464591799332, -0.5276534631474962, -0.2867399200036494, -0.3520751212770025, -0.542557543022012, -0.3629339494435798, -0.2867312318043216, -0.12340620015458752, -0.5425806184433326, -0.4627218741153079, -0.6187742346765946, 0.0748656648663257, -0.25335188615897014, -0.3007317311551248, -0.19974238221251872, -0.38125951262757646, -0.6187840789531783, -0.39116731646725433, -0.2965504614453186, -0.27183122628538925, -0.35205075375110895, -0.24234580182196244, -0.5484090627737036, -0.5276465160225252, -0.5426999356831589, -0.6311161888557316, -0.19978209371866557, -0.5425594138145431, 0.05063191734108232, -0.7291578398048149, -0.3520971584479489, -0.5455516013867726, -0.09677974527214644, -0.7302218345850034, -0.23648865686172807, -0.18074421756000392, -0.3631449184838834, -0.5276485441063464, -0.2961420848837412, -0.6187698316007452, -0.3420195881161983, -0.5429393417595241, -0.5277515178153402, -0.2718132587843786, -0.09623865224979111, -0.542592537821274, -0.542691047852879, -0.5432578333465556, -0.5801097489161865, -0.28674800371206616, -0.2067377866870587, -0.5801050983251638, -0.5276663024228194, -0.3384867262945697, -0.5425645444788914, -0.5427080562959525, -0.5670555644809165, -0.527650299073783, -0.46689847714445315, -0.5276487262597391, -0.5427880760618624, -0.5425605925953358, -0.28672896660403185, -0.5427616567150805, 0.0232475355194486, -0.19974803730062446, -0.3166715418551625, -0.2867284787553661, -0.5425607797161585, -0.5425649088728046, -0.5438861657787083]}, {\"customdata\": [[\"Scrypt\"], [\"Scrypt\"], [\"SHA-256\"], [\"Scrypt\"], [\"IMesh\"], [\"X11\"], [\"DPoS\"], [\"X11\"], [\"X11\"], [\"Scrypt\"], [\"DPoS\"], [\"Quark\"], [\"X11\"], [\"X11\"], [\"Proof-of-BibleHash\"], [\"Scrypt\"], [\"X13\"], [\"Scrypt\"], [\"CryptoNight\"], [\"CryptoNight\"], [\"Scrypt\"], [\"XEVAN\"], [\"Blake\"], [\"X11\"], [\"Scrypt\"], [\"X11\"], [\"X11\"], [\"NIST5\"], [\"SHA-256\"], [\"Scrypt\"], [\"Equihash\"], [\"Skein\"], [\"SHA-512\"], [\"TRC10\"], [\"Scrypt\"], [\"NIST5\"], [\"SHA-256\"], [\"Quark\"], [\"Scrypt\"], [\"PoS\"], [\"Cloverhash\"], [\"Scrypt\"], [\"X11\"], [\"SHA-256\"], [\"CryptoNight\"], [\"X11\"], [\"X11\"], [\"Scrypt\"], [\"Skein\"], [\"SHA-256\"], [\"Scrypt\"], [\"X11\"], [\"X11\"], [\"Ethash\"], [\"SHA-256\"], [\"Dagger-Hashimoto\"], [\"BLAKE256\"], [\"Scrypt\"], [\"PoS\"], [\"Scrypt\"], [\"SHA-256\"], [\"Scrypt\"], [\"SHA-256\"], [\"Argon2d\"], [\"Scrypt\"], [\"Scrypt\"], [\"NIST5\"], [\"Scrypt\"], [\"X15\"], [\"X11\"], [\"Scrypt\"], [\"SHA-256\"], [\"Scrypt\"], [\"DPoS\"], [\"Scrypt\"], [\"536\"], [\"Ethash\"], [\"Scrypt\"], [\"Exosis\"], [\"X13\"], [\"Scrypt\"], [\"Scrypt\"], [\"Scrypt\"], [\"Scrypt\"], [\"NeoScrypt\"], [\"X11\"], [\"Scrypt\"], [\"NeoScrypt\"], [\"Scrypt\"], [\"Scrypt\"], [\"Scrypt\"], [\"Scrypt\"], [\"SHA-256\"], [\"Groestl\"], [\"Scrypt\"], [\"1GB AES Pattern Search\"], [\"X11\"], [\"X15\"], [\"Lyra2RE\"], [\"X11\"], [\"Scrypt\"], [\"Scrypt\"], [\"Scrypt\"], [\"Scrypt\"], [\"Lyra2RE\"], [\"NeoScrypt\"], [\"Scrypt\"], [\"SHA-256\"], [\"Multiple\"], [\"NIST5\"], [\"Scrypt\"], [\"Scrypt\"], [\"Equihash\"], [\"Lyra2REv2\"], [\"Scrypt\"], [\"X11\"], [\"SHA-256D\"], [\"X11\"], [\"Scrypt\"], [\"Scrypt\"], [\"Scrypt\"], [\"Scrypt\"], [\"DPoS\"], [\"Scrypt\"], [\"QuBit\"], [\"Scrypt\"], [\"SHA3\"], [\"SHA-256\"], [\"PoS\"], [\"Jump Consistent Hash\"], [\"Scrypt\"], [\"Scrypt\"], [\"X11\"], [\"Scrypt\"], [\"X11\"], [\"X13\"], [\"SHA-256\"], [\"NIST5\"], [\"Blake2b\"], [\"CryptoNight\"], [\"PoS\"], [\"SHA-256\"], [\"SHA-256\"], [\"SHA-256\"], [\"Scrypt\"], [\"Scrypt\"], [\"PoS\"], [\"Scrypt\"], [\"SHA-256\"], [\"Scrypt\"], [\"X13\"], [\"DPoS\"], [\"X11\"], [\"PoS\"], [\"X11\"], [\"BLAKE256\"], [\"Equihash\"], [\"Dagger\"], [\"X11\"], [\"Scrypt\"], [\"SHA-256\"], [\"Scrypt\"], [\"Scrypt\"], [\"NIST5\"], [\"Scrypt\"], [\"POS 3.0\"], [\"CryptoNight Heavy\"], [\"PoS\"], [\"X11\"], [\"Scrypt\"], [\"Scrypt\"], [\"Scrypt\"], [\"X11\"], [\"X13\"], [\"Scrypt\"], [\"Scrypt\"], [\"Blake2b\"], [\"Scrypt\"], [\"Semux BFT consensus\"], [\"Scrypt\"], [\"SkunkHash v2 Raptor\"], [\"Scrypt\"], [\"Scrypt\"], [\"Scrypt\"], [\"NeoScrypt\"], [\"X11\"], [\"X11\"], [\"X11\"], [\"CryptoNight\"], [\"X11\"], [\"SHA-256\"], [\"Scrypt\"], [\"SHA-256\"], [\"Blake2S\"], [\"DPoS\"], [\"SHA-256\"], [\"PoS\"], [\"Scrypt\"], [\"Multiple\"], [\"SHA-256\"], [\"PHI1612\"], [\"X13\"], [\"X11\"], [\"Scrypt\"], [\"CryptoNight\"], [\"X16R\"], [\"SHA-256\"], [\"SHA-256\"], [\"Scrypt\"], [\"NIST5\"], [\"Scrypt\"], [\"Lyra2REv2\"], [\"Leased POS\"], [\"Scrypt\"], [\"CryptoNight-V7\"], [\"Scrypt\"], [\"XEVAN\"], [\"X11\"], [\"X16R\"], [\"CryptoNight\"], [\"M7 POW\"], [\"PoS\"], [\"Scrypt\"], [\"X11\"], [\"Scrypt\"], [\"SHA-256\"], [\"CryptoNight\"], [\"CryptoNight-V7\"], [\"X11\"], [\"SHA-256\"], [\"Multiple\"], [\"Multiple\"], [\"Scrypt\"], [\"Lyra2Z\"], [\"Scrypt\"], [\"Scrypt\"], [\"Scrypt\"], [\"Equihash\"], [\"Equihash\"], [\"Scrypt\"], [\"Scrypt\"]], \"hovertemplate\": \"<b>%{hovertext}</b><br><br>Class=%{marker.color}<br>PC 1=%{x}<br>PC 2=%{y}<br>PC 3=%{z}<br>Algorithm=%{customdata[0]}<extra></extra>\", \"hovertext\": [\"404Coin\", \"Abjcoin\", \"Anarchists Prime\", \"AudioCoin\", \"Aidos Kuneen\", \"Adzcoin\", \"ALAX\", \"ArcticCoin\", \"ARENON\", \"Argentum\", \"ARK\", \"Allsafe\", \"Axe\", \"Azart\", \"BiblePay\", \"BitConnect Coin\", \"Bitcoin Diamond\", \"BitcoinFast\", \"ByteCoin\", \"Beldex\", \"BenjiRolls\", \"BitMoney\", \"BlakeCoin\", \"BolivarCoin\", \"Briacoin\", \"BowsCoin\", \"BitSend\", \"Bitspace\", \"BitcoinDark\", \"BitCurrency\", \"Bitrolium\", \"Bitcoin Planet\", \"Bitshares\", \"BitTorrent\", \"BeaverCoin\", \"Bulwark\", \"BitTokens\", \"Carebit\", \"Canada eCoin\", \"CoffeeCoin\", \"ChanCoin\", \"OpenChat\", \"Crypto Improvement Fund\", \"Clockcoin\", \"BitCoal\", \"CapriCoin\", \"Creditbit \", \"Credit\", \"Cream\", \"Crown Coin\", \"CasinoCoin\", \"DAS\", \"Dash\", \"DaxxCoin\", \"DubaiCoin\", \"DubaiCoin\", \"Decred\", \"iDealCash\", \"Deviant Coin\", \"Draftcoin\", \"CarpeDiemCoin\", \"DopeCoin\", \"DevCoin\", \"Dynamic\", \"EarthCoin\", \"EB3coin\", \"Electra\", \"E-Gulden\", \"EverGreenCoin\", \"Elements\", \"EmaratCoin\", \"Emercoin\", \"Einsteinium\", \"EOS\", \"EquiTrader\", \"Espers\", \"Ethereum Classic\", \"Ethereum Dark\", \"Exosis\", \"FindCoin\", \"Flo\", \"FlutterCoin\", \"FirstCoin\", \"Frankywillcoin\", \"FriendshipCoin\", \"FuturoCoin\", \"Gapcoin\", \"GoByte\", \"gCn Coin\", \"GrandCoin\", \"GermanCoin\", \"GlobalCoin\", \"GlobalToken\", \"Groestlcoin\", \"HexCoin\", \"HOdlcoin\", \"HappyCoin\", \"HTML5 Coin\", \"HexxCoin\", \"HyperStake\", \"HyperCoin\", \"iBankCoin\", \"Ignition\", \"Infinite Coin\", \"Infinex\", \"Innova\", \"IrishCoin\", \"IXcoin\", \"JoinCoin\", \"Jumpcoin\", \"KrugerCoin\", \"KiloCoin\", \"Komodo\", \"KREDS\", \"Kronecoin\", \"KushCoin\", \"LanaCoin\", \"Lutetium Coin\", \"Litecoin Plus\", \"LiteDoge\", \"Linx\", \"LomoCoin\", \"Lisk\", \"Litecoin\", \"LiteCreed\", \"LiteCoin Ultra\", \"MaxCoin\", \"Theresa May Coin\", \"MacronCoin\", \"MassGrid\", \"XiaoMiCoin\", \"MMOCoin\", \"MindCoin\", \"MoneyCoin\", \"Monkey Project\", \"MudraCoin\", \"MazaCoin\", \"NamoCoin\", \"Nano\", \"Newton Coin\", \"Nebuchadnezzar\", \"NeosCoin\", \"IncaKoin\", \"Namecoin\", \"NobleCoin\", \"Dnotes\", \"Nxt\", \"NyanCoin\", \"OKCash\", \"OmniCron\", \"DeepOnion\", \"Oxycoin\", \"PacCoin\", \"Particl\", \"PAXEX\", \"Photon\", \"PirateCash\", \"Pirl\", \"PizzaCoin\", \"Peony Coin\", \"Project Pai\", \"ProsperCoin\", \"PesetaCoin\", \"PWR Coin\", \"Quatloo\", \"QTUM\", \"Qwertycoin\", \"Radium\", \"Condensate\", \"RubyCoin\", \"Russiacoin\", \"Reddcoin\", \"Regalcoin\", \"RoyalCoin\", \"RonPaulCoin\", \"Revolution VR\", \"Siacoin\", \"Swiscoin\", \"Semux\", \"Shilling\", \"Signatum\", \"SmartCoin\", \"SmileyCoin\", \"SocialCoin\", \"SparksPay\", \"Spreadcoin\", \"Squall Coin\", \"Sucre\", \"Sumokoin\", \"SuperCoin\", \"SwingCoin\", \"SexCoin\", \"SysCoin\", \"TajCoin\", \"Lamden Tau\", \"TigerCash\", \"TeamUP\", \"TerraNovaCoin\", \"TeslaCoin\", \"TigerCoin\", \"TittieCoin\", \"Tokyo Coin\", \"TorCoin\", \"TPCash\", \"TurtleCoin\", \"Trivechain\", \"UnitedBitcoin\", \"UnbreakableCoin\", \"UnitaryStatus Dollar\", \"VIP Tokens\", \"VeriCoin\", \"Vertcoin\", \"Waves\", \"Wild Beast Coin\", \"Webchain\", \"BitcoinPlus\", \"Bitcoin Incognito\", \"X11 Coin\", \"Xchange\", \"Cannabis Industry Coin\", \"Cryptonite\", \"Creatio\", \"CoinonatX\", \"XenixCoin\", \"HiCoin\", \"Infinity Economics\", \"Monero Classic\", \"Monero\", \"Enigma\", \"PayCoin\", \"SHIELD\", \"Verge\", \"WhiteCoin\", \"ZCoin\", \"YoCoin\", \"ZCC Coin\", \"ZeitCoin\", \"Horizen\", \"Zero\", \"ZoneCoin\", \"BitZeny\"], \"legendgroup\": \"0\", \"marker\": {\"color\": [0, 0, 0, 0, 0, 0, 0, 0, 0, 0, 0, 0, 0, 0, 0, 0, 0, 0, 0, 0, 0, 0, 0, 0, 0, 0, 0, 0, 0, 0, 0, 0, 0, 0, 0, 0, 0, 0, 0, 0, 0, 0, 0, 0, 0, 0, 0, 0, 0, 0, 0, 0, 0, 0, 0, 0, 0, 0, 0, 0, 0, 0, 0, 0, 0, 0, 0, 0, 0, 0, 0, 0, 0, 0, 0, 0, 0, 0, 0, 0, 0, 0, 0, 0, 0, 0, 0, 0, 0, 0, 0, 0, 0, 0, 0, 0, 0, 0, 0, 0, 0, 0, 0, 0, 0, 0, 0, 0, 0, 0, 0, 0, 0, 0, 0, 0, 0, 0, 0, 0, 0, 0, 0, 0, 0, 0, 0, 0, 0, 0, 0, 0, 0, 0, 0, 0, 0, 0, 0, 0, 0, 0, 0, 0, 0, 0, 0, 0, 0, 0, 0, 0, 0, 0, 0, 0, 0, 0, 0, 0, 0, 0, 0, 0, 0, 0, 0, 0, 0, 0, 0, 0, 0, 0, 0, 0, 0, 0, 0, 0, 0, 0, 0, 0, 0, 0, 0, 0, 0, 0, 0, 0, 0, 0, 0, 0, 0, 0, 0, 0, 0, 0, 0, 0, 0, 0, 0, 0, 0, 0, 0, 0, 0, 0, 0, 0, 0, 0, 0, 0, 0, 0, 0, 0, 0, 0, 0, 0, 0, 0, 0, 0, 0, 0, 0, 0, 0, 0, 0, 0, 0], \"coloraxis\": \"coloraxis\", \"symbol\": \"diamond\"}, \"mode\": \"markers\", \"name\": \"0\", \"scene\": \"scene\", \"showlegend\": true, \"type\": \"scatter3d\", \"x\": [0.48930851776011824, -0.2212579917317536, -0.1561961122486724, -0.16277762917998148, -0.2249971609181268, -0.1530977071860346, -0.15449489376793962, -0.1499494792237498, -0.22540077673823677, -0.1632832369232346, -0.14709357989380537, -0.21251710617760985, -0.22593512552094597, -0.22590644628309134, -0.14941754869376014, -0.16378962348193177, -0.15927807979796976, -0.16382496217530507, 0.3269839417659719, -0.16338673368937262, 0.30534543834385547, 0.3051972828114022, -0.16345069632346765, 0.3131325015168695, -0.16118710618094279, -0.15014317942825153, -0.1501423426591911, -0.16122093411752514, -0.12191238885239628, -0.15014238026904458, 0.05125998924921023, -0.15897024106560317, -0.16105352813849708, -0.16021069866123638, -0.09466097773192317, -0.16260336560247374, -0.22580079376909315, -0.2258021663491021, 0.08306448000774563, 3.866054184891019, -0.10736402284417816, -0.16195575691967914, -0.1637360945886593, 0.3052145570215144, 0.26893198391886464, 0.6992619729387627, -0.16364951531687663, -0.1520293987459658, -0.10468353762855497, -0.14465739740552697, -0.1893427849499973, -0.14993219563914437, -0.2259563769577852, -0.05582189856954918, -0.1598830040199161, -0.14724434403757564, -0.22001097485274904, -0.11936037069574248, -0.1882253984744591, -0.2259790242687086, -0.07917179988217765, 0.22820734335169565, 0.1631721197028699, 0.46052629611699547, -0.22500551994048015, -0.163135908501036, 0.34138468742882805, -0.15032462858371412, -0.16103781640044063, -0.15604693669371245, -0.16045497466367709, -0.16348206863867226, -0.13470321648291927, 0.08532502494590477, -0.1590814235224955, -0.15603556060916962, -0.1803071901714908, -0.15439813025877544, -0.16342125996937648, -0.16320848728870224, -0.15522506503728423, -0.15366466198352077, -0.16504511287820312, -0.15629373374158892, 0.3852566613384803, -0.17209370343649266, -0.16088853085923843, -0.1447349374370796, -0.16366455489735787, -0.1637931700472624, -0.16362623278833394, -0.2250463405603917, -0.15679927391861073, -0.16243637072746164, -0.16258669152595978, -0.1482838631137232, -0.17673437042714882, -0.16286445963342963, -0.14298707188211984, -0.03649916360304302, -0.19624309786159083, -0.14688282530365349, -0.16981473037277028, -0.15625450687223216, -0.16371264721165982, -0.16042424167887148, -0.16134209072758518, -0.15010562703672292, -0.11664452825451443, -0.15010450336273343, -0.16026925246803625, 1.587430294319038, -0.17663401047178987, -0.20425925356314437, -0.16287622793122244, -0.1253736664892652, -0.14971264834890471, -0.1894023918419457, -0.16694562743229294, -0.18052541115658177, 0.30522016913011446, -0.09048664296196189, -0.3070970551311862, -0.16307705122900057, -0.16015011581414115, -0.2237759635837879, -0.1336119286607745, 0.3056101022984815, -0.1627645446820741, -0.16386382823018006, -0.16251950204001095, -0.1442732800979854, 0.577004739236687, 0.14403888439218313, -0.16350854419138683, -0.15742917634993003, -0.22551689810684095, -0.15585059637403734, -0.16387494521612483, -0.14562271164564625, -0.16312209152323642, -0.16374493048518027, -0.2258376188620376, -0.16230649604159778, -0.14589466557051323, 0.30538003344805004, 2.562489536040999, -0.201391287000351, -0.09058565443665348, -0.15018220530822912, -0.01997488121693818, 1.5852057388894694, 2.116509158025769, 0.30907718165145787, -0.028448845591185993, -0.15740046366361884, -0.1638750037884047, -0.16373896259699847, -0.21683737991121807, -0.16385671425325904, 0.49041632075349817, -0.16174243147768358, -0.16102363246038592, 1.0888202286460371, -0.2258783002420101, -0.28703591876574774, -0.1419710004849085, -0.22595094166775168, 0.30931449271690814, 0.3190037588928745, -0.12965364951747285, -0.07990168890748309, -0.16368803935906023, -0.10991689329632191, -0.16366727018451444, -0.22151727637039983, -0.14451518761314552, -0.23815551965440454, -0.16308693428349308, 3.10305000904292, -0.15606876306837467, -0.15982745527500652, -0.1966826745207831, -0.16372431671982896, -0.14329657046407693, -0.11485637852426862, -0.1874351640696215, -0.16053487852982198, 0.02942093394979891, -0.16353792482088242, 0.38079958725502094, -0.14117528847218094, -0.12347451291243296, -0.16321037027554824, 0.5529472531516108, -0.1632912185470466, -0.14321371921078227, -0.08933162943809837, 0.5332966727539818, -0.16199592791015885, -0.1502100155629089, -0.17678640325778625, -0.22586692376519854, -0.16181576336483527, -0.22595298969432823, 0.3057940255637532, -0.13731671422325442, -0.14993282593241375, -0.14964526865215613, -0.1414737854988123, 8.05493735992757, -0.1018525916117852, 1.1443812854232143, -0.1499156838720779, -0.16352827178557713, -0.15012171805168292, -0.1246379199649451, -0.1438805725681937, -0.15050731036438666, -0.1035667585220873, -0.22613052680295376, -0.17678883087341848, -0.21867371365858887, 0.18693682226285185, -0.19498722000825966, -0.16344046660886058, -0.144858175910347, -0.13348959838675795, -0.16386603654716203, -0.16053955464327607, -0.2008181187923613, -0.1626838518287936, -0.16134103253001458, -0.16136267508974766, -0.15671476768294473, -0.1503660502172938, -0.1613750756261824, -0.1472242606025305, -0.1601422588883386, -0.16195396396099176, 3.2504027230676003], \"y\": [-1.177712221194839, -0.9200330296977591, -2.1884105794978215, -1.1224562667539497, -0.9197609985547974, -2.1224028981044802, -2.1885372737547453, -1.2978812574423835, -0.919750967457738, -1.1224393381155915, -1.1228220919621335, -0.9198314712633224, -0.9197323755807029, -0.9197347750313363, -1.2978787549712691, -1.122405518087165, -2.048888151969785, -1.1224049789082893, -2.320163334806938, -1.1224203556717698, -2.31956046776848, -2.3195540731012607, -1.122424854378345, -2.3201303161733295, -1.1225365350495229, -1.297860829456416, -1.2978608136794514, -2.0487470494602973, -0.2816548823932875, -1.2978608143885713, -2.0601613467641333, -2.235143102678001, -2.04875115975551, -2.0487640191407737, -2.274089735217604, -1.12246768201416, -0.9197327829930508, -0.9197298686856872, -0.8597663596780429, -2.387998457246248, -1.9688469627256577, -1.1224407706626, -1.1224104921003037, -2.3195599952995867, -1.3058402153737323, -0.19255220267758522, -1.1224146371479469, -2.165560382628508, -1.8135499224728342, -2.240885191782085, -0.6668253179847504, -1.297872287417603, -0.9197305711283943, -2.0523307094337837, -2.145415865180628, -1.1228249345631762, -0.9199727653295201, -2.1802710479304923, -1.5050002916936174, -0.9197316596769354, -1.970888072486038, -1.306147718051129, -1.8230535299907915, -2.323966682186357, -0.9197729169083765, -1.1224249215641697, -2.320332678578832, -1.2978566342768065, -1.1224969679115215, -2.151665521173352, -2.2312217468423623, -1.1224114800040124, -1.1247936164665957, -1.1276280107471448, -1.1225334329799952, -1.9650061048823346, -0.9201797261744041, -1.9651617825346164, -1.1224184189933124, -1.122443809113121, -1.9649715609989153, -1.9650964999973173, -2.0690509906662458, -1.9650041373355926, -2.3239745730644747, -1.6582835128070386, -1.1224647513205546, -2.1803801579694664, -1.1224141856668515, -1.122410168570148, -1.1224134631179457, -0.9197736865657624, -2.1883679259503004, -1.1224380717072282, -1.122430615295217, -1.2979338246153178, -1.6581474096227635, -1.1224375032024705, -1.1230538330162358, -1.1273522963676228, -1.11104498127051, -1.123317950026956, -1.658361091290361, -2.224457450646385, -1.1224166398959337, -2.145385062417293, -2.0487493338224634, -1.2978601214202437, -1.2990514058237934, -1.2978601002337948, -2.145394106715386, -1.1559784840590681, -1.658155219990252, -1.1357503937004907, -1.122431664114624, -1.8130600291237358, -1.2978703530764188, -0.6668064103572537, -2.0663248586449114, -1.1821645083170162, -2.319551803971582, -1.1283702099197626, -1.4953318923086205, -1.1224501514963356, -1.1225283179957577, -0.9198438200661568, -2.2412756155957503, -2.319576793984085, -1.1224560200506792, -1.1224042342692, -1.1224396391167581, -2.269898373831848, -2.316537794180312, -1.1301278424714256, -1.122411244143859, -2.061282736999792, -0.9197333106211454, -2.207110748112591, -1.1224039069079828, -2.40598035814185, -1.1224201287522504, -1.1224083506511275, -0.9197268618958891, -1.1224511471555563, -2.2407725363650455, -2.3195549641825557, -1.3532568148180926, -1.2865294970247838, -1.813872149573172, -1.297861565274658, -2.183280577795151, -1.0894251952470215, -2.420641877794881, -2.319718706683465, -1.1308757442113149, -1.1225290883974854, -1.1224039057851494, -1.1224033657519148, -0.9203539564206545, -1.1224051029517863, -0.9797150744255463, -1.1224970223221418, -1.1224719926185593, -1.2395898204925009, -0.9197327742549316, -0.13890657969113354, -2.173184733664626, -0.9197356139750247, -2.3199082849851784, -2.3200196158309154, -2.079444517144104, -1.124495401052198, -1.122415363504226, -1.2986305401210319, -1.122414971909277, -0.9198909090696952, -2.2408237067332752, -0.47001703216651386, -1.1224620985849658, -2.4043939734414947, -1.9650054683896196, -1.1224814974763122, -1.1110378333416342, -1.1224160475001748, -2.149811993331189, -1.813344802325756, -1.5050588967931375, -1.1225242375432665, -1.1261093978019887, -1.1224191485716453, -2.1754740029824338, -2.2247352640086118, -1.1787771692672275, -1.1224285556445517, -1.1456403750137139, -1.1224475741199118, -2.173115323308902, -1.1287159559308095, -1.181366626064182, -1.1225225596208266, -1.297862089626516, -1.6581404521776788, -0.9197303546156224, -1.1225483881435134, -0.9197318303468988, -2.319598971142672, -1.29825627679275, -1.2978722993015444, -1.2978705615481205, -2.1731339707850243, -2.9084731705173783, -1.6596523542947912, -2.366201357685483, -1.2978999078694613, -1.1224110845144222, -1.2978598117813023, -1.813044098769851, -2.2699496932443655, -1.2978524427885778, -0.8969778382974667, -0.9197206238172252, -1.6581449082297184, -0.9203150751295113, -1.819338172863316, -1.181690372808219, -1.122412165706859, -2.16269606569933, -2.241824975247376, -1.1224052152958797, -1.122535660717933, -1.2865759681548743, -1.1225047400155976, -2.048749313870548, -2.048749721932845, -2.188374344626258, -1.2978567520349014, -2.048747015553439, -1.2979151660508441, -2.145387831252729, -1.122440736857041, -1.2050378765282055], \"z\": [-0.004182690724960804, 0.023577456431781524, 0.34970816386359493, 0.008751305023547318, 0.023658352166320853, 0.2577914358969071, 0.34967179819156097, 0.19927904803441013, 0.02366998750396998, 0.008765225396810307, 0.008295569203620798, 0.02326258455991243, 0.023684593912707892, 0.023684020448410784, 0.19926135256935532, 0.008776634503114604, 0.4512138486364858, 0.008777704161318449, 0.38902887914646783, 0.008765744608010509, 0.3896428948350845, 0.38964675847612845, 0.008768502814675236, 0.38947492365446257, 0.008711571686568814, 0.19928228718935173, 0.19928225757487544, 0.4512559182475497, -0.06743432684917196, 0.19928225890594295, 0.44605165323149065, 0.4024546472320187, 0.45125108476156234, 0.4512255733553498, 0.3932226523025905, 0.008747345260217988, 0.02368028125200246, 0.023679888293892, -0.6830706813420053, 0.28398370559135366, 0.39408237844573957, 0.008722217766770703, 0.008775638562772952, 0.38964708538006215, 0.18683548225556948, -0.484440160437862, 0.008773442013880202, 0.3302359845819795, 0.3455778000085176, 0.3947677705899402, -0.028735896579261268, 0.19927713822816084, 0.023685014880233703, 0.44836229261045923, 0.3851467659431939, 0.008300904966335353, 0.02352780349104438, 0.45586473954899476, 0.2794266438211345, 0.023685915747101202, 0.39347095835071016, 0.18820765537468384, 0.3382835998227967, 0.38525189787070785, 0.023660414147168594, 0.008758263410153115, 0.38858542156024045, 0.1992875651739584, 0.008700768907257999, 0.40604669894151596, 0.4308623540149794, 0.008767515831965401, 0.008188207977130418, 0.0014497352548491654, 0.008642544796422973, 0.3950903322131544, 0.02226612780992799, 0.39506039599710174, 0.008766577947781016, 0.008763462969766125, 0.39505875492359477, 0.3950267106111174, 0.48218067085243477, 0.3950984428606418, 0.38770386277082164, 0.2551918938069871, 0.00869107011727443, 0.4305964388984391, 0.008773863902617246, 0.008777448354769842, 0.008772507627342776, 0.02366185884838378, 0.34972139741511543, 0.008737461246824844, 0.008741235943895266, 0.1992327097135128, 0.2553225549820665, 0.008751314451122106, 0.00819666244367883, 0.005374927035676031, 0.11086063280101587, 0.008363171363464952, 0.2551293405941423, 0.4085720338983498, 0.008775798346893906, 0.3851597629123631, 0.4512602061565075, 0.19928095815550095, 0.1983703628766111, 0.19928091838704118, 0.3851560746688471, -0.04320135788400872, 0.25532046016488547, 0.1601681093474941, 0.008750820755562601, 0.34617790217478517, 0.1992696992814621, -0.028736795187345617, 0.40442969912790283, 0.17167289979363895, 0.38964567253614035, 0.007285622591041989, 0.7180844598079437, 0.008760135863258814, 0.008676573295067137, 0.02363102749915565, 0.3944667610275968, 0.3896367291260568, 0.00875084194410212, 0.008778857815931285, 0.008740403385099972, 0.3942086013190562, 0.33715246502464175, -8.658206294359264e-05, 0.008768342456422308, 0.3719875694542101, 0.023671116842307313, 0.38932114350120606, 0.00877917062437285, 0.32030977665261534, 0.008757093779869626, 0.008775604672487067, 0.023680591090333845, 0.00873519610104705, 0.3947911382861201, 0.3896409419300084, -0.045323480299264286, 0.20933762657940275, 0.34516716252482277, 0.19928366837210554, 0.3596778720649831, -0.05312341161261792, 0.3458510552697475, 0.3895451524041873, 0.0056419341978127336, 0.008587160292506883, 0.008779172362867984, 0.008774661762361635, 0.02348171569959777, 0.008778756637172175, 0.009367947349000528, 0.008723719350754382, 0.008696556471556715, 0.13793215583036228, 0.02368280355114918, 0.15574670569128482, 0.42265356207184307, 0.023685595204904597, 0.3895658950343043, 0.3892671313013844, 0.44651425924689303, 0.006359085998397353, 0.008774805435863479, 0.19808810850145578, 0.008774070384515279, 0.02356455610708446, 0.3947539068638487, -0.04309220830443395, 0.008762251781824378, 0.2680980082590458, 0.39509131770167727, 0.008659036302800124, 0.11087387199694335, 0.008776089344517913, 0.26750560796182743, 0.345878224348079, 0.2794097146670807, 0.00868848839968663, 0.0030419187363600613, 0.008770486119000317, 0.34545631798451015, 0.29111173314887134, 0.08281681550091419, 0.008761233625686628, -0.011071083320245563, 0.008766722101327654, 0.4226836014647758, 0.00729993694415962, -0.005066153653647002, 0.008735808201010005, 0.19928465261753883, 0.25532320435332023, 0.023682069769271414, 0.008733820780273082, 0.02368509369111721, 0.3896340709862619, 0.19892404276395215, 0.19927716053515812, 0.1992675367047539, 0.42262974955063526, 0.22575471502983416, 0.25311040523341216, 0.369328068099351, 0.19928074844197644, 0.008768960815066527, 0.19928143557976832, 0.34615155395829006, 0.3942035215321182, 0.1992928838471965, 0.037396272423149565, 0.023689191386268394, 0.2553239525737499, 0.023535667833571697, 0.33695187580820357, 0.17207257420797095, 0.008766264243373742, 0.4986637385000987, 0.3945452767601708, 0.00877907704214847, 0.008690356102650457, 0.20932594291181933, 0.008755530991513986, 0.45126016870535374, 0.45126093466707645, 0.3497196098011361, 0.1992889315467244, 0.4512609320044117, 0.19919540704083796, 0.3851509973538832, 0.008722154311350464, -0.08998037326637752]}, {\"customdata\": [[\"Ouroboros\"], [\"XEVAN\"], [\"Scrypt\"], [\"Ethash\"], [\"CryptoNight\"], [\"X16R\"]], \"hovertemplate\": \"<b>%{hovertext}</b><br><br>Class=%{marker.color}<br>PC 1=%{x}<br>PC 2=%{y}<br>PC 3=%{z}<br>Algorithm=%{customdata[0]}<extra></extra>\", \"hovertext\": [\"Cardano\", \"Beetle Coin\", \"MintCoin\", \"Reality Clash\", \"DigitalNote \", \"Motion\"], \"legendgroup\": \"3\", \"marker\": {\"color\": [3, 3, 3, 3, 3, 3], \"coloraxis\": \"coloraxis\", \"symbol\": \"square\"}, \"mode\": \"markers\", \"name\": \"3\", \"scene\": \"scene\", \"showlegend\": true, \"type\": \"scatter3d\", \"x\": [-0.4299600689694399, -0.18062047791128957, -0.31887600078309714, -0.4187473098695271, 4.428099758504663, -0.3955302908851801], \"y\": [3.954828984418294, 3.001557094447168, 2.663465670611379, 2.372882679050498, 2.997756188608351, 2.8628375065635265], \"z\": [15.100001254284535, 9.636621877368842, 19.814723239443882, 7.481758004726693, 6.592915001354939, 12.940849614202355]}, {\"customdata\": [[\"Scrypt\"]], \"hovertemplate\": \"<b>%{hovertext}</b><br><br>Class=%{marker.color}<br>PC 1=%{x}<br>PC 2=%{y}<br>PC 3=%{z}<br>Algorithm=%{customdata[0]}<extra></extra>\", \"hovertext\": [\"BlueCoin\"], \"legendgroup\": \"1\", \"marker\": {\"color\": [1], \"coloraxis\": \"coloraxis\", \"symbol\": \"x\"}, \"mode\": \"markers\", \"name\": \"1\", \"scene\": \"scene\", \"showlegend\": true, \"type\": \"scatter3d\", \"x\": [34.092860029900336], \"y\": [1.4369651166378026], \"z\": [-1.1113275563689675]}],\n",
       "                        {\"coloraxis\": {\"colorbar\": {\"title\": {\"text\": \"Class\"}}, \"colorscale\": [[0.0, \"#0d0887\"], [0.1111111111111111, \"#46039f\"], [0.2222222222222222, \"#7201a8\"], [0.3333333333333333, \"#9c179e\"], [0.4444444444444444, \"#bd3786\"], [0.5555555555555556, \"#d8576b\"], [0.6666666666666666, \"#ed7953\"], [0.7777777777777778, \"#fb9f3a\"], [0.8888888888888888, \"#fdca26\"], [1.0, \"#f0f921\"]]}, \"legend\": {\"title\": {\"text\": \"Class\"}, \"tracegroupgap\": 0, \"x\": 0, \"y\": 1}, \"margin\": {\"t\": 60}, \"scene\": {\"domain\": {\"x\": [0.0, 1.0], \"y\": [0.0, 1.0]}, \"xaxis\": {\"title\": {\"text\": \"PC 1\"}}, \"yaxis\": {\"title\": {\"text\": \"PC 2\"}}, \"zaxis\": {\"title\": {\"text\": \"PC 3\"}}}, \"template\": {\"data\": {\"bar\": [{\"error_x\": {\"color\": \"#2a3f5f\"}, \"error_y\": {\"color\": \"#2a3f5f\"}, \"marker\": {\"line\": {\"color\": \"#E5ECF6\", \"width\": 0.5}}, \"type\": \"bar\"}], \"barpolar\": [{\"marker\": {\"line\": {\"color\": \"#E5ECF6\", \"width\": 0.5}}, \"type\": \"barpolar\"}], \"carpet\": [{\"aaxis\": {\"endlinecolor\": \"#2a3f5f\", \"gridcolor\": \"white\", \"linecolor\": \"white\", \"minorgridcolor\": \"white\", \"startlinecolor\": \"#2a3f5f\"}, \"baxis\": {\"endlinecolor\": \"#2a3f5f\", \"gridcolor\": \"white\", \"linecolor\": \"white\", \"minorgridcolor\": \"white\", \"startlinecolor\": \"#2a3f5f\"}, \"type\": \"carpet\"}], \"choropleth\": [{\"colorbar\": {\"outlinewidth\": 0, \"ticks\": \"\"}, \"type\": \"choropleth\"}], \"contour\": [{\"colorbar\": {\"outlinewidth\": 0, \"ticks\": \"\"}, \"colorscale\": [[0.0, \"#0d0887\"], [0.1111111111111111, \"#46039f\"], [0.2222222222222222, \"#7201a8\"], [0.3333333333333333, \"#9c179e\"], [0.4444444444444444, \"#bd3786\"], [0.5555555555555556, \"#d8576b\"], [0.6666666666666666, \"#ed7953\"], [0.7777777777777778, \"#fb9f3a\"], [0.8888888888888888, \"#fdca26\"], [1.0, \"#f0f921\"]], \"type\": \"contour\"}], \"contourcarpet\": [{\"colorbar\": {\"outlinewidth\": 0, \"ticks\": \"\"}, \"type\": \"contourcarpet\"}], \"heatmap\": [{\"colorbar\": {\"outlinewidth\": 0, \"ticks\": \"\"}, \"colorscale\": [[0.0, \"#0d0887\"], [0.1111111111111111, \"#46039f\"], [0.2222222222222222, \"#7201a8\"], [0.3333333333333333, \"#9c179e\"], [0.4444444444444444, \"#bd3786\"], [0.5555555555555556, \"#d8576b\"], [0.6666666666666666, \"#ed7953\"], [0.7777777777777778, \"#fb9f3a\"], [0.8888888888888888, \"#fdca26\"], [1.0, \"#f0f921\"]], \"type\": \"heatmap\"}], \"heatmapgl\": [{\"colorbar\": {\"outlinewidth\": 0, \"ticks\": \"\"}, \"colorscale\": [[0.0, \"#0d0887\"], [0.1111111111111111, \"#46039f\"], [0.2222222222222222, \"#7201a8\"], [0.3333333333333333, \"#9c179e\"], [0.4444444444444444, \"#bd3786\"], [0.5555555555555556, \"#d8576b\"], [0.6666666666666666, \"#ed7953\"], [0.7777777777777778, \"#fb9f3a\"], [0.8888888888888888, \"#fdca26\"], [1.0, \"#f0f921\"]], \"type\": \"heatmapgl\"}], \"histogram\": [{\"marker\": {\"colorbar\": {\"outlinewidth\": 0, \"ticks\": \"\"}}, \"type\": \"histogram\"}], \"histogram2d\": [{\"colorbar\": {\"outlinewidth\": 0, \"ticks\": \"\"}, \"colorscale\": [[0.0, \"#0d0887\"], [0.1111111111111111, \"#46039f\"], [0.2222222222222222, \"#7201a8\"], [0.3333333333333333, \"#9c179e\"], [0.4444444444444444, \"#bd3786\"], [0.5555555555555556, \"#d8576b\"], [0.6666666666666666, \"#ed7953\"], [0.7777777777777778, \"#fb9f3a\"], [0.8888888888888888, \"#fdca26\"], [1.0, \"#f0f921\"]], \"type\": \"histogram2d\"}], \"histogram2dcontour\": [{\"colorbar\": {\"outlinewidth\": 0, \"ticks\": \"\"}, \"colorscale\": [[0.0, \"#0d0887\"], [0.1111111111111111, \"#46039f\"], [0.2222222222222222, \"#7201a8\"], [0.3333333333333333, \"#9c179e\"], [0.4444444444444444, \"#bd3786\"], [0.5555555555555556, \"#d8576b\"], [0.6666666666666666, \"#ed7953\"], [0.7777777777777778, \"#fb9f3a\"], [0.8888888888888888, \"#fdca26\"], [1.0, \"#f0f921\"]], \"type\": \"histogram2dcontour\"}], \"mesh3d\": [{\"colorbar\": {\"outlinewidth\": 0, \"ticks\": \"\"}, \"type\": \"mesh3d\"}], \"parcoords\": [{\"line\": {\"colorbar\": {\"outlinewidth\": 0, \"ticks\": \"\"}}, \"type\": \"parcoords\"}], \"pie\": [{\"automargin\": true, \"type\": \"pie\"}], \"scatter\": [{\"marker\": {\"colorbar\": {\"outlinewidth\": 0, \"ticks\": \"\"}}, \"type\": \"scatter\"}], \"scatter3d\": [{\"line\": {\"colorbar\": {\"outlinewidth\": 0, \"ticks\": \"\"}}, \"marker\": {\"colorbar\": {\"outlinewidth\": 0, \"ticks\": \"\"}}, \"type\": \"scatter3d\"}], \"scattercarpet\": [{\"marker\": {\"colorbar\": {\"outlinewidth\": 0, \"ticks\": \"\"}}, \"type\": \"scattercarpet\"}], \"scattergeo\": [{\"marker\": {\"colorbar\": {\"outlinewidth\": 0, \"ticks\": \"\"}}, \"type\": \"scattergeo\"}], \"scattergl\": [{\"marker\": {\"colorbar\": {\"outlinewidth\": 0, \"ticks\": \"\"}}, \"type\": \"scattergl\"}], \"scattermapbox\": [{\"marker\": {\"colorbar\": {\"outlinewidth\": 0, \"ticks\": \"\"}}, \"type\": \"scattermapbox\"}], \"scatterpolar\": [{\"marker\": {\"colorbar\": {\"outlinewidth\": 0, \"ticks\": \"\"}}, \"type\": \"scatterpolar\"}], \"scatterpolargl\": [{\"marker\": {\"colorbar\": {\"outlinewidth\": 0, \"ticks\": \"\"}}, \"type\": \"scatterpolargl\"}], \"scatterternary\": [{\"marker\": {\"colorbar\": {\"outlinewidth\": 0, \"ticks\": \"\"}}, \"type\": \"scatterternary\"}], \"surface\": [{\"colorbar\": {\"outlinewidth\": 0, \"ticks\": \"\"}, \"colorscale\": [[0.0, \"#0d0887\"], [0.1111111111111111, \"#46039f\"], [0.2222222222222222, \"#7201a8\"], [0.3333333333333333, \"#9c179e\"], [0.4444444444444444, \"#bd3786\"], [0.5555555555555556, \"#d8576b\"], [0.6666666666666666, \"#ed7953\"], [0.7777777777777778, \"#fb9f3a\"], [0.8888888888888888, \"#fdca26\"], [1.0, \"#f0f921\"]], \"type\": \"surface\"}], \"table\": [{\"cells\": {\"fill\": {\"color\": \"#EBF0F8\"}, \"line\": {\"color\": \"white\"}}, \"header\": {\"fill\": {\"color\": \"#C8D4E3\"}, \"line\": {\"color\": \"white\"}}, \"type\": \"table\"}]}, \"layout\": {\"annotationdefaults\": {\"arrowcolor\": \"#2a3f5f\", \"arrowhead\": 0, \"arrowwidth\": 1}, \"coloraxis\": {\"colorbar\": {\"outlinewidth\": 0, \"ticks\": \"\"}}, \"colorscale\": {\"diverging\": [[0, \"#8e0152\"], [0.1, \"#c51b7d\"], [0.2, \"#de77ae\"], [0.3, \"#f1b6da\"], [0.4, \"#fde0ef\"], [0.5, \"#f7f7f7\"], [0.6, \"#e6f5d0\"], [0.7, \"#b8e186\"], [0.8, \"#7fbc41\"], [0.9, \"#4d9221\"], [1, \"#276419\"]], \"sequential\": [[0.0, \"#0d0887\"], [0.1111111111111111, \"#46039f\"], [0.2222222222222222, \"#7201a8\"], [0.3333333333333333, \"#9c179e\"], [0.4444444444444444, \"#bd3786\"], [0.5555555555555556, \"#d8576b\"], [0.6666666666666666, \"#ed7953\"], [0.7777777777777778, \"#fb9f3a\"], [0.8888888888888888, \"#fdca26\"], [1.0, \"#f0f921\"]], \"sequentialminus\": [[0.0, \"#0d0887\"], [0.1111111111111111, \"#46039f\"], [0.2222222222222222, \"#7201a8\"], [0.3333333333333333, \"#9c179e\"], [0.4444444444444444, \"#bd3786\"], [0.5555555555555556, \"#d8576b\"], [0.6666666666666666, \"#ed7953\"], [0.7777777777777778, \"#fb9f3a\"], [0.8888888888888888, \"#fdca26\"], [1.0, \"#f0f921\"]]}, \"colorway\": [\"#636efa\", \"#EF553B\", \"#00cc96\", \"#ab63fa\", \"#FFA15A\", \"#19d3f3\", \"#FF6692\", \"#B6E880\", \"#FF97FF\", \"#FECB52\"], \"font\": {\"color\": \"#2a3f5f\"}, \"geo\": {\"bgcolor\": \"white\", \"lakecolor\": \"white\", \"landcolor\": \"#E5ECF6\", \"showlakes\": true, \"showland\": true, \"subunitcolor\": \"white\"}, \"hoverlabel\": {\"align\": \"left\"}, \"hovermode\": \"closest\", \"mapbox\": {\"style\": \"light\"}, \"paper_bgcolor\": \"white\", \"plot_bgcolor\": \"#E5ECF6\", \"polar\": {\"angularaxis\": {\"gridcolor\": \"white\", \"linecolor\": \"white\", \"ticks\": \"\"}, \"bgcolor\": \"#E5ECF6\", \"radialaxis\": {\"gridcolor\": \"white\", \"linecolor\": \"white\", \"ticks\": \"\"}}, \"scene\": {\"xaxis\": {\"backgroundcolor\": \"#E5ECF6\", \"gridcolor\": \"white\", \"gridwidth\": 2, \"linecolor\": \"white\", \"showbackground\": true, \"ticks\": \"\", \"zerolinecolor\": \"white\"}, \"yaxis\": {\"backgroundcolor\": \"#E5ECF6\", \"gridcolor\": \"white\", \"gridwidth\": 2, \"linecolor\": \"white\", \"showbackground\": true, \"ticks\": \"\", \"zerolinecolor\": \"white\"}, \"zaxis\": {\"backgroundcolor\": \"#E5ECF6\", \"gridcolor\": \"white\", \"gridwidth\": 2, \"linecolor\": \"white\", \"showbackground\": true, \"ticks\": \"\", \"zerolinecolor\": \"white\"}}, \"shapedefaults\": {\"line\": {\"color\": \"#2a3f5f\"}}, \"ternary\": {\"aaxis\": {\"gridcolor\": \"white\", \"linecolor\": \"white\", \"ticks\": \"\"}, \"baxis\": {\"gridcolor\": \"white\", \"linecolor\": \"white\", \"ticks\": \"\"}, \"bgcolor\": \"#E5ECF6\", \"caxis\": {\"gridcolor\": \"white\", \"linecolor\": \"white\", \"ticks\": \"\"}}, \"title\": {\"x\": 0.05}, \"xaxis\": {\"automargin\": true, \"gridcolor\": \"white\", \"linecolor\": \"white\", \"ticks\": \"\", \"title\": {\"standoff\": 15}, \"zerolinecolor\": \"white\", \"zerolinewidth\": 2}, \"yaxis\": {\"automargin\": true, \"gridcolor\": \"white\", \"linecolor\": \"white\", \"ticks\": \"\", \"title\": {\"standoff\": 15}, \"zerolinecolor\": \"white\", \"zerolinewidth\": 2}}}, \"width\": 800},\n",
       "                        {\"responsive\": true}\n",
       "                    ).then(function(){\n",
       "                            \n",
       "var gd = document.getElementById('f7e280f7-ec9c-4ca6-9235-43fbea0e782a');\n",
       "var x = new MutationObserver(function (mutations, observer) {{\n",
       "        var display = window.getComputedStyle(gd).display;\n",
       "        if (!display || display === 'none') {{\n",
       "            console.log([gd, 'removed!']);\n",
       "            Plotly.purge(gd);\n",
       "            observer.disconnect();\n",
       "        }}\n",
       "}});\n",
       "\n",
       "// Listen for the removal of the full notebook cells\n",
       "var notebookContainer = gd.closest('#notebook-container');\n",
       "if (notebookContainer) {{\n",
       "    x.observe(notebookContainer, {childList: true});\n",
       "}}\n",
       "\n",
       "// Listen for the clearing of the current output cell\n",
       "var outputEl = gd.closest('.output');\n",
       "if (outputEl) {{\n",
       "    x.observe(outputEl, {childList: true});\n",
       "}}\n",
       "\n",
       "                        })\n",
       "                };\n",
       "                });\n",
       "            </script>\n",
       "        </div>"
      ]
     },
     "metadata": {},
     "output_type": "display_data"
    }
   ],
   "source": [
    "fig = px.scatter_3d(\n",
    "    clustered_df,\n",
    "    x=\"PC 1\",\n",
    "    y=\"PC 2\",\n",
    "    z=\"PC 3\",\n",
    "    color=\"Class\",\n",
    "    symbol=\"Class\",\n",
    "    hover_name=\"CoinName\",\n",
    "    hover_data=[\"Algorithm\"],\n",
    "    width=800,\n",
    ")\n",
    "fig.update_layout(legend=dict(x=0, y=1))\n",
    "fig.show()"
   ]
  },
  {
   "cell_type": "markdown",
   "metadata": {},
   "source": [
    "#### Use hvplot.table to create a data table with all the current tradable cryptocurrencies. The table should have the following columns: CoinName, Algorithm, ProofType, TotalCoinSupply, TotalCoinsMined, and Class."
   ]
  },
  {
   "cell_type": "code",
   "execution_count": 449,
   "metadata": {},
   "outputs": [
    {
     "data": {},
     "metadata": {},
     "output_type": "display_data"
    },
    {
     "data": {
      "application/vnd.holoviews_exec.v0+json": "",
      "text/html": [
       "<div id='2609'>\n",
       "\n",
       "\n",
       "\n",
       "\n",
       "\n",
       "  <div class=\"bk-root\" id=\"6485eeaf-fbd9-4ab4-a772-8e81283cd9ba\" data-root-id=\"2609\"></div>\n",
       "</div>\n",
       "<script type=\"application/javascript\">(function(root) {\n",
       "  function embed_document(root) {\n",
       "  var docs_json = {\"086e46a0-b7b2-4574-afb0-aa5d2de56d09\":{\"roots\":{\"references\":[{\"attributes\":{\"editor\":{\"id\":\"2614\"},\"field\":\"CoinName\",\"formatter\":{\"id\":\"2613\"},\"title\":\"CoinName\"},\"id\":\"2615\",\"type\":\"TableColumn\"},{\"attributes\":{},\"id\":\"2623\",\"type\":\"StringFormatter\"},{\"attributes\":{},\"id\":\"2638\",\"type\":\"NumberFormatter\"},{\"attributes\":{},\"id\":\"2639\",\"type\":\"IntEditor\"},{\"attributes\":{\"format\":\"0,0.0[00000]\"},\"id\":\"2633\",\"type\":\"NumberFormatter\"},{\"attributes\":{},\"id\":\"2628\",\"type\":\"StringFormatter\"},{\"attributes\":{\"editor\":{\"id\":\"2619\"},\"field\":\"Algorithm\",\"formatter\":{\"id\":\"2618\"},\"title\":\"Algorithm\"},\"id\":\"2620\",\"type\":\"TableColumn\"},{\"attributes\":{\"columns\":[{\"id\":\"2615\"},{\"id\":\"2620\"},{\"id\":\"2625\"},{\"id\":\"2630\"},{\"id\":\"2635\"},{\"id\":\"2640\"}],\"height\":300,\"reorderable\":false,\"source\":{\"id\":\"2611\"},\"view\":{\"id\":\"2644\"},\"width\":800},\"id\":\"2643\",\"type\":\"DataTable\"},{\"attributes\":{},\"id\":\"2618\",\"type\":\"StringFormatter\"},{\"attributes\":{\"editor\":{\"id\":\"2639\"},\"field\":\"Class\",\"formatter\":{\"id\":\"2638\"},\"title\":\"Class\"},\"id\":\"2640\",\"type\":\"TableColumn\"},{\"attributes\":{},\"id\":\"2634\",\"type\":\"NumberEditor\"},{\"attributes\":{},\"id\":\"2629\",\"type\":\"StringEditor\"},{\"attributes\":{\"editor\":{\"id\":\"2629\"},\"field\":\"TotalCoinSupply\",\"formatter\":{\"id\":\"2628\"},\"title\":\"TotalCoinSupply\"},\"id\":\"2630\",\"type\":\"TableColumn\"},{\"attributes\":{},\"id\":\"2613\",\"type\":\"StringFormatter\"},{\"attributes\":{\"margin\":[5,5,5,5],\"name\":\"HSpacer05353\",\"sizing_mode\":\"stretch_width\"},\"id\":\"2647\",\"type\":\"Spacer\"},{\"attributes\":{\"source\":{\"id\":\"2611\"}},\"id\":\"2644\",\"type\":\"CDSView\"},{\"attributes\":{\"editor\":{\"id\":\"2634\"},\"field\":\"TotalCoinsMined\",\"formatter\":{\"id\":\"2633\"},\"title\":\"TotalCoinsMined\"},\"id\":\"2635\",\"type\":\"TableColumn\"},{\"attributes\":{},\"id\":\"2624\",\"type\":\"StringEditor\"},{\"attributes\":{},\"id\":\"2645\",\"type\":\"UnionRenderers\"},{\"attributes\":{},\"id\":\"2612\",\"type\":\"Selection\"},{\"attributes\":{\"data\":{\"Algorithm\":[\"X13\",\"Scrypt\",\"Scrypt\",\"Scrypt\",\"Scrypt\",\"ECC 256K1\",\"Scrypt\",\"Lyra2REv2\",\"Scrypt\",\"X11\",\"Scrypt\",\"Lyra2Z\",\"SHA-256\",\"Ouroboros\",\"Scrypt\",\"IMesh\",\"X11\",\"Lyra2Z\",\"DPoS\",\"X11\",\"Scrypt\",\"X11\",\"Scrypt\",\"Scrypt\",\"DPoS\",\"Quark\",\"PoS\",\"X11\",\"Scrypt\",\"X11\",\"X11\",\"X11\",\"Proof-of-BibleHash\",\"Scrypt\",\"X13\",\"Scrypt\",\"SHA-256\",\"CryptoNight\",\"CryptoNight\",\"Equihash\",\"XEVAN\",\"Scrypt\",\"CryptoNight\",\"Green Protocol\",\"XEVAN\",\"Scrypt\",\"SHA-256\",\"Blake\",\"Scrypt\",\"Scrypt\",\"Scrypt\",\"Scrypt\",\"X11\",\"Scrypt\",\"X13\",\"X11\",\"X11\",\"SHA-256\",\"NIST5\",\"Scrypt\",\"Scrypt\",\"SHA-256\",\"SHA-256\",\"Scrypt\",\"Equihash\",\"Quark\",\"Equihash\",\"Equihash\",\"Equihash\",\"Skein\",\"SHA-512\",\"TRC10\",\"Time Travel\",\"XEVAN\",\"Shabal256\",\"SHA-256D\",\"Scrypt\",\"NIST5\",\"SHA-256\",\"SHA-256\",\"Quark\",\"Scrypt\",\"Scrypt\",\"Scrypt\",\"Scrypt\",\"Scrypt\",\"PoS\",\"Cloverhash\",\"Scrypt\",\"X11\",\"SHA-256\",\"Ethash\",\"Scrypt\",\"Scrypt\",\"CryptoNight\",\"X13\",\"Multiple\",\"X11\",\"X11\",\"Scrypt\",\"Skein\",\"SHA-256\",\"Equihash\",\"X11\",\"Scrypt\",\"Quark\",\"Scrypt\",\"CryptoNight-V7\",\"Lyra2RE\",\"NIST5\",\"QuBit\",\"X11\",\"X11\",\"X11\",\"Ethash\",\"SHA-256\",\"Dagger-Hashimoto\",\"BLAKE256\",\"CryptoNight\",\"Scrypt\",\"Scrypt\",\"PoS\",\"Scrypt\",\"Multiple\",\"Scrypt\",\"SHA-256\",\"Scrypt\",\"X15\",\"SHA-256\",\"Groestl\",\"NIST5\",\"Scrypt\",\"X11\",\"QUAIT\",\"Quark\",\"SHA-256\",\"Argon2d\",\"Scrypt\",\"Scrypt\",\"Scrypt\",\"NIST5\",\"SHA-256\",\"Scrypt\",\"X15\",\"Ethash\",\"Ethash\",\"X11\",\"XEVAN\",\"Scrypt\",\"X13\",\"SHA-256\",\"Scrypt\",\"Scrypt\",\"Scrypt\",\"X11\",\"DPoS\",\"Scrypt\",\"X11\",\"536\",\"Ethash\",\"Ethash\",\"Scrypt\",\"SHA-256\",\"X11\",\"PoS\",\"Exosis\",\"Ethash\",\"Groestl\",\"SHA3-256\",\"X13\",\"Stanford Folding\",\"Scrypt\",\"Scrypt\",\"Scrypt\",\"Scrypt\",\"PoS\",\"CryptoNight\",\"Scrypt\",\"Scrypt\",\"Scrypt\",\"Scrypt\",\"NeoScrypt\",\"NeoScrypt\",\"X11\",\"Scrypt\",\"Quark\",\"Scrypt\",\"Scrypt\",\"X11\",\"NeoScrypt\",\"Scrypt\",\"Scrypt\",\"Scrypt\",\"Scrypt\",\"Quark\",\"Lyra2Z\",\"Scrypt\",\"Scrypt\",\"SHA-256\",\"X14\",\"Scrypt\",\"Scrypt\",\"Groestl\",\"Scrypt\",\"NeoScrypt\",\"X11\",\"Scrypt\",\"Quark\",\"Scrypt\",\"1GB AES Pattern Search\",\"X11\",\"X11\",\"X15\",\"Scrypt\",\"Lyra2RE\",\"X11\",\"Scrypt\",\"SHA-256\",\"Scrypt\",\"Scrypt\",\"Scrypt\",\"SHA-256\",\"Scrypt\",\"Scrypt\",\"X11\",\"Lyra2RE\",\"NeoScrypt\",\"X11\",\"X11\",\"X11\",\"SHA-256\",\"Scrypt\",\"X11\",\"C11\",\"SHA-256\",\"Multiple\",\"X11\",\"NIST5\",\"SHA-512\",\"Tribus\",\"Scrypt\",\"POS 2.0\",\"PoS\",\"Scrypt\",\"Scrypt\",\"Quark\",\"Equihash\",\"X15\",\"X13\",\"CryptoNight\",\"Lyra2REv2\",\"Scrypt\",\"X11\",\"X11\",\"SHA-256D\",\"X11\",\"SHA-256 + Hive\",\"Scrypt\",\"Scrypt\",\"Scrypt\",\"Scrypt\",\"POS 3.0\",\"Blake\",\"Scrypt\",\"Scrypt\",\"CryptoNight Heavy\",\"Scrypt\",\"DPoS\",\"Scrypt\",\"Scrypt\",\"QuBit\",\"Scrypt\",\"CryptoNight-V7\",\"PHI1612\",\"Scrypt\",\"X11\",\"X11\",\"SHA3\",\"SHA-256\",\"Scrypt\",\"PoS\",\"Ethash\",\"Scrypt\",\"HybridScryptHash256\",\"Scrypt\",\"Jump Consistent Hash\",\"Scrypt\",\"Scrypt\",\"Scrypt\",\"Scrypt\",\"X11\",\"Scrypt\",\"Scrypt\",\"X11\",\"Scrypt\",\"Scrypt\",\"X11\",\"X13\",\"SkunkHash\",\"DPoS\",\"SHA-256\",\"NIST5\",\"Blake2b\",\"Scrypt\",\"X13\",\"CryptoNight\",\"CryptoNight\",\"PoS\",\"SHA-256\",\"SHA-256\",\"Scrypt\",\"SHA-256\",\"Scrypt\",\"Scrypt\",\"Scrypt\",\"SHA-256\",\"SHA3\",\"PoS\",\"Scrypt\",\"Scrypt\",\"PoS\",\"Scrypt\",\"SHA-512\",\"SHA-256\",\"Scrypt\",\"Scrypt\",\"X13\",\"VBFT\",\"X11\",\"X13\",\"NeoScrypt\",\"Scrypt\",\"Scrypt\",\"DPoS\",\"X11\",\"Scrypt\",\"PoS\",\"X11\",\"X11\",\"BLAKE256\",\"PoS\",\"X11\",\"X11\",\"Equihash\",\"Dagger\",\"X11\",\"Scrypt\",\"CryptoNight\",\"CryptoNight\",\"HMQ1725\",\"Scrypt\",\"X11\",\"Scrypt\",\"Proof-of-Authority\",\"Scrypt\",\"Quark\",\"Scrypt\",\"SHA-256\",\"Scrypt\",\"SHA-256\",\"X16R\",\"Scrypt\",\"Scrypt\",\"Scrypt\",\"Scrypt\",\"X11\",\"X11\",\"Scrypt\",\"NIST5\",\"Scrypt\",\"Quark\",\"CryptoNight-V7\",\"Scrypt\",\"POS 3.0\",\"CryptoNight Heavy\",\"PoS\",\"X11\",\"Scrypt\",\"Scrypt\",\"Ethash\",\"Scrypt\",\"X11\",\"SHA-256\",\"Groestl\",\"Scrypt\",\"Scrypt\",\"X13\",\"Scrypt\",\"Lyra2REv2\",\"Scrypt\",\"Cryptonight-GPU\",\"Scrypt\",\"Scrypt\",\"Blake2b\",\"Scrypt\",\"Semux BFT consensus\",\"Scrypt\",\"X11GOST\",\"Scrypt\",\"SkunkHash v2 Raptor\",\"Counterparty\",\"QuBit\",\"Scrypt\",\"Keccak\",\"Scrypt\",\"Scrypt\",\"Scrypt\",\"Dagger\",\"Scrypt\",\"Scrypt\",\"SHA-256\",\"C11\",\"NeoScrypt\",\"X11\",\"X11\",\"Scrypt\",\"PoS\",\"X13\",\"X11\",\"CryptoNight\",\"X11\",\"SHA-256\",\"Scrypt\",\"X11\",\"SHA-256\",\"Blake2S\",\"DPoS\",\"SHA-256\",\"PoS\",\"Scrypt\",\"Multiple\",\"SHA-256\",\"PHI1612\",\"X13\",\"X11\",\"POS 3.0\",\"Scrypt\",\"SHA-256\",\"Dagger\",\"X13\",\"X11\",\"Scrypt\",\"CryptoNight\",\"X16R\",\"Scrypt\",\"SHA-256D\",\"CryptoNight\",\"NeoScrypt\",\"X11\",\"SHA-256\",\"NeoScrypt\",\"Multiple\",\"Blake\",\"SHA-256\",\"Scrypt\",\"Scrypt\",\"SHA-256\",\"XEVAN\",\"X11\",\"SHA-256\",\"Scrypt\",\"Scrypt\",\"Scrypt\",\"VeChainThor Authority\",\"Scrypt\",\"SHA-256D\",\"NIST5\",\"Quark\",\"NeoScrypt\",\"X11\",\"Scrypt\",\"Equihash+Scrypt\",\"Scrypt\",\"Lyra2REv2\",\"Scrypt\",\"NIST5\",\"Quark\",\"Leased POS\",\"Scrypt\",\"Scrypt\",\"CryptoNight-V7\",\"Scrypt\",\"Scrypt\",\"XEVAN\",\"X11\",\"X16R\",\"CryptoNight\",\"M7 POW\",\"Multiple\",\"PoS\",\"Scrypt\",\"CryptoNight\",\"Keccak\",\"X11\",\"X11\",\"Scrypt\",\"SHA-256\",\"Scrypt\",\"SHA-256\",\"CryptoNight\",\"CryptoNight\",\"X11\",\"X16R\",\"CryptoNight-V7\",\"Multiple\",\"X11\",\"PoS\",\"SHA-256\",\"X11\",\"X13\",\"Multiple\",\"X11\",\"X13\",\"Scrypt\",\"CryptoNight\",\"Multiple\",\"X11\",\"Scrypt\",\"Lyra2Z\",\"Scrypt\",\"Scrypt\",\"Scrypt\",\"Equihash\",\"Equihash\",\"Scrypt\",\"Equihash\",\"SHA-256\",\"Equihash\",\"SHA-256\",\"Scrypt\",\"Scrypt\",\"Lyra2RE\",\"SHA-256\"],\"Class\":{\"__ndarray__\":\"AgAAAAIAAAAAAAAAAgAAAAIAAAACAAAAAAAAAAIAAAACAAAAAgAAAAIAAAACAAAAAAAAAAMAAAAAAAAAAAAAAAAAAAACAAAAAAAAAAAAAAACAAAAAAAAAAAAAAACAAAAAAAAAAAAAAACAAAAAgAAAAIAAAACAAAAAAAAAAAAAAAAAAAAAAAAAAAAAAAAAAAAAgAAAAAAAAAAAAAAAgAAAAMAAAAAAAAAAgAAAAIAAAAAAAAAAgAAAAIAAAAAAAAAAgAAAAIAAAACAAAAAQAAAAAAAAAAAAAAAgAAAAAAAAAAAAAAAgAAAAAAAAACAAAAAgAAAAIAAAAAAAAAAAAAAAIAAAACAAAAAgAAAAIAAAAAAAAAAAAAAAAAAAAAAAAAAgAAAAIAAAACAAAAAgAAAAAAAAAAAAAAAgAAAAAAAAAAAAAAAgAAAAIAAAACAAAAAAAAAAIAAAAAAAAAAAAAAAAAAAAAAAAAAAAAAAIAAAACAAAAAgAAAAAAAAACAAAAAgAAAAAAAAAAAAAAAAAAAAAAAAAAAAAAAgAAAAIAAAAAAAAAAgAAAAIAAAACAAAAAgAAAAIAAAACAAAAAAAAAAAAAAACAAAAAAAAAAAAAAAAAAAAAAAAAAIAAAACAAAAAAAAAAAAAAAAAAAAAgAAAAIAAAAAAAAAAgAAAAIAAAACAAAAAgAAAAIAAAAAAAAAAgAAAAIAAAACAAAAAAAAAAAAAAAAAAAAAAAAAAIAAAAAAAAAAgAAAAAAAAAAAAAAAgAAAAIAAAAAAAAAAgAAAAAAAAACAAAAAAAAAAAAAAACAAAAAgAAAAIAAAAAAAAAAAAAAAIAAAAAAAAAAAAAAAIAAAAAAAAAAgAAAAIAAAACAAAAAAAAAAIAAAACAAAAAgAAAAAAAAACAAAAAgAAAAAAAAAAAAAAAgAAAAIAAAACAAAAAgAAAAIAAAAAAAAAAAAAAAAAAAACAAAAAAAAAAIAAAACAAAAAgAAAAAAAAACAAAAAAAAAAAAAAAAAAAAAgAAAAAAAAACAAAAAgAAAAAAAAACAAAAAAAAAAIAAAACAAAAAgAAAAAAAAACAAAAAgAAAAIAAAACAAAAAgAAAAAAAAAAAAAAAAAAAAIAAAAAAAAAAgAAAAAAAAAAAAAAAAAAAAIAAAAAAAAAAAAAAAAAAAACAAAAAgAAAAIAAAACAAAAAAAAAAAAAAACAAAAAgAAAAIAAAACAAAAAAAAAAIAAAACAAAAAAAAAAAAAAACAAAAAAAAAAIAAAACAAAAAgAAAAIAAAACAAAAAAAAAAAAAAACAAAAAAAAAAIAAAACAAAAAgAAAAAAAAAAAAAAAgAAAAAAAAAAAAAAAAAAAAIAAAAAAAAAAAAAAAIAAAAAAAAAAgAAAAIAAAACAAAAAAAAAAIAAAACAAAAAAAAAAIAAAAAAAAAAAAAAAAAAAACAAAAAgAAAAIAAAACAAAAAgAAAAAAAAAAAAAAAgAAAAAAAAACAAAAAgAAAAIAAAACAAAAAAAAAAAAAAACAAAAAwAAAAAAAAAAAAAAAgAAAAAAAAAAAAAAAgAAAAIAAAACAAAAAAAAAAIAAAACAAAAAAAAAAAAAAAAAAAAAgAAAAIAAAACAAAAAAAAAAAAAAAAAAAAAAAAAAIAAAAAAAAAAAAAAAAAAAACAAAAAgAAAAIAAAAAAAAAAAAAAAIAAAACAAAAAgAAAAIAAAAAAAAAAAAAAAIAAAAAAAAAAgAAAAIAAAACAAAAAgAAAAIAAAACAAAAAAAAAAAAAAACAAAAAAAAAAAAAAACAAAAAAAAAAIAAAACAAAAAgAAAAAAAAAAAAAAAAAAAAIAAAACAAAAAgAAAAIAAAACAAAAAgAAAAAAAAACAAAAAgAAAAIAAAACAAAAAAAAAAAAAAACAAAAAgAAAAIAAAACAAAAAgAAAAAAAAACAAAAAgAAAAIAAAAAAAAAAgAAAAIAAAACAAAAAAAAAAAAAAAAAAAAAAAAAAAAAAAAAAAAAAAAAAMAAAAAAAAAAAAAAAIAAAACAAAAAgAAAAIAAAAAAAAAAAAAAAIAAAAAAAAAAgAAAAIAAAACAAAAAAAAAAAAAAAAAAAAAAAAAAIAAAACAAAAAAAAAAIAAAACAAAAAgAAAAIAAAAAAAAAAAAAAAAAAAACAAAAAgAAAAIAAAACAAAAAgAAAAAAAAAAAAAAAAAAAAIAAAACAAAAAgAAAAAAAAAAAAAAAAAAAAAAAAAAAAAAAgAAAAAAAAAAAAAAAAAAAAAAAAAAAAAAAAAAAAAAAAAAAAAAAAAAAAAAAAAAAAAAAgAAAAAAAAACAAAAAgAAAAIAAAACAAAAAgAAAAAAAAAAAAAAAgAAAAIAAAACAAAAAgAAAAIAAAAAAAAAAgAAAAIAAAACAAAAAAAAAAIAAAACAAAAAgAAAAIAAAACAAAAAgAAAAAAAAACAAAAAgAAAAIAAAACAAAAAgAAAAAAAAACAAAAAgAAAAIAAAACAAAAAgAAAAAAAAAAAAAAAgAAAAIAAAACAAAAAAAAAAAAAAACAAAAAAAAAAIAAAAAAAAAAAAAAAAAAAAAAAAAAAAAAAAAAAACAAAAAAAAAAAAAAADAAAAAgAAAAAAAAACAAAAAAAAAAAAAAACAAAAAgAAAAIAAAAAAAAAAgAAAAMAAAAAAAAAAgAAAAAAAAACAAAAAAAAAAIAAAACAAAAAAAAAAIAAAACAAAAAgAAAAIAAAAAAAAAAgAAAAAAAAAAAAAAAAAAAAIAAAAAAAAAAgAAAAIAAAAAAAAAAAAAAAIAAAAAAAAAAgAAAAAAAAAAAAAAAgAAAAIAAAA=\",\"dtype\":\"int32\",\"shape\":[533]},\"CoinName\":[\"EliteCoin\",\"1Credit\",\"404Coin\",\"42 Coin\",\"8BIT Coin\",\"Acute Angle Cloud\",\"Abjcoin\",\"Absolute Coin\",\"ArtByte\",\"AC3\",\"AdCoin\",\"Actinium\",\"Anarchists Prime\",\"Cardano\",\"AudioCoin\",\"Aidos Kuneen\",\"Adzcoin\",\"Alpenschillling\",\"ALAX\",\"ArcticCoin\",\"AquariusCoin\",\"ARENON\",\"Argentum\",\"ArgusCoin\",\"ARK\",\"Allsafe\",\"Atmos\",\"ArtexCoin\",\"Aurora Coin\",\"Award\",\"Axe\",\"Azart\",\"BiblePay\",\"BitConnect Coin\",\"Bitcoin Diamond\",\"BitcoinFast\",\"Bitcoin Cash\",\"ByteCoin\",\"Beldex\",\"Beam\",\"Beetle Coin\",\"BenjiRolls\",\"Bikercoins\",\"Bitcoin Green\",\"BitMoney\",\"BitstarCoin\",\"BLAST\",\"BlakeCoin\",\"BlackholeCoin\",\"BillaryCoin\",\"Block-Logic\",\"BlueCoin\",\"BolivarCoin\",\"Briacoin\",\"BritCoin\",\"BowsCoin\",\"BitSend\",\"Bitcoin SV\",\"Bitspace\",\"Bata\",\"BitBar\",\"Bitcoin\",\"BitcoinDark\",\"BitCurrency\",\"BitcoinZ\",\"Bitcloud 2.0\",\"Bitcoin Gold\",\"Bithereum\",\"Bitrolium\",\"Bitcoin Planet\",\"Bitshares\",\"BitTorrent\",\"Bitcore\",\"Bettex coin\",\"BurstCoin\",\"BuzzCoin\",\"BeaverCoin\",\"Bulwark\",\"BitcoinWSpectrum\",\"BitTokens\",\"Carebit\",\"Catcoin\",\"CryptoBullion\",\"CannaCoin\",\"Canada eCoin\",\"Crypto Escudo\",\"CoffeeCoin\",\"ChanCoin\",\"OpenChat\",\"Crypto Improvement Fund\",\"Clockcoin\",\"Callisto Network\",\" ClubCoin\",\"Cash & Back Coin\",\"BitCoal\",\"Paycon\",\"Circuits of Value\",\"CapriCoin\",\"Creditbit \",\"Credit\",\"Cream\",\"Crown Coin\",\"CrypticCoin\",\"CryptCoin\",\"CasinoCoin\",\"Crypto Sports\",\"CarterCoin\",\"Citadel\",\"Crypto\",\"Coinonat\",\"CypherPunkCoin\",\"DAS\",\"Dash\",\"Dash Platinum\",\"DaxxCoin\",\"DubaiCoin\",\"DubaiCoin\",\"Decred\",\"Dinastycoin\",\"Degas Coin\",\"iDealCash\",\"Deviant Coin\",\"Draftcoin\",\"DigiByte\",\"Digitalcoin \",\"CarpeDiemCoin\",\"Diggits\",\"Dekado\",\"DollarCoin\",\"Diamond\",\"Denarius\",\"DopeCoin\",\"DigitalPrice\",\"Droidz\",\"Dystem\",\"DevCoin\",\"Dynamic\",\"EarthCoin\",\"EB3coin\",\"eBoost\",\"Electra\",\"EDRCoin\",\"E-Gulden\",\"EverGreenCoin\",\"Elementrem\",\"Ellaism\",\"Elements\",\"Ellerium\",\"EmaratCoin\",\"EmberCoin\",\"Emercoin\",\"Einsteinium\",\"Emerald\",\"EnergyCoin\",\"Eternity\",\"EOS\",\"EquiTrader\",\"EuropeCoin\",\"Espers\",\"Ethereum Classic\",\"Ethereum\",\"Ethereum Dark\",\"Eurocoin\",\"EUNO\",\"Exclusive Coin\",\"Exosis\",\"Expanse\",\"FairCoin\",\"Fiii\",\"FindCoin\",\"Folding Coin\",\"BitFlip\",\"Flo\",\"FlutterCoin\",\"FrazCoin\",\"FreeCoin\",\"FREDEnergy\",\"Franko\",\"Francs\",\"FirstCoin\",\"Frankywillcoin\",\"FriendshipCoin\",\"FeatherCoin\",\"FuturoCoin\",\"GAKHcoin\",\"Galilel\",\"Gamecredits\",\"Gapcoin\",\"GoldBlocks\",\"GoByte\",\"gCn Coin\",\"GrandCoin\",\"Genstake\",\"GermanCoin\",\"Giant\",\"GINcoin\",\"GlobalCoin\",\"GoldCoin\",\"GlobalToken\",\"GanjaCoin V2\",\"GPU Coin\",\"GreenCoin\",\"Groestlcoin\",\"GrowthCoin\",\"GunCoin\",\"Halloween Coin\",\"HoboNickels\",\"HerbCoin\",\"HexCoin\",\"HOdlcoin\",\"HappyCoin\",\"Hitcoin\",\"HTML5 Coin\",\"HollyWoodCoin\",\"HexxCoin\",\"HyperStake\",\"HyperCoin\",\"I0coin\",\"iBankCoin\",\"Ignition\",\"Infinite Coin\",\"ILCoin\",\"Impeach\",\"Independent Money System\",\"Impact\",\"Infinex\",\"Innova\",\"InsaneCoin\",\"Insane Coin\",\"IOCoin\",\"Internet of People\",\"IrishCoin\",\"IslaCoin\",\"Interzone\",\"IXcoin\",\"JoinCoin\",\"Junson Ming Chan Coin\",\"Jumpcoin\",\"Kcash\",\"KEYCO\",\"Klingon Empire Darsek\",\"KekCoin\",\"Ketan\",\"KrugerCoin\",\"KiloCoin\",\"Kalkulus\",\"Komodo\",\"KoboCoin\",\"Kore\",\"Karbo\",\"KREDS\",\"Kronecoin\",\"Kurrent\",\"KushCoin\",\"LanaCoin\",\"Lutetium Coin\",\"LitecoinCash\",\"Litecoin Plus\",\"LiteDoge\",\"Linda\",\"Linx\",\"Let it Ride\",\"Lithium\",\"LuckyCoin\",\"LomoCoin\",\"Loki\",\"LottoCoin\",\"Lisk\",\"Litebar \",\"Litecoin\",\"LiteCreed\",\"LiteCoin Ultra\",\"Lethean\",\"LUXCoin\",\"Lynx\",\"Magnet\",\"MarsCoin \",\"MaxCoin\",\"Theresa May Coin\",\"My Big Coin\",\"MacronCoin\",\"1717 Masonic Commemorative Token\",\"MegaCoin\",\"MediterraneanCoin\",\"MedicCoin\",\"MassGrid\",\"XiaoMiCoin\",\"MinCoin\",\"MintCoin\",\"MMOCoin\",\"MindCoin\",\"MonaCoin\",\"MoneyCoin\",\"Monkey Project\",\"MoonCoin\",\"MasterCoin\",\"MustangCoin\",\"MudraCoin\",\"MUNcoin\",\"Muse\",\"MazaCoin\",\"NamoCoin\",\"Nano\",\"Nautilus Coin\",\"NavCoin\",\"Niobio Cash\",\"Newton Coin\",\"Nebuchadnezzar\",\"NeosCoin\",\"IncaKoin\",\"Gulden\",\"Namecoin\",\"NobleCoin\",\"Dnotes\",\"Nasdacoin\",\"Neutron\",\"Nexus\",\"Nxt\",\"NyanCoin\",\"NewYorkCoin\",\"Zealium\",\"OrangeCoin\",\"Obsidian\",\"OKCash\",\"OmniCron\",\"Omni\",\"DeepOnion\",\"Ontology\",\"Onix\",\"OpalCoin\",\"Orbitcoin\",\"OsmiumCoin\",\"Oduwa\",\"Oxycoin\",\"PacCoin\",\"Pakcoin\",\"Particl\",\"PAXEX\",\"Pioneer Coin\",\"Photon\",\"Phreak\",\"Piggy Coin\",\"PinkCoin\",\"PirateCash\",\"Pirl\",\"PizzaCoin\",\"PLNCoin\",\"PlatinCoin\",\"PluraCoin\",\"PlusOneCoin\",\"PandaCoin\",\"PhantomX\",\"Peony Coin\",\"Poa Network\",\"PopularCoin\",\"Poseidon Quark\",\"PotCoin\",\"Project Pai\",\"ProsperCoin\",\"ProCurrency\",\"Proton\",\"Printerium\",\"PesoBit\",\"Poseidon\",\"PesetaCoin\",\"Pura\",\"Pushi\",\"PutinCoin\",\"PWR Coin\",\"PhoenixCoin\",\"QuarkCoin\",\"Quantum Resistant Ledger\",\"Quatloo\",\"QTUM\",\"Qwertycoin\",\"Radium\",\"Condensate\",\"RubyCoin\",\"Russiacoin\",\"Reality Clash\",\"Reddcoin\",\"Regalcoin\",\"Revenu\",\"Riecoin\",\"RenosCoin\",\"RootCoin\",\"RoyalCoin\",\"RonPaulCoin\",\"Rupee\",\"Revolution VR\",\"Ryo\",\"SafeExchangeCoin\",\"StableCoin\",\"Siacoin\",\"Swiscoin\",\"Semux\",\"Shilling\",\"SibCoin\",\"Swisscoin\",\"Signatum\",\"StorjCoin\",\"SLICE\",\"SolarCoin\",\"SmartCash\",\"SmartCoin\",\"SmileyCoin\",\"SocialCoin\",\"SoilCoin\",\"Sojourn Coin\",\"Song Coin\",\"SoonCoin\",\"Stipend\",\"SparksPay\",\"Spreadcoin\",\"Squall Coin\",\"ShareChain\",\"Stakecoin\",\"Sativa Coin\",\"Sucre\",\"Sumokoin\",\"SuperCoin\",\"SwingCoin\",\"SexCoin\",\"SyncCoin\",\"SysCoin\",\"TajCoin\",\"Lamden Tau\",\"TigerCash\",\"TeamUP\",\"TerraNovaCoin\",\"TeslaCoin\",\"TigerCoin\",\"TittieCoin\",\"Tokyo Coin\",\"TorCoin\",\"TokenPay\",\"TPCash\",\"TerraCoin\",\"Travelflex\",\"Triangles Coin\",\"TruckCoin\",\"Trollcoin\",\"TurtleCoin\",\"Trivechain\",\"ThunderStake\",\"Titan Coin\",\"BitTube\",\"TrezarCoin\",\"Ucoin\",\"UnitedBitcoin\",\"UFO Coin\",\"Unitus\",\"Universal Molecule\",\"UnbreakableCoin\",\"Unify\",\"GameUnits\",\"Unobtanium\",\"Urals Coin\",\"UroCoin\",\"Ultimate Secure Cash\",\"UnitaryStatus Dollar\",\"Unified Society USDEX\",\"UltraCoin\",\"Vechain\",\"ViaCoin\",\"TheVig\",\"VIP Tokens\",\"Vitae\",\"VIVO Coin\",\"VaultCoin\",\"Velox\",\"Vollar\",\"VeriCoin\",\"Vertcoin\",\"Vtorrent\",\"Virta Unique Coin\",\"Digiwage\",\"Waves\",\"Wild Beast Coin\",\"WorldCoin\",\"Webchain\",\"WomenCoin\",\"BitcoinPlus\",\"Bitcoin Incognito\",\"X11 Coin\",\"Xchange\",\"Cannabis Industry Coin\",\"Cryptonite\",\"Crypti\",\"Creatio\",\"CoinonatX\",\"DigitalNote \",\"XDNA\",\"XenixCoin\",\"GoldReserve\",\"HiCoin\",\"Infinity Economics\",\"Xios\",\"JouleCoin\",\"LeviarCoin\",\"Monero Classic\",\"Monoeci\",\"Motion\",\"Monero\",\"MyriadCoin\",\"Enigma\",\"Opair\",\"PayCoin\",\"Ratecoin\",\"Bitcoin Rhodium\",\"SHIELD\",\"Stakenet\",\"StealthCoin\",\"Xt3ch\",\"UltraNote\",\"Verge\",\"VirtacoinPlus\",\"WhiteCoin\",\"ZCoin\",\"YoCoin\",\"Zilbercoin\",\"ZCC Coin\",\"ZClassic\",\"ZCash\",\"ZeitCoin\",\"Horizen\",\"ZEPHYR\",\"Zero\",\"ZetaCoin\",\"ZoneCoin\",\"BitZeny\",\"Zoin\",\"ZayedCoin\"],\"ProofType\":[\"PoW/PoS\",\"PoW\",\"PoW/PoS\",\"PoW/PoS\",\"PoW/PoS\",\"DPOS\",\"PoW/PoS\",\"PoW/PoS\",\"PoW\",\"PoW\",\"PoW\",\"PoW\",\"PoW\",\"PoS\",\"PoW/PoS\",\"PoW\",\"PoW\",\"PoW\",\"DPoS\",\"PoW\",\"PoW/PoS\",\"PoS\",\"PoW\",\"PoW/PoS\",\"DPoS\",\"PoS\",\"PoS\",\"PoW\",\"PoW/PoS\",\"PoW/PoS\",\"PoW\",\"PoW\",\"POBh\",\"PoW/PoS\",\"PoW/PoS\",\"PoW/PoS\",\"PoW\",\"PoW\",\"PoW\",\"PoW\",\"PoW/PoS\",\"PoW\",\"PoW\",\"PoS\",\"Pos\",\"PoW/PoS\",\"PoW\",\"PoW\",\"PoW/PoS\",\"PoW/PoS\",\"PoW\",\"PoW/PoS\",\"PoW\",\"PoW/PoS\",\"PoW/PoS\",\"PoW\",\"PoW/PoS\",\"PoW\",\"PoW/PoS\",\"PoW\",\"PoW/PoS\",\"PoW\",\"PoW/PoS\",\"PoS\",\"PoW\",\"PoW/PoS\",\"PoW\",\"PoW\",\"PoW\",\"PoW/PoS\",\"PoS\",\"DPoS\",\"PoW\",\"PoS\",\"PoC\",\"PoW/PoS\",\"PoW\",\"PoS\",\"PoS\",\"PoW/PoS\",\"PoW/PoS\",\"PoW\",\"PoW/PoS\",\"PoW\",\"PoW\",\"PoW\",\"PoS\",\"PoW\",\"PoW/PoS\",\"PoW\",\"PoW/PoS\",\"PoW\",\"PoW/PoS\",\"PoW/PoS\",\"PoW\",\"PoW/PoS\",\"PoW\",\"PoW/PoS\",\"Proof of Trust\",\"PoW/PoS\",\"PoW/PoS\",\"PoW\",\"PoW\",\"PoW\",\"PoC\",\"PoS\",\"PoW/PoS\",\"PoW\",\"PoW\",\"PoW\",\"PoW\",\"PoW\",\"PoW/PoS\",\"PoS\",\"PoW\",\"PoW/PoS\",\"PoW\",\"PoW/PoS\",\"PoW\",\"PoW/PoS\",\"PoW/PoS\",\"PoS\",\"PoS\",\"PoW\",\"PoW\",\"PoW\",\"PoS\",\"PoS\",\"PoW\",\"PoW/PoS\",\"PoW/PoS\",\"PoW\",\"PoW\",\"PoW/PoS\",\"PoS\",\"PoW\",\"PoW\",\"PoW\",\"PoW\",\"PoW\",\"PoW/PoS\",\"PoW/PoS\",\"PoW\",\"PoW/PoS\",\"PoW\",\"PoW\",\"PoW\",\"PoW/PoS\",\"PoW/PoS\",\"PoW/PoS\",\"PoW/PoS\",\"PoW\",\"PoW\",\"PoW/PoS\",\"PoW/PoS\",\"DPoS\",\"PoW\",\"PoW/PoS\",\"PoW/PoS\",\"PoW\",\"PoW\",\"PoW/PoS\",\"PoW/PoS\",\"PoW/PoS\",\"PoS\",\"PoW\",\"PoW\",\"PoW/PoS\",\"DPoC\",\"PoS\",\"PoW\",\"PoW\",\"PoW\",\"PoS/PoW/PoT\",\"PoW\",\"PoS\",\"PoW\",\"PoW\",\"PoW\",\"PoW/PoS \",\"PoW/PoS\",\"PoW/PoS\",\"PoW\",\"PoW\",\"PoW/PoS\",\"PoW/PoS\",\"PoW\",\"PoW/PoS\",\"PoW/PoS\",\"PoW\",\"PoW\",\"PoW\",\"PoW/PoS\",\"PoW/PoS\",\"PoW/PoS\",\"PoW\",\"PoW\",\"PoW\",\"PoW\",\"PoW/PoS\",\"PoS\",\"PoW\",\"PoW\",\"PoS\",\"PoW\",\"PoW/PoS\",\"PoW/PoS\",\"PoW/PoS\",\"PoW\",\"PoW\",\"PoW/PoS\",\"PoW/PoS\",\"PoW/PoS\",\"PoS\",\"PoW\",\"PoS\",\"PoW/PoS\",\"PoW\",\"PoW/PoS\",\"PoW/PoS\",\"PoW\",\"PoW\",\"PoW/PoS\",\"PoW/PoS\",\"PoW/PoS\",\"PoW\",\"PoW\",\"PoW/PoS\",\"PoW/PoS\",\"PoW/PoS\",\"PoW/PoS\",\"PoW\",\"PoW/PoS\",\"PoW\",\"PoW\",\"PoW\",\"PoS\",\"PoW\",\"Zero-Knowledge Proof\",\"PoW\",\"PoW/PoS\",\"PoS\",\"PoS\",\"PoW\",\"PoW\",\"PoS\",\"dPoW/PoW\",\"PoW/PoS\",\"PoW/PoS\",\"PoW\",\"PoW\",\"PoW\",\"PoW\",\"PoW/PoS\",\"PoW/PoS\",\"PoS\",\"PoW + Hive\",\"PoW/PoS\",\"PoW/PoS\",\"PoW/PoS\",\"PoW\",\"PoS\",\"PoW\",\"PoW\",\"PoW/PoS\",\"PoW\",\"PoW\",\"DPoS\",\"PoW\",\"PoW\",\"PoW/PoS\",\"PoW/PoS\",\"PoW\",\"PoW/PoS\",\"HPoW\",\"PoW/PoS\",\"PoW\",\"PoW/PoS\",\"PoW/PoS\",\"PoW and PoS\",\"PoS\",\"PoS\",\"PoW\",\"PoW\",\"PoS\",\"PoW\",\"PoW/PoS\",\"PoW\",\"PoS\",\"PoS\",\"PoW\",\"PoW\",\"PoW/PoS\",\"PoS\",\"PoW\",\"PoW\",\"PoW/PoS\",\"PoS\",\"PoW\",\"PoS\",\"PoW/PoS\",\"PoW/PoS\",\"PoW\",\"PoS\",\"PoW/PoS\",\"PoW\",\"PoW\",\"PoS\",\"PoS\",\"PoW/PoS\",\"PoW\",\"PoW\",\"PoW\",\"PoS\",\"PoW/PoS\",\"PoW/PoS\",\"PoW/nPoS\",\"PoS/LPoS\",\"PoW\",\"PoW\",\"PoS\",\"PoW/PoS\",\"PoS\",\"PoW/PoS\",\"PoW\",\"PoW\",\"PoW/PoS\",\"PoS\",\"PoW\",\"PoW/PoS\",\"PoW/PoS\",\"PoW\",\"PoW/PoS\",\"DPoS\",\"PoW\",\"PoW\",\"PoS\",\"PoS\",\"PoW\",\"PoW\",\"PoS\",\"PoW/PoS\",\"PoW/PoS\",\"PoS\",\"PoW\",\"PoW\",\"PoW/PoS\",\"PoW\",\"PoW\",\"PoW\",\"PoS\",\"PoW/PoS\",\"PoS\",\"PoA\",\"PoW\",\"PoS\",\"PoW/PoS\",\"PoW\",\"PoW\",\"PoS\",\"PoS\",\"PoW/PoS\",\"PoW/PoS\",\"PoW\",\"PoW\",\"PoW\",\"PoW/PoS\",\"PoW/PoS\",\"PoW/PoS\",\"PoW/PoS\",\"PoW\",\"PoW\",\"PoW\",\"PoS\",\"PoW\",\"PoS\",\"PoW/PoS\",\"PoS\",\"PoW/PoS\",\"PoW\",\"PoW/PoS\",\"PoW/PoS\",\"PoW/PoS\",\"PoW\",\"PoS\",\"PoW/PoS\",\"PoS\",\"PoW\",\"PoS\",\"PoW\",\"PoW\",\"PoC\",\"PoW\",\"PoW\",\"PoW/PoW\",\"DPoS\",\"PoW\",\"PoW\",\"PoW/PoS\",\"PoS\",\"PoS\",\"PoW\",\"PoW\",\"PoW\",\"PoW\",\"PoW\",\"PoW\",\"PoW\",\"PoW\",\"PoW\",\"PoW\",\"PoW/PoS\",\"PoW\",\"PoW\",\"PoS/PoW\",\"PoW\",\"PoS\",\"PoW/PoS\",\"PoW\",\"PoW\",\"PoS\",\"PoW/PoS\",\"PoW\",\"PoW/PoS\",\"PoW\",\"PoW/PoS\",\"DPoS\",\"PoS\",\"PoS\",\"PoW/PoS\",\"PoS\",\"PoW\",\"PoS\",\"PoS\",\"PoW/PoS\",\"PoS\",\"PoW/PoS\",\"PoW\",\"PoW\",\"PoW/PoS\",\"PoW/PoS\",\"PoW/PoS\",\"PoW\",\"PoW/PoS\",\"PoW/PoS\",\"PoW/PoS\",\"PoW\",\"PoW/PoS\",\"PoS\",\"PoW\",\"PoW\",\"PoW\",\"PoW\",\"PoW\",\"PoW\",\"PoW/PoS\",\"PoW\",\"PoW\",\"PoW\",\"PoS\",\"PoW/PoS\",\"PoW/PoS\",\"PoW/PoS\",\"Proof of Authority\",\"PoW\",\"PoW/PoS\",\"PoW/PoS\",\"PoS\",\"PoW\",\"PoW\",\"PoS\",\"PoW\",\"PoST\",\"PoW\",\"PoW/PoS\",\"PoW/PoS\",\"PoS\",\"LPoS\",\"PoW\",\"PoW\",\"PoW\",\"PoW/PoS\",\"PoS\",\"PoS/PoW\",\"PoW/PoS\",\"PoW\",\"PoW\",\"PoW\",\"PoS\",\"PoS\",\"PoW/PoS\",\"PoW\",\"PoW/PoS\",\"PoW/PoS\",\"PoW/PoS\",\"PoS\",\"PoS\",\"PoW/PoS\",\"PoW\",\"PoW\",\"PoW\",\"PoW/PoS\",\"PoW\",\"PoW\",\"PoW\",\"PoW/PoS\",\"PoS\",\"PoS\",\"PoW/PoS\",\"PoW\",\"PoW\",\"TPoS\",\"PoW/PoS\",\"PoS\",\"PoW\",\"PoW\",\"PoW/PoS\",\"PoW/PoS\",\"PoW\",\"PoW\",\"PoS\",\"PoW/PoS\",\"PoW\",\"PoW\",\"PoS\",\"PoW\",\"DPoS\",\"PoW\",\"PoW\",\"PoW/PoS\",\"PoW\",\"PoW\",\"PoW\"],\"TotalCoinSupply\":[\"314159265359\",\"92000000000\",\"532000000\",\"42\",\"0\",\"1000000000\",\"30000000\",\"52500000\",\"1000000000\",\"550000000\",\"100000000\",\"84000000\",\"53760000\",\"45000000000\",\"10500000000\",\"25000000\",\"84000000\",\"300000000\",\"1000000000\",\"60000000\",\"42000000\",\"55000000\",\"64000000\",\"28600000\",\"125000000\",\"15000000\",\"110290030\",\"500000000\",\"16768584\",\"420000000\",\"21000000\",\"25000000\",\"5200000000\",\"28000000\",\"210000000\",\"33000000\",\"21000000\",\"184467440735\",\"1400222610\",\"262800000\",\"500000000\",\"35520400\",\"25000000\",\"21000000\",\"70000000000\",\"54256119\",\"64000000\",\"7000000000\",\"14788275.991\",\"42000000\",\"120000000\",\"0\",\"25000000\",\"3000000\",\"30000000\",\"21000000\",\"139000000\",\"21000000\",\"50000000\",\"5000000\",\"500000\",\"21000000\",\"22000000\",\"0\",\"21000000000\",\"200000000\",\"21000000\",\"30886000\",\"70000000\",\"100000000\",\"3600570502\",\"990000000000\",\"21000000\",\"50000000\",\"2158812800\",\"20000000000\",\"3360000\",\"27716121\",\"100262205\",\"21000000\",\"200000000\",\"21000000 \",\"1000000\",\"13140000\",\"100000000 \",\"1000000000\",\"39999898\",\"30000000\",\"1000000000\",\"500000000\",\"525000000\",\"6500000000\",\"160000000\",\"210000000\",\"12500000\",\"50000000\",\"1200000000\",\"208000000\",\"16504333\",\"74800000000\",\"100000000\",\"42000000\",\"7600000000\",\"18000000\",\"40000000000\",\"13370000\",\"90000000\",\"185000000\",\"65789100\",\"48252000\",\"0\",\"18900000\",\"22000000\",\"19700000\",\"10000000000\",\"10500000\",\"2232901\",\"21000000\",\"2000000000\",\"105000000\",\"5121951220\",\"88000000\",\"17405891.19707116\",\"21000000000\",\"48166000\",\"21626280000 \",\"100000000\",\"90000000\",\"10638298\",\"4380000\",\"10000000\",\"200000000\",\"100000000\",\"5060000\",\"21000000\",\"21000000000\",\"0\",\"13500000000\",\"4000000000\",\"100000000\",\"30000000000\",\"22000000\",\"21000000 \",\"26298000\",\"26205539\",\"280000000\",\"1800000000\",\"60000000\",\"84000000\",\"850000000\",\"1000000000\",\"299792458\",\"32000000\",\"0\",\"60000000\",\"0\",\"72000000\",\"384000000\",\"50000000000\",\"210000000\",\"0\",\"4200000\",\"20000000\",\"50000000\",\"0\",\"21000000\",\"16906397\",\"0\",\"5000000000\",\"14524851.4827\",\"1000000000\",\"40000000\",\"160000000\",\"0\",\"20000000\",\"50000000\",\"8080000000\",\"11235813\",\"20000000\",\"110000000\",\"100000000\",\"60168145\",\"336000000\",\"100000000\",\"3315789\",\"19035999\",\"84000000\",\"250000000\",\"50000000\",\"31800000\",\"200000000000\",\"1420609614\",\"15000000\",\"50000000000\",\"5151000\",\"10500000\",\"70000000\",\"72245700\",\"168000000\",\"100000000\",\"221052632\",\"10000000000\",\"105000000\",\"2000000000\",\"500000000\",\"1500000000\",\"120000000\",\"54000000\",\"22105263\",\"81962100\",\"100000000\",\"26550000000\",\"90000000000\",\"26000000\",\"9999999\",\"0\",\"0\",\"21000000\",\"44333333\",\"5000000\",\"90600000000\",\"2500000000\",\"21933333\",\"21212121\",\"110000000\",\"26280000\",\"45000000\",\"30000000\",\"30000000\",\"22000000\",\"21000000\",\"64000000\",\"0\",\"23000000\",\"21000000\",\"2800000\",\"0\",\"21000000\",\"1000000000\",\"18000000\",\"500000000\",\"21000000\",\"210000000\",\"265420800\",\"10000000000\",\"20000000\",\"200000000\",\"350000000\",\"12000000\",\"10000000\",\"1100000000\",\"84000000\",\"228000000\",\"9354000\",\"7506000000\",\"657000000\",\"840000000\",\"4000000\",\"35000000000\",\"50000000000\",\"100000000\",\"33500000\",\"25228800\",\"20000000\",\"1000000000\",\"150000000\",\"18406979840\",\"159918400\",\"1350000\",\"84000000\",\"78835200\",\"150000000\",\"999481516\",\"60000000\",\"92000000000\",\"144000000\",\"33000000\",\"100000000\",\"100000000\",\"30000000\",\"400000000\",\"1618033\",\"42000000\",\"200000000\",\"500000000\",\"168000000\",\"400000000\",\"10000000\",\"0\",\"260000000\",\"16000000\",\"105120000\",\"650659833\",\"21000000\",\"384000000000\",\"619478\",\"3000000\",\"200000000\",\"16600000\",\"18081806 \",\"2419200000\",\"1200000000\",\"340282367\",\"16180000\",\"0\",\"336000000\",\"184000000000\",\"20000000\",\"21000000\",\"190000000\",\"1680000000\",\"21000000\",\"15000000000\",\"500000000\",\"84000000\",\"68000000\",\"78000000\",\"1000000000\",\"337000000\",\"0\",\"80000000\",\"200000000\",\"91388946\",\"105000000\",\"3371337\",\"616448\",\"18898187.6216583\",\"1000000000\",\"1100000000\",\"0\",\"3770000\",\"2714286\",\"21000000\",\"0\",\"100000000000\",\"182000000\",\"8634140\",\"100000000\",\"23000000\",\" 90000000000\",\"30000000\",\"1000000000\",\"500000000\",\"105000000\",\"156306732.71\",\"25000000\",\"38540000 \",\"600000518\",\"1000000000\",\"21000000\",\"32514916898\",\"50000000\",\"16880000000\",\"252460800\",\"4999999999\",\"650000000 \",\"420000000\",\"2100000000\",\"21000000\",\"75000000000\",\"45000000\",\"20000000\",\"0\",\"21000000\",\"166386000\",\"350000000\",\"25000000\",\"2000000000\",\"0\",\"98000000\",\"247000000\",\"105000000\",\"100000000\",\"100000000\",\"184470000000\",\"9000000\",\"500000000\",\"0\",\"144000000\",\"24487944\",\"0\",\"27000000\",\"222725000\",\"84000000\",\"34426423\",\"0\",\"2500124\",\"21000000\",\"24000000\",\"210000000\",\"88188888\",\"2147483647\",\"250000000\",\"0\",\"3100000000\",\"100000000\",\"30000000\",\"24000000\",\"10200000000\",\"137500000\",\"500000000\",\"100000000\",\"98100000000\",\"5000000000\",\"51200000\",\"50000000000\",\" 75000000\",\"30000000\",\"10500000000\",\"210240000\",\"21000000\",\"19340594\",\"21000000\",\"20000000\",\"0\",\"10000000000\",\"61599965\",\"10000000\",\"19800000\",\"88888888\",\"0\",\"40000000\",\"250000000\",\"1000\",\"888000000\",\"36900000\",\"500000000\",\"1000000000\",\"301000000\",\"15733333\",\"100000000\",\"47011968\",\"2300000000\",\"800000000\",\"10000000\",\"25000000\",\"1000000000\",\"42000000\",\"100000000\",\"120000\",\"0\",\"900000000\",\"1000000000000\",\"82546564\",\"18000000000\",\"5000000000\",\"1000000000\",\"400000000\",\"20000000\",\"20166000\",\"4000000000\",\"0\",\"105120001.44\",\"80000000\",\"19276800\",\"13000000\",\"250000\",\"210000000\",\"0\",\"200084200\",\"1600000000\",\"232000000\",\"100000000\",\"86712634466\",\"23000000\",\"100000000\",\"90000000\",\"100000000\",\"27000000\",\"1000000000\",\"124000000\",\"2100000000\",\"0\",\"84000000\",\"20000000\",\"120000000\",\"120000000\",\"100000000\",\"2628000\",\"265420800\",\"1750000000\",\"25000000000\",\"1000000\",\"21000000\",\"5500000\",\"100000000\",\"21000000\",\"1840000000\",\"0\",\"20000000\",\"48252000\",\"10000000000\",\"366000000\",\"3853326.77707314\",\"40000000\",\"10008835635\",\"9000000000\",\"21000000\",\"45000000\",\"54000000\",\"18400000\",\"9507271\",\"22075700\",\"0\",\"2000000000\",\"5000000\",\"74000000\",\"12500000\",\"75000000\",\"2100000\",\"660000000\",\"76500000\",\"0\",\"44000000\",\"85000000000\",\"16555000000\",\"100000000\",\"300000000\",\"21400000\",\"168351300\",\"55000000\",\"1000000000\",\"21000000\",\"21000000\",\" 99000000000\",\"21000000\",\"2000000000\",\"17000000\",\"169795588\",\"21000000\",\"250000000\",\"21000000\",\"9736000\"],\"TotalCoinsMined\":{\"__ndarray__\":\"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\",\"dtype\":\"float64\",\"shape\":[533]}},\"selected\":{\"id\":\"2612\"},\"selection_policy\":{\"id\":\"2645\"}},\"id\":\"2611\",\"type\":\"ColumnDataSource\"},{\"attributes\":{\"children\":[{\"id\":\"2610\"},{\"id\":\"2643\"},{\"id\":\"2647\"}],\"margin\":[0,0,0,0],\"name\":\"Row05348\",\"tags\":[\"embedded\"]},\"id\":\"2609\",\"type\":\"Row\"},{\"attributes\":{},\"id\":\"2614\",\"type\":\"StringEditor\"},{\"attributes\":{},\"id\":\"2619\",\"type\":\"StringEditor\"},{\"attributes\":{\"margin\":[5,5,5,5],\"name\":\"HSpacer05352\",\"sizing_mode\":\"stretch_width\"},\"id\":\"2610\",\"type\":\"Spacer\"},{\"attributes\":{\"editor\":{\"id\":\"2624\"},\"field\":\"ProofType\",\"formatter\":{\"id\":\"2623\"},\"title\":\"ProofType\"},\"id\":\"2625\",\"type\":\"TableColumn\"}],\"root_ids\":[\"2609\"]},\"title\":\"Bokeh Application\",\"version\":\"2.0.2\"}};\n",
       "  var render_items = [{\"docid\":\"086e46a0-b7b2-4574-afb0-aa5d2de56d09\",\"root_ids\":[\"2609\"],\"roots\":{\"2609\":\"6485eeaf-fbd9-4ab4-a772-8e81283cd9ba\"}}];\n",
       "  root.Bokeh.embed.embed_items_notebook(docs_json, render_items);\n",
       "  }\n",
       "if (root.Bokeh !== undefined) {\n",
       "    embed_document(root);\n",
       "  } else {\n",
       "    var attempts = 0;\n",
       "    var timer = setInterval(function(root) {\n",
       "      if (root.Bokeh !== undefined) {\n",
       "        clearInterval(timer);\n",
       "        embed_document(root);\n",
       "      } else if (document.readyState == \"complete\") {\n",
       "        attempts++;\n",
       "        if (attempts > 100) {\n",
       "          clearInterval(timer);\n",
       "          console.log(\"Bokeh: ERROR: Unable to run BokehJS code because BokehJS library is missing\");\n",
       "        }\n",
       "      }\n",
       "    }, 10, root)\n",
       "  }\n",
       "})(window);</script>"
      ],
      "text/plain": [
       ":Table   [CoinName,Algorithm,ProofType,TotalCoinSupply,TotalCoinsMined,Class]"
      ]
     },
     "execution_count": 449,
     "metadata": {
      "application/vnd.holoviews_exec.v0+json": {
       "id": "2609"
      }
     },
     "output_type": "execute_result"
    }
   ],
   "source": [
    "clustered_df.hvplot.table(columns=['CoinName', 'Algorithm', 'ProofType', 'TotalCoinSupply', 'TotalCoinsMined', 'Class'], \n",
    "                          width=800)"
   ]
  },
  {
   "cell_type": "markdown",
   "metadata": {},
   "source": [
    "#### Create a scatter plot using hvplot.scatter to present the clustered data about cryptocurrencies having x=\"TotalCoinsMined\" and y=\"TotalCoinSupply\" to contrast the number of available coins versus the total number of mined coins. Use the hover_cols=[\"CoinName\"] parameter to include the cryptocurrency name on each data point."
   ]
  },
  {
   "cell_type": "code",
   "execution_count": 450,
   "metadata": {},
   "outputs": [
    {
     "data": {},
     "metadata": {},
     "output_type": "display_data"
    },
    {
     "data": {
      "application/vnd.holoviews_exec.v0+json": "",
      "text/html": [
       "<div id='2659'>\n",
       "\n",
       "\n",
       "\n",
       "\n",
       "\n",
       "  <div class=\"bk-root\" id=\"cba79ad1-487f-4f99-ba22-28c36487ee66\" data-root-id=\"2659\"></div>\n",
       "</div>\n",
       "<script type=\"application/javascript\">(function(root) {\n",
       "  function embed_document(root) {\n",
       "  var docs_json = {\"38dbac67-4ea0-4640-910f-1e7ec7219a25\":{\"roots\":{\"references\":[{\"attributes\":{},\"id\":\"2674\",\"type\":\"CategoricalScale\"},{\"attributes\":{\"label\":{\"value\":\"1\"},\"renderers\":[{\"id\":\"2722\"}]},\"id\":\"2732\",\"type\":\"LegendItem\"},{\"attributes\":{\"align\":null,\"below\":[{\"id\":\"2676\"}],\"center\":[{\"id\":\"2679\"},{\"id\":\"2682\"}],\"left\":[{\"id\":\"2680\"}],\"margin\":null,\"min_border_bottom\":10,\"min_border_left\":10,\"min_border_right\":10,\"min_border_top\":10,\"plot_height\":300,\"plot_width\":700,\"renderers\":[{\"id\":\"2706\"},{\"id\":\"2722\"},{\"id\":\"2739\"},{\"id\":\"2758\"}],\"right\":[{\"id\":\"2714\"}],\"sizing_mode\":\"fixed\",\"title\":{\"id\":\"2668\"},\"toolbar\":{\"id\":\"2689\"},\"x_range\":{\"id\":\"2661\"},\"x_scale\":{\"id\":\"2672\"},\"y_range\":{\"id\":\"2662\"},\"y_scale\":{\"id\":\"2674\"}},\"id\":\"2667\",\"subtype\":\"Figure\",\"type\":\"Plot\"},{\"attributes\":{\"fill_color\":{\"value\":\"#1f77b3\"},\"line_color\":{\"value\":\"#1f77b3\"},\"size\":{\"units\":\"screen\",\"value\":5.477225575051661},\"x\":{\"field\":\"TotalCoinsMined\"},\"y\":{\"field\":\"TotalCoinSupply\"}},\"id\":\"2703\",\"type\":\"Scatter\"},{\"attributes\":{\"fill_alpha\":{\"value\":0.1},\"fill_color\":{\"value\":\"#1f77b3\"},\"line_alpha\":{\"value\":0.1},\"line_color\":{\"value\":\"#1f77b3\"},\"size\":{\"units\":\"screen\",\"value\":5.477225575051661},\"x\":{\"field\":\"TotalCoinsMined\"},\"y\":{\"field\":\"TotalCoinSupply\"}},\"id\":\"2704\",\"type\":\"Scatter\"},{\"attributes\":{},\"id\":\"2672\",\"type\":\"LinearScale\"},{\"attributes\":{\"data\":{\"Class\":[0,0,0,0,0,0,0,0,0,0,0,0,0,0,0,0,0,0,0,0,0,0,0,0,0,0,0,0,0,0,0,0,0,0,0,0,0,0,0,0,0,0,0,0,0,0,0,0,0,0,0,0,0,0,0,0,0,0,0,0,0,0,0,0,0,0,0,0,0,0,0,0,0,0,0,0,0,0,0,0,0,0,0,0,0,0,0,0,0,0,0,0,0,0,0,0,0,0,0,0,0,0,0,0,0,0,0,0,0,0,0,0,0,0,0,0,0,0,0,0,0,0,0,0,0,0,0,0,0,0,0,0,0,0,0,0,0,0,0,0,0,0,0,0,0,0,0,0,0,0,0,0,0,0,0,0,0,0,0,0,0,0,0,0,0,0,0,0,0,0,0,0,0,0,0,0,0,0,0,0,0,0,0,0,0,0,0,0,0,0,0,0,0,0,0,0,0,0,0,0,0,0,0,0,0,0,0,0,0,0,0,0,0,0,0,0,0,0,0,0,0,0,0,0,0,0,0,0,0,0,0,0,0,0,0,0,0,0,0,0,0],\"CoinName\":[\"404Coin\",\"Abjcoin\",\"Anarchists Prime\",\"AudioCoin\",\"Aidos Kuneen\",\"Adzcoin\",\"ALAX\",\"ArcticCoin\",\"ARENON\",\"Argentum\",\"ARK\",\"Allsafe\",\"Axe\",\"Azart\",\"BiblePay\",\"BitConnect Coin\",\"Bitcoin Diamond\",\"BitcoinFast\",\"ByteCoin\",\"Beldex\",\"BenjiRolls\",\"BitMoney\",\"BlakeCoin\",\"BolivarCoin\",\"Briacoin\",\"BowsCoin\",\"BitSend\",\"Bitspace\",\"BitcoinDark\",\"BitCurrency\",\"Bitrolium\",\"Bitcoin Planet\",\"Bitshares\",\"BitTorrent\",\"BeaverCoin\",\"Bulwark\",\"BitTokens\",\"Carebit\",\"Canada eCoin\",\"CoffeeCoin\",\"ChanCoin\",\"OpenChat\",\"Crypto Improvement Fund\",\"Clockcoin\",\"BitCoal\",\"CapriCoin\",\"Creditbit \",\"Credit\",\"Cream\",\"Crown Coin\",\"CasinoCoin\",\"DAS\",\"Dash\",\"DaxxCoin\",\"DubaiCoin\",\"DubaiCoin\",\"Decred\",\"iDealCash\",\"Deviant Coin\",\"Draftcoin\",\"CarpeDiemCoin\",\"DopeCoin\",\"DevCoin\",\"Dynamic\",\"EarthCoin\",\"EB3coin\",\"Electra\",\"E-Gulden\",\"EverGreenCoin\",\"Elements\",\"EmaratCoin\",\"Emercoin\",\"Einsteinium\",\"EOS\",\"EquiTrader\",\"Espers\",\"Ethereum Classic\",\"Ethereum Dark\",\"Exosis\",\"FindCoin\",\"Flo\",\"FlutterCoin\",\"FirstCoin\",\"Frankywillcoin\",\"FriendshipCoin\",\"FuturoCoin\",\"Gapcoin\",\"GoByte\",\"gCn Coin\",\"GrandCoin\",\"GermanCoin\",\"GlobalCoin\",\"GlobalToken\",\"Groestlcoin\",\"HexCoin\",\"HOdlcoin\",\"HappyCoin\",\"HTML5 Coin\",\"HexxCoin\",\"HyperStake\",\"HyperCoin\",\"iBankCoin\",\"Ignition\",\"Infinite Coin\",\"Infinex\",\"Innova\",\"IrishCoin\",\"IXcoin\",\"JoinCoin\",\"Jumpcoin\",\"KrugerCoin\",\"KiloCoin\",\"Komodo\",\"KREDS\",\"Kronecoin\",\"KushCoin\",\"LanaCoin\",\"Lutetium Coin\",\"Litecoin Plus\",\"LiteDoge\",\"Linx\",\"LomoCoin\",\"Lisk\",\"Litecoin\",\"LiteCreed\",\"LiteCoin Ultra\",\"MaxCoin\",\"Theresa May Coin\",\"MacronCoin\",\"MassGrid\",\"XiaoMiCoin\",\"MMOCoin\",\"MindCoin\",\"MoneyCoin\",\"Monkey Project\",\"MudraCoin\",\"MazaCoin\",\"NamoCoin\",\"Nano\",\"Newton Coin\",\"Nebuchadnezzar\",\"NeosCoin\",\"IncaKoin\",\"Namecoin\",\"NobleCoin\",\"Dnotes\",\"Nxt\",\"NyanCoin\",\"OKCash\",\"OmniCron\",\"DeepOnion\",\"Oxycoin\",\"PacCoin\",\"Particl\",\"PAXEX\",\"Photon\",\"PirateCash\",\"Pirl\",\"PizzaCoin\",\"Peony Coin\",\"Project Pai\",\"ProsperCoin\",\"PesetaCoin\",\"PWR Coin\",\"Quatloo\",\"QTUM\",\"Qwertycoin\",\"Radium\",\"Condensate\",\"RubyCoin\",\"Russiacoin\",\"Reddcoin\",\"Regalcoin\",\"RoyalCoin\",\"RonPaulCoin\",\"Revolution VR\",\"Siacoin\",\"Swiscoin\",\"Semux\",\"Shilling\",\"Signatum\",\"SmartCoin\",\"SmileyCoin\",\"SocialCoin\",\"SparksPay\",\"Spreadcoin\",\"Squall Coin\",\"Sucre\",\"Sumokoin\",\"SuperCoin\",\"SwingCoin\",\"SexCoin\",\"SysCoin\",\"TajCoin\",\"Lamden Tau\",\"TigerCash\",\"TeamUP\",\"TerraNovaCoin\",\"TeslaCoin\",\"TigerCoin\",\"TittieCoin\",\"Tokyo Coin\",\"TorCoin\",\"TPCash\",\"TurtleCoin\",\"Trivechain\",\"UnitedBitcoin\",\"UnbreakableCoin\",\"UnitaryStatus Dollar\",\"VIP Tokens\",\"VeriCoin\",\"Vertcoin\",\"Waves\",\"Wild Beast Coin\",\"Webchain\",\"BitcoinPlus\",\"Bitcoin Incognito\",\"X11 Coin\",\"Xchange\",\"Cannabis Industry Coin\",\"Cryptonite\",\"Creatio\",\"CoinonatX\",\"XenixCoin\",\"HiCoin\",\"Infinity Economics\",\"Monero Classic\",\"Monero\",\"Enigma\",\"PayCoin\",\"SHIELD\",\"Verge\",\"WhiteCoin\",\"ZCoin\",\"YoCoin\",\"ZCC Coin\",\"ZeitCoin\",\"Horizen\",\"Zero\",\"ZoneCoin\",\"BitZeny\"],\"TotalCoinSupply\":[\"532000000\",\"30000000\",\"53760000\",\"10500000000\",\"25000000\",\"84000000\",\"1000000000\",\"60000000\",\"55000000\",\"64000000\",\"125000000\",\"15000000\",\"21000000\",\"25000000\",\"5200000000\",\"28000000\",\"210000000\",\"33000000\",\"184467440735\",\"1400222610\",\"35520400\",\"70000000000\",\"7000000000\",\"25000000\",\"3000000\",\"21000000\",\"139000000\",\"50000000\",\"22000000\",\"0\",\"70000000\",\"100000000\",\"3600570502\",\"990000000000\",\"3360000\",\"27716121\",\"21000000\",\"200000000\",\"100000000 \",\"39999898\",\"30000000\",\"1000000000\",\"500000000\",\"525000000\",\"12500000\",\"208000000\",\"16504333\",\"74800000000\",\"100000000\",\"42000000\",\"40000000000\",\"18900000\",\"22000000\",\"10000000000\",\"10500000\",\"2232901\",\"21000000\",\"5121951220\",\"88000000\",\"17405891.19707116\",\"21626280000 \",\"200000000\",\"21000000000\",\"0\",\"13500000000\",\"4000000000\",\"30000000000\",\"21000000 \",\"26298000\",\"1800000000\",\"84000000\",\"1000000000\",\"299792458\",\"0\",\"72000000\",\"50000000000\",\"210000000\",\"4200000\",\"21000000\",\"14524851.4827\",\"160000000\",\"0\",\"110000000\",\"100000000\",\"60168145\",\"100000000\",\"250000000\",\"31800000\",\"200000000000\",\"1420609614\",\"50000000000\",\"70000000\",\"168000000\",\"105000000\",\"22105263\",\"81962100\",\"100000000\",\"90000000000\",\"9999999\",\"0\",\"0\",\"44333333\",\"5000000\",\"90600000000\",\"26280000\",\"45000000\",\"64000000\",\"21000000\",\"2800000\",\"21000000\",\"265420800\",\"10000000000\",\"200000000\",\"1100000000\",\"84000000\",\"9354000\",\"7506000000\",\"657000000\",\"4000000\",\"35000000000\",\"100000000\",\"1000000000\",\"159918400\",\"84000000\",\"78835200\",\"150000000\",\"100000000\",\"100000000\",\"400000000\",\"168000000\",\"400000000\",\"260000000\",\"16000000\",\"650659833\",\"21000000\",\"200000000\",\"2419200000\",\"1200000000\",\"340282367\",\"184000000000\",\"20000000\",\"21000000\",\"190000000\",\"21000000\",\"15000000000\",\"500000000\",\"1000000000\",\"337000000\",\"105000000\",\"3371337\",\"18898187.6216583\",\"0\",\"100000000000\",\"8634140\",\"100000000\",\" 90000000000\",\"105000000\",\"156306732.71\",\"25000000\",\"16880000000\",\"2100000000\",\"21000000\",\"166386000\",\"0\",\"100000000\",\"100000000\",\"184470000000\",\"9000000\",\"500000000\",\"0\",\"144000000\",\"0\",\"27000000\",\"2500124\",\"21000000\",\"210000000\",\"0\",\"3100000000\",\"100000000\",\"30000000\",\"137500000\",\"51200000\",\"50000000000\",\" 75000000\",\"21000000\",\"20000000\",\"0\",\"19800000\",\"88888888\",\"0\",\"40000000\",\"250000000\",\"888000000\",\"36900000\",\"500000000\",\"1000000000\",\"301000000\",\"15733333\",\"100000000\",\"47011968\",\"2300000000\",\"800000000\",\"10000000\",\"1000000000\",\"1000000000000\",\"82546564\",\"20166000\",\"80000000\",\"1600000000\",\"90000000\",\"0\",\"84000000\",\"100000000\",\"2628000\",\"1750000000\",\"1000000\",\"21000000\",\"5500000\",\"100000000\",\"21000000\",\"1840000000\",\"20000000\",\"48252000\",\"3853326.77707314\",\"10008835635\",\"9000000000\",\"18400000\",\"0\",\"5000000\",\"12500000\",\"660000000\",\"16555000000\",\"300000000\",\"21400000\",\"168351300\",\"1000000000\",\" 99000000000\",\"21000000\",\"17000000\",\"21000000\",\"250000000\"],\"TotalCoinsMined\":{\"__ndarray__\":\"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\",\"dtype\":\"float64\",\"shape\":[241]}},\"selected\":{\"id\":\"2701\"},\"selection_policy\":{\"id\":\"2730\"}},\"id\":\"2700\",\"type\":\"ColumnDataSource\"},{\"attributes\":{},\"id\":\"2734\",\"type\":\"Selection\"},{\"attributes\":{\"factors\":[\"532000000\",\"30000000\",\"53760000\",\"10500000000\",\"25000000\",\"84000000\",\"1000000000\",\"60000000\",\"55000000\",\"64000000\",\"125000000\",\"15000000\",\"21000000\",\"5200000000\",\"28000000\",\"210000000\",\"33000000\",\"184467440735\",\"1400222610\",\"35520400\",\"70000000000\",\"7000000000\",\"3000000\",\"139000000\",\"50000000\",\"22000000\",\"0\",\"70000000\",\"100000000\",\"3600570502\",\"990000000000\",\"3360000\",\"27716121\",\"200000000\",\"100000000 \",\"39999898\",\"500000000\",\"525000000\",\"12500000\",\"208000000\",\"16504333\",\"74800000000\",\"42000000\",\"40000000000\",\"18900000\",\"10000000000\",\"10500000\",\"2232901\",\"5121951220\",\"88000000\",\"17405891.19707116\",\"21626280000 \",\"21000000000\",\"13500000000\",\"4000000000\",\"30000000000\",\"21000000 \",\"26298000\",\"1800000000\",\"299792458\",\"72000000\",\"50000000000\",\"4200000\",\"14524851.4827\",\"160000000\",\"110000000\",\"60168145\",\"250000000\",\"31800000\",\"200000000000\",\"1420609614\",\"168000000\",\"105000000\",\"22105263\",\"81962100\",\"90000000000\",\"9999999\",\"44333333\",\"5000000\",\"90600000000\",\"26280000\",\"45000000\",\"2800000\",\"265420800\",\"1100000000\",\"9354000\",\"7506000000\",\"657000000\",\"4000000\",\"35000000000\",\"159918400\",\"78835200\",\"150000000\",\"400000000\",\"260000000\",\"16000000\",\"650659833\",\"2419200000\",\"1200000000\",\"340282367\",\"184000000000\",\"20000000\",\"190000000\",\"15000000000\",\"337000000\",\"3371337\",\"18898187.6216583\",\"100000000000\",\"8634140\",\" 90000000000\",\"156306732.71\",\"16880000000\",\"2100000000\",\"166386000\",\"184470000000\",\"9000000\",\"144000000\",\"27000000\",\"2500124\",\"3100000000\",\"137500000\",\"51200000\",\" 75000000\",\"19800000\",\"88888888\",\"40000000\",\"888000000\",\"36900000\",\"301000000\",\"15733333\",\"47011968\",\"2300000000\",\"800000000\",\"10000000\",\"1000000000000\",\"82546564\",\"20166000\",\"80000000\",\"1600000000\",\"90000000\",\"2628000\",\"1750000000\",\"1000000\",\"5500000\",\"1840000000\",\"48252000\",\"3853326.77707314\",\"10008835635\",\"9000000000\",\"18400000\",\"660000000\",\"16555000000\",\"300000000\",\"21400000\",\"168351300\",\" 99000000000\",\"17000000\",\"314159265359\",\"92000000000\",\"42\",\"52500000\",\"550000000\",\"28600000\",\"110290030\",\"16768584\",\"420000000\",\"262800000\",\"54256119\",\"14788275.991\",\"120000000\",\"500000\",\"30886000\",\"2158812800\",\"20000000000\",\"100262205\",\"13140000\",\"6500000000\",\"7600000000\",\"18000000\",\"13370000\",\"185000000\",\"65789100\",\"19700000\",\"2000000000\",\"48166000\",\"10638298\",\"4380000\",\"5060000\",\"26205539\",\"280000000\",\"850000000\",\"32000000\",\"384000000\",\"16906397\",\"5000000000\",\"8080000000\",\"11235813\",\"336000000\",\"3315789\",\"19035999\",\"5151000\",\"72245700\",\"221052632\",\"1500000000\",\"54000000\",\"26550000000\",\"26000000\",\"2500000000\",\"21933333\",\"21212121\",\"23000000\",\"350000000\",\"12000000\",\"228000000\",\"840000000\",\"33500000\",\"25228800\",\"18406979840\",\"1350000\",\"999481516\",\"1618033\",\"105120000\",\"384000000000\",\"619478\",\"16600000\",\"18081806 \",\"16180000\",\"1680000000\",\"68000000\",\"78000000\",\"91388946\",\"616448\",\"3770000\",\"2714286\",\"182000000\",\"38540000 \",\"600000518\",\"32514916898\",\"252460800\",\"4999999999\",\"650000000 \",\"75000000000\",\"98000000\",\"247000000\",\"222725000\",\"34426423\",\"24000000\",\"88188888\",\"2147483647\",\"10200000000\",\"98100000000\",\"210240000\",\"19340594\",\"61599965\",\"1000\",\"120000\",\"900000000\",\"18000000000\",\"105120001.44\",\"19276800\",\"13000000\",\"250000\",\"200084200\",\"232000000\",\"86712634466\",\"124000000\",\"25000000000\",\"366000000\",\"9507271\",\"74000000\",\"75000000\",\"2100000\",\"76500000\",\"44000000\",\"85000000000\",\"169795588\",\"9736000\",\"45000000000\",\"24487944\",\"22075700\"],\"tags\":[[[\"TotalCoinSupply\",\"TotalCoinSupply\",null]]]},\"id\":\"2662\",\"type\":\"FactorRange\"},{\"attributes\":{\"text\":\"\",\"text_color\":{\"value\":\"black\"},\"text_font_size\":{\"value\":\"12pt\"}},\"id\":\"2668\",\"type\":\"Title\"},{\"attributes\":{},\"id\":\"2683\",\"type\":\"SaveTool\"},{\"attributes\":{\"label\":{\"value\":\"0\"},\"renderers\":[{\"id\":\"2706\"}]},\"id\":\"2715\",\"type\":\"LegendItem\"},{\"attributes\":{},\"id\":\"2687\",\"type\":\"ResetTool\"},{\"attributes\":{\"fill_alpha\":{\"value\":0.2},\"fill_color\":{\"value\":\"#1f77b3\"},\"line_alpha\":{\"value\":0.2},\"line_color\":{\"value\":\"#1f77b3\"},\"size\":{\"units\":\"screen\",\"value\":5.477225575051661},\"x\":{\"field\":\"TotalCoinsMined\"},\"y\":{\"field\":\"TotalCoinSupply\"}},\"id\":\"2705\",\"type\":\"Scatter\"},{\"attributes\":{},\"id\":\"2730\",\"type\":\"UnionRenderers\"},{\"attributes\":{},\"id\":\"2701\",\"type\":\"Selection\"},{\"attributes\":{},\"id\":\"2749\",\"type\":\"UnionRenderers\"},{\"attributes\":{\"data_source\":{\"id\":\"2700\"},\"glyph\":{\"id\":\"2703\"},\"hover_glyph\":null,\"muted_glyph\":{\"id\":\"2705\"},\"nonselection_glyph\":{\"id\":\"2704\"},\"selection_glyph\":null,\"view\":{\"id\":\"2707\"}},\"id\":\"2706\",\"type\":\"GlyphRenderer\"},{\"attributes\":{\"axis\":{\"id\":\"2680\"},\"dimension\":1,\"grid_line_color\":null,\"ticker\":null},\"id\":\"2682\",\"type\":\"Grid\"},{\"attributes\":{\"fill_alpha\":{\"value\":0.1},\"fill_color\":{\"value\":\"#2ba02b\"},\"line_alpha\":{\"value\":0.1},\"line_color\":{\"value\":\"#2ba02b\"},\"size\":{\"units\":\"screen\",\"value\":5.477225575051661},\"x\":{\"field\":\"TotalCoinsMined\"},\"y\":{\"field\":\"TotalCoinSupply\"}},\"id\":\"2737\",\"type\":\"Scatter\"},{\"attributes\":{\"margin\":[5,5,5,5],\"name\":\"HSpacer05549\",\"sizing_mode\":\"stretch_width\"},\"id\":\"2885\",\"type\":\"Spacer\"},{\"attributes\":{\"click_policy\":\"mute\",\"items\":[{\"id\":\"2715\"},{\"id\":\"2732\"},{\"id\":\"2751\"},{\"id\":\"2772\"}],\"location\":[0,0],\"title\":\"Class\"},\"id\":\"2714\",\"type\":\"Legend\"},{\"attributes\":{},\"id\":\"2697\",\"type\":\"BasicTickFormatter\"},{\"attributes\":{\"end\":1032670428767.6898,\"reset_end\":1032670428767.6898,\"reset_start\":-48599692876.008446,\"start\":-48599692876.008446,\"tags\":[[[\"TotalCoinsMined\",\"TotalCoinsMined\",null]]]},\"id\":\"2661\",\"type\":\"Range1d\"},{\"attributes\":{\"data_source\":{\"id\":\"2716\"},\"glyph\":{\"id\":\"2719\"},\"hover_glyph\":null,\"muted_glyph\":{\"id\":\"2721\"},\"nonselection_glyph\":{\"id\":\"2720\"},\"selection_glyph\":null,\"view\":{\"id\":\"2723\"}},\"id\":\"2722\",\"type\":\"GlyphRenderer\"},{\"attributes\":{},\"id\":\"2677\",\"type\":\"BasicTicker\"},{\"attributes\":{\"children\":[{\"id\":\"2660\"},{\"id\":\"2667\"},{\"id\":\"2885\"}],\"margin\":[0,0,0,0],\"name\":\"Row05544\",\"tags\":[\"embedded\"]},\"id\":\"2659\",\"type\":\"Row\"},{\"attributes\":{\"active_drag\":\"auto\",\"active_inspect\":\"auto\",\"active_multi\":null,\"active_scroll\":\"auto\",\"active_tap\":\"auto\",\"tools\":[{\"id\":\"2663\"},{\"id\":\"2683\"},{\"id\":\"2684\"},{\"id\":\"2685\"},{\"id\":\"2686\"},{\"id\":\"2687\"}]},\"id\":\"2689\",\"type\":\"Toolbar\"},{\"attributes\":{\"callback\":null,\"renderers\":[{\"id\":\"2706\"},{\"id\":\"2722\"},{\"id\":\"2739\"},{\"id\":\"2758\"}],\"tags\":[\"hv_created\"],\"tooltips\":[[\"Class\",\"@{Class}\"],[\"TotalCoinsMined\",\"@{TotalCoinsMined}\"],[\"TotalCoinSupply\",\"@{TotalCoinSupply}\"],[\"CoinName\",\"@{CoinName}\"]]},\"id\":\"2663\",\"type\":\"HoverTool\"},{\"attributes\":{},\"id\":\"2684\",\"type\":\"PanTool\"},{\"attributes\":{},\"id\":\"2681\",\"type\":\"CategoricalTicker\"},{\"attributes\":{\"margin\":[5,5,5,5],\"name\":\"HSpacer05548\",\"sizing_mode\":\"stretch_width\"},\"id\":\"2660\",\"type\":\"Spacer\"},{\"attributes\":{\"data_source\":{\"id\":\"2733\"},\"glyph\":{\"id\":\"2736\"},\"hover_glyph\":null,\"muted_glyph\":{\"id\":\"2738\"},\"nonselection_glyph\":{\"id\":\"2737\"},\"selection_glyph\":null,\"view\":{\"id\":\"2740\"}},\"id\":\"2739\",\"type\":\"GlyphRenderer\"},{\"attributes\":{\"fill_color\":{\"value\":\"#d62628\"},\"line_color\":{\"value\":\"#d62628\"},\"size\":{\"units\":\"screen\",\"value\":5.477225575051661},\"x\":{\"field\":\"TotalCoinsMined\"},\"y\":{\"field\":\"TotalCoinSupply\"}},\"id\":\"2755\",\"type\":\"Scatter\"},{\"attributes\":{},\"id\":\"2753\",\"type\":\"Selection\"},{\"attributes\":{\"overlay\":{\"id\":\"2688\"}},\"id\":\"2686\",\"type\":\"BoxZoomTool\"},{\"attributes\":{\"axis\":{\"id\":\"2676\"},\"grid_line_color\":null,\"ticker\":null},\"id\":\"2679\",\"type\":\"Grid\"},{\"attributes\":{\"source\":{\"id\":\"2752\"}},\"id\":\"2759\",\"type\":\"CDSView\"},{\"attributes\":{\"label\":{\"value\":\"2\"},\"renderers\":[{\"id\":\"2739\"}]},\"id\":\"2751\",\"type\":\"LegendItem\"},{\"attributes\":{\"label\":{\"value\":\"3\"},\"renderers\":[{\"id\":\"2758\"}]},\"id\":\"2772\",\"type\":\"LegendItem\"},{\"attributes\":{\"data_source\":{\"id\":\"2752\"},\"glyph\":{\"id\":\"2755\"},\"hover_glyph\":null,\"muted_glyph\":{\"id\":\"2757\"},\"nonselection_glyph\":{\"id\":\"2756\"},\"selection_glyph\":null,\"view\":{\"id\":\"2759\"}},\"id\":\"2758\",\"type\":\"GlyphRenderer\"},{\"attributes\":{\"fill_color\":{\"value\":\"#ff7e0e\"},\"line_color\":{\"value\":\"#ff7e0e\"},\"size\":{\"units\":\"screen\",\"value\":5.477225575051661},\"x\":{\"field\":\"TotalCoinsMined\"},\"y\":{\"field\":\"TotalCoinSupply\"}},\"id\":\"2719\",\"type\":\"Scatter\"},{\"attributes\":{},\"id\":\"2785\",\"type\":\"UnionRenderers\"},{\"attributes\":{},\"id\":\"2717\",\"type\":\"Selection\"},{\"attributes\":{\"data\":{\"Class\":[1],\"CoinName\":[\"BlueCoin\"],\"TotalCoinSupply\":[\"0\"],\"TotalCoinsMined\":{\"__ndarray__\":\"AAAATubvwkE=\",\"dtype\":\"float64\",\"shape\":[1]}},\"selected\":{\"id\":\"2717\"},\"selection_policy\":{\"id\":\"2749\"}},\"id\":\"2716\",\"type\":\"ColumnDataSource\"},{\"attributes\":{\"data\":{\"Class\":[3,3,3,3,3,3],\"CoinName\":[\"Cardano\",\"Beetle Coin\",\"MintCoin\",\"Reality Clash\",\"DigitalNote \",\"Motion\"],\"TotalCoinSupply\":[\"45000000000\",\"500000000\",\"0\",\"24487944\",\"10000000000\",\"22075700\"],\"TotalCoinsMined\":{\"__ndarray__\":\"AAAozX4lGEJvD7pAHLenQdP8FRHe1BNC+HqIgYBad0FxIKadorr5QaatV0Fq/15B\",\"dtype\":\"float64\",\"shape\":[6]}},\"selected\":{\"id\":\"2753\"},\"selection_policy\":{\"id\":\"2785\"}},\"id\":\"2752\",\"type\":\"ColumnDataSource\"},{\"attributes\":{},\"id\":\"2770\",\"type\":\"UnionRenderers\"},{\"attributes\":{\"fill_alpha\":{\"value\":0.2},\"fill_color\":{\"value\":\"#ff7e0e\"},\"line_alpha\":{\"value\":0.2},\"line_color\":{\"value\":\"#ff7e0e\"},\"size\":{\"units\":\"screen\",\"value\":5.477225575051661},\"x\":{\"field\":\"TotalCoinsMined\"},\"y\":{\"field\":\"TotalCoinSupply\"}},\"id\":\"2721\",\"type\":\"Scatter\"},{\"attributes\":{\"source\":{\"id\":\"2700\"}},\"id\":\"2707\",\"type\":\"CDSView\"},{\"attributes\":{},\"id\":\"2685\",\"type\":\"WheelZoomTool\"},{\"attributes\":{\"bottom_units\":\"screen\",\"fill_alpha\":0.5,\"fill_color\":\"lightgrey\",\"left_units\":\"screen\",\"level\":\"overlay\",\"line_alpha\":1.0,\"line_color\":\"black\",\"line_dash\":[4,4],\"line_width\":2,\"render_mode\":\"css\",\"right_units\":\"screen\",\"top_units\":\"screen\"},\"id\":\"2688\",\"type\":\"BoxAnnotation\"},{\"attributes\":{\"fill_alpha\":{\"value\":0.1},\"fill_color\":{\"value\":\"#ff7e0e\"},\"line_alpha\":{\"value\":0.1},\"line_color\":{\"value\":\"#ff7e0e\"},\"size\":{\"units\":\"screen\",\"value\":5.477225575051661},\"x\":{\"field\":\"TotalCoinsMined\"},\"y\":{\"field\":\"TotalCoinSupply\"}},\"id\":\"2720\",\"type\":\"Scatter\"},{\"attributes\":{\"axis_label\":\"TotalCoinsMined\",\"bounds\":\"auto\",\"formatter\":{\"id\":\"2697\"},\"major_label_orientation\":\"horizontal\",\"ticker\":{\"id\":\"2677\"}},\"id\":\"2676\",\"type\":\"LinearAxis\"},{\"attributes\":{\"fill_alpha\":{\"value\":0.1},\"fill_color\":{\"value\":\"#d62628\"},\"line_alpha\":{\"value\":0.1},\"line_color\":{\"value\":\"#d62628\"},\"size\":{\"units\":\"screen\",\"value\":5.477225575051661},\"x\":{\"field\":\"TotalCoinsMined\"},\"y\":{\"field\":\"TotalCoinSupply\"}},\"id\":\"2756\",\"type\":\"Scatter\"},{\"attributes\":{},\"id\":\"2698\",\"type\":\"CategoricalTickFormatter\"},{\"attributes\":{\"fill_alpha\":{\"value\":0.2},\"fill_color\":{\"value\":\"#2ba02b\"},\"line_alpha\":{\"value\":0.2},\"line_color\":{\"value\":\"#2ba02b\"},\"size\":{\"units\":\"screen\",\"value\":5.477225575051661},\"x\":{\"field\":\"TotalCoinsMined\"},\"y\":{\"field\":\"TotalCoinSupply\"}},\"id\":\"2738\",\"type\":\"Scatter\"},{\"attributes\":{\"data\":{\"Class\":[2,2,2,2,2,2,2,2,2,2,2,2,2,2,2,2,2,2,2,2,2,2,2,2,2,2,2,2,2,2,2,2,2,2,2,2,2,2,2,2,2,2,2,2,2,2,2,2,2,2,2,2,2,2,2,2,2,2,2,2,2,2,2,2,2,2,2,2,2,2,2,2,2,2,2,2,2,2,2,2,2,2,2,2,2,2,2,2,2,2,2,2,2,2,2,2,2,2,2,2,2,2,2,2,2,2,2,2,2,2,2,2,2,2,2,2,2,2,2,2,2,2,2,2,2,2,2,2,2,2,2,2,2,2,2,2,2,2,2,2,2,2,2,2,2,2,2,2,2,2,2,2,2,2,2,2,2,2,2,2,2,2,2,2,2,2,2,2,2,2,2,2,2,2,2,2,2,2,2,2,2,2,2,2,2,2,2,2,2,2,2,2,2,2,2,2,2,2,2,2,2,2,2,2,2,2,2,2,2,2,2,2,2,2,2,2,2,2,2,2,2,2,2,2,2,2,2,2,2,2,2,2,2,2,2,2,2,2,2,2,2,2,2,2,2,2,2,2,2,2,2,2,2,2,2,2,2,2,2,2,2,2,2,2,2,2,2,2,2,2,2,2,2,2,2,2,2,2,2,2,2,2,2,2,2],\"CoinName\":[\"EliteCoin\",\"1Credit\",\"42 Coin\",\"8BIT Coin\",\"Acute Angle Cloud\",\"Absolute Coin\",\"ArtByte\",\"AC3\",\"AdCoin\",\"Actinium\",\"Alpenschillling\",\"AquariusCoin\",\"ArgusCoin\",\"Atmos\",\"ArtexCoin\",\"Aurora Coin\",\"Award\",\"Bitcoin Cash\",\"Beam\",\"Bikercoins\",\"Bitcoin Green\",\"BitstarCoin\",\"BLAST\",\"BlackholeCoin\",\"BillaryCoin\",\"Block-Logic\",\"BritCoin\",\"Bitcoin SV\",\"Bata\",\"BitBar\",\"Bitcoin\",\"BitcoinZ\",\"Bitcloud 2.0\",\"Bitcoin Gold\",\"Bithereum\",\"Bitcore\",\"Bettex coin\",\"BurstCoin\",\"BuzzCoin\",\"BitcoinWSpectrum\",\"Catcoin\",\"CryptoBullion\",\"CannaCoin\",\"Crypto Escudo\",\"Callisto Network\",\" ClubCoin\",\"Cash & Back Coin\",\"Paycon\",\"Circuits of Value\",\"CrypticCoin\",\"CryptCoin\",\"Crypto Sports\",\"CarterCoin\",\"Citadel\",\"Crypto\",\"Coinonat\",\"CypherPunkCoin\",\"Dash Platinum\",\"Dinastycoin\",\"Degas Coin\",\"DigiByte\",\"Digitalcoin \",\"Diggits\",\"Dekado\",\"DollarCoin\",\"Diamond\",\"Denarius\",\"DigitalPrice\",\"Droidz\",\"Dystem\",\"eBoost\",\"EDRCoin\",\"Elementrem\",\"Ellaism\",\"Ellerium\",\"EmberCoin\",\"Emerald\",\"EnergyCoin\",\"Eternity\",\"EuropeCoin\",\"Ethereum\",\"Eurocoin\",\"EUNO\",\"Exclusive Coin\",\"Expanse\",\"FairCoin\",\"Fiii\",\"Folding Coin\",\"BitFlip\",\"FrazCoin\",\"FreeCoin\",\"FREDEnergy\",\"Franko\",\"Francs\",\"FeatherCoin\",\"GAKHcoin\",\"Galilel\",\"Gamecredits\",\"GoldBlocks\",\"Genstake\",\"Giant\",\"GINcoin\",\"GoldCoin\",\"GanjaCoin V2\",\"GPU Coin\",\"GreenCoin\",\"GrowthCoin\",\"GunCoin\",\"Halloween Coin\",\"HoboNickels\",\"HerbCoin\",\"Hitcoin\",\"HollyWoodCoin\",\"I0coin\",\"ILCoin\",\"Impeach\",\"Independent Money System\",\"Impact\",\"InsaneCoin\",\"Insane Coin\",\"IOCoin\",\"Internet of People\",\"IslaCoin\",\"Interzone\",\"Junson Ming Chan Coin\",\"Kcash\",\"KEYCO\",\"Klingon Empire Darsek\",\"KekCoin\",\"Ketan\",\"Kalkulus\",\"KoboCoin\",\"Kore\",\"Karbo\",\"Kurrent\",\"LitecoinCash\",\"Linda\",\"Let it Ride\",\"Lithium\",\"LuckyCoin\",\"Loki\",\"LottoCoin\",\"Litebar \",\"Lethean\",\"LUXCoin\",\"Lynx\",\"Magnet\",\"MarsCoin \",\"My Big Coin\",\"1717 Masonic Commemorative Token\",\"MegaCoin\",\"MediterraneanCoin\",\"MedicCoin\",\"MinCoin\",\"MonaCoin\",\"MoonCoin\",\"MasterCoin\",\"MustangCoin\",\"MUNcoin\",\"Muse\",\"Nautilus Coin\",\"NavCoin\",\"Niobio Cash\",\"Gulden\",\"Nasdacoin\",\"Neutron\",\"Nexus\",\"NewYorkCoin\",\"Zealium\",\"OrangeCoin\",\"Obsidian\",\"Omni\",\"Ontology\",\"Onix\",\"OpalCoin\",\"Orbitcoin\",\"OsmiumCoin\",\"Oduwa\",\"Pakcoin\",\"Pioneer Coin\",\"Phreak\",\"Piggy Coin\",\"PinkCoin\",\"PLNCoin\",\"PlatinCoin\",\"PluraCoin\",\"PlusOneCoin\",\"PandaCoin\",\"PhantomX\",\"Poa Network\",\"PopularCoin\",\"Poseidon Quark\",\"PotCoin\",\"ProCurrency\",\"Proton\",\"Printerium\",\"PesoBit\",\"Poseidon\",\"Pura\",\"Pushi\",\"PutinCoin\",\"PhoenixCoin\",\"QuarkCoin\",\"Quantum Resistant Ledger\",\"Revenu\",\"Riecoin\",\"RenosCoin\",\"RootCoin\",\"Rupee\",\"Ryo\",\"SafeExchangeCoin\",\"StableCoin\",\"SibCoin\",\"Swisscoin\",\"StorjCoin\",\"SLICE\",\"SolarCoin\",\"SmartCash\",\"SoilCoin\",\"Sojourn Coin\",\"Song Coin\",\"SoonCoin\",\"Stipend\",\"ShareChain\",\"Stakecoin\",\"Sativa Coin\",\"SyncCoin\",\"TokenPay\",\"TerraCoin\",\"Travelflex\",\"Triangles Coin\",\"TruckCoin\",\"Trollcoin\",\"ThunderStake\",\"Titan Coin\",\"BitTube\",\"TrezarCoin\",\"Ucoin\",\"UFO Coin\",\"Unitus\",\"Universal Molecule\",\"Unify\",\"GameUnits\",\"Unobtanium\",\"Urals Coin\",\"UroCoin\",\"Ultimate Secure Cash\",\"Unified Society USDEX\",\"UltraCoin\",\"Vechain\",\"ViaCoin\",\"TheVig\",\"Vitae\",\"VIVO Coin\",\"VaultCoin\",\"Velox\",\"Vollar\",\"Vtorrent\",\"Virta Unique Coin\",\"Digiwage\",\"WorldCoin\",\"WomenCoin\",\"Crypti\",\"XDNA\",\"GoldReserve\",\"Xios\",\"JouleCoin\",\"LeviarCoin\",\"Monoeci\",\"MyriadCoin\",\"Opair\",\"Ratecoin\",\"Bitcoin Rhodium\",\"Stakenet\",\"StealthCoin\",\"Xt3ch\",\"UltraNote\",\"VirtacoinPlus\",\"Zilbercoin\",\"ZClassic\",\"ZCash\",\"ZEPHYR\",\"ZetaCoin\",\"Zoin\",\"ZayedCoin\"],\"TotalCoinSupply\":[\"314159265359\",\"92000000000\",\"42\",\"0\",\"1000000000\",\"52500000\",\"1000000000\",\"550000000\",\"100000000\",\"84000000\",\"300000000\",\"42000000\",\"28600000\",\"110290030\",\"500000000\",\"16768584\",\"420000000\",\"21000000\",\"262800000\",\"25000000\",\"21000000\",\"54256119\",\"64000000\",\"14788275.991\",\"42000000\",\"120000000\",\"30000000\",\"21000000\",\"5000000\",\"500000\",\"21000000\",\"21000000000\",\"200000000\",\"21000000\",\"30886000\",\"21000000\",\"50000000\",\"2158812800\",\"20000000000\",\"100262205\",\"21000000 \",\"1000000\",\"13140000\",\"1000000000\",\"6500000000\",\"160000000\",\"210000000\",\"50000000\",\"1200000000\",\"7600000000\",\"18000000\",\"13370000\",\"90000000\",\"185000000\",\"65789100\",\"48252000\",\"0\",\"19700000\",\"2000000000\",\"105000000\",\"21000000000\",\"48166000\",\"100000000\",\"90000000\",\"10638298\",\"4380000\",\"10000000\",\"100000000\",\"5060000\",\"21000000\",\"100000000\",\"22000000\",\"26205539\",\"280000000\",\"60000000\",\"850000000\",\"32000000\",\"0\",\"60000000\",\"384000000\",\"0\",\"20000000\",\"50000000\",\"0\",\"16906397\",\"0\",\"5000000000\",\"1000000000\",\"40000000\",\"20000000\",\"50000000\",\"8080000000\",\"11235813\",\"20000000\",\"336000000\",\"3315789\",\"19035999\",\"84000000\",\"50000000\",\"15000000\",\"5151000\",\"10500000\",\"72245700\",\"100000000\",\"221052632\",\"10000000000\",\"2000000000\",\"500000000\",\"1500000000\",\"120000000\",\"54000000\",\"26550000000\",\"26000000\",\"21000000\",\"2500000000\",\"21933333\",\"21212121\",\"110000000\",\"30000000\",\"30000000\",\"22000000\",\"21000000\",\"0\",\"23000000\",\"0\",\"1000000000\",\"18000000\",\"500000000\",\"21000000\",\"210000000\",\"20000000\",\"350000000\",\"12000000\",\"10000000\",\"228000000\",\"840000000\",\"50000000000\",\"33500000\",\"25228800\",\"20000000\",\"150000000\",\"18406979840\",\"1350000\",\"999481516\",\"60000000\",\"92000000000\",\"144000000\",\"33000000\",\"30000000\",\"1618033\",\"42000000\",\"200000000\",\"500000000\",\"10000000\",\"105120000\",\"384000000000\",\"619478\",\"3000000\",\"16600000\",\"18081806 \",\"16180000\",\"0\",\"336000000\",\"1680000000\",\"84000000\",\"68000000\",\"78000000\",\"0\",\"80000000\",\"200000000\",\"91388946\",\"616448\",\"1000000000\",\"1100000000\",\"0\",\"3770000\",\"2714286\",\"21000000\",\"182000000\",\"23000000\",\"30000000\",\"1000000000\",\"500000000\",\"38540000 \",\"600000518\",\"1000000000\",\"21000000\",\"32514916898\",\"50000000\",\"252460800\",\"4999999999\",\"650000000 \",\"420000000\",\"75000000000\",\"45000000\",\"20000000\",\"0\",\"21000000\",\"350000000\",\"25000000\",\"2000000000\",\"98000000\",\"247000000\",\"105000000\",\"222725000\",\"84000000\",\"34426423\",\"0\",\"24000000\",\"88188888\",\"2147483647\",\"250000000\",\"24000000\",\"10200000000\",\"500000000\",\"100000000\",\"98100000000\",\"5000000000\",\"30000000\",\"10500000000\",\"210240000\",\"21000000\",\"19340594\",\"10000000000\",\"61599965\",\"10000000\",\"1000\",\"25000000\",\"42000000\",\"100000000\",\"120000\",\"0\",\"900000000\",\"18000000000\",\"5000000000\",\"1000000000\",\"400000000\",\"20000000\",\"4000000000\",\"0\",\"105120001.44\",\"19276800\",\"13000000\",\"250000\",\"210000000\",\"0\",\"200084200\",\"232000000\",\"100000000\",\"86712634466\",\"23000000\",\"100000000\",\"100000000\",\"27000000\",\"1000000000\",\"124000000\",\"2100000000\",\"20000000\",\"120000000\",\"120000000\",\"265420800\",\"25000000000\",\"0\",\"366000000\",\"40000000\",\"21000000\",\"45000000\",\"54000000\",\"9507271\",\"2000000000\",\"74000000\",\"75000000\",\"2100000\",\"76500000\",\"0\",\"44000000\",\"85000000000\",\"100000000\",\"55000000\",\"21000000\",\"21000000\",\"2000000000\",\"169795588\",\"21000000\",\"9736000\"],\"TotalCoinsMined\":{\"__ndarray__\":\"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\",\"dtype\":\"float64\",\"shape\":[285]}},\"selected\":{\"id\":\"2734\"},\"selection_policy\":{\"id\":\"2770\"}},\"id\":\"2733\",\"type\":\"ColumnDataSource\"},{\"attributes\":{\"axis_label\":\"TotalCoinSupply\",\"bounds\":\"auto\",\"formatter\":{\"id\":\"2698\"},\"major_label_orientation\":\"horizontal\",\"ticker\":{\"id\":\"2681\"}},\"id\":\"2680\",\"type\":\"CategoricalAxis\"},{\"attributes\":{\"fill_alpha\":{\"value\":0.2},\"fill_color\":{\"value\":\"#d62628\"},\"line_alpha\":{\"value\":0.2},\"line_color\":{\"value\":\"#d62628\"},\"size\":{\"units\":\"screen\",\"value\":5.477225575051661},\"x\":{\"field\":\"TotalCoinsMined\"},\"y\":{\"field\":\"TotalCoinSupply\"}},\"id\":\"2757\",\"type\":\"Scatter\"},{\"attributes\":{\"source\":{\"id\":\"2733\"}},\"id\":\"2740\",\"type\":\"CDSView\"},{\"attributes\":{\"source\":{\"id\":\"2716\"}},\"id\":\"2723\",\"type\":\"CDSView\"},{\"attributes\":{\"fill_color\":{\"value\":\"#2ba02b\"},\"line_color\":{\"value\":\"#2ba02b\"},\"size\":{\"units\":\"screen\",\"value\":5.477225575051661},\"x\":{\"field\":\"TotalCoinsMined\"},\"y\":{\"field\":\"TotalCoinSupply\"}},\"id\":\"2736\",\"type\":\"Scatter\"}],\"root_ids\":[\"2659\"]},\"title\":\"Bokeh Application\",\"version\":\"2.0.2\"}};\n",
       "  var render_items = [{\"docid\":\"38dbac67-4ea0-4640-910f-1e7ec7219a25\",\"root_ids\":[\"2659\"],\"roots\":{\"2659\":\"cba79ad1-487f-4f99-ba22-28c36487ee66\"}}];\n",
       "  root.Bokeh.embed.embed_items_notebook(docs_json, render_items);\n",
       "  }\n",
       "if (root.Bokeh !== undefined) {\n",
       "    embed_document(root);\n",
       "  } else {\n",
       "    var attempts = 0;\n",
       "    var timer = setInterval(function(root) {\n",
       "      if (root.Bokeh !== undefined) {\n",
       "        clearInterval(timer);\n",
       "        embed_document(root);\n",
       "      } else if (document.readyState == \"complete\") {\n",
       "        attempts++;\n",
       "        if (attempts > 100) {\n",
       "          clearInterval(timer);\n",
       "          console.log(\"Bokeh: ERROR: Unable to run BokehJS code because BokehJS library is missing\");\n",
       "        }\n",
       "      }\n",
       "    }, 10, root)\n",
       "  }\n",
       "})(window);</script>"
      ],
      "text/plain": [
       ":NdOverlay   [Class]\n",
       "   :Scatter   [TotalCoinsMined]   (TotalCoinSupply,CoinName)"
      ]
     },
     "execution_count": 450,
     "metadata": {
      "application/vnd.holoviews_exec.v0+json": {
       "id": "2659"
      }
     },
     "output_type": "execute_result"
    }
   ],
   "source": [
    "clustered_df.hvplot.scatter(x=\"TotalCoinsMined\", y=\"TotalCoinSupply\", by=\"Class\", hover_cols=[\"CoinName\"])"
   ]
  },
  {
   "cell_type": "code",
   "execution_count": null,
   "metadata": {},
   "outputs": [],
   "source": []
  }
 ],
 "metadata": {
  "kernelspec": {
   "display_name": "PythonData",
   "language": "python",
   "name": "pythondata"
  },
  "language_info": {
   "codemirror_mode": {
    "name": "ipython",
    "version": 3
   },
   "file_extension": ".py",
   "mimetype": "text/x-python",
   "name": "python",
   "nbconvert_exporter": "python",
   "pygments_lexer": "ipython3",
   "version": "3.8.3"
  }
 },
 "nbformat": 4,
 "nbformat_minor": 4
}
